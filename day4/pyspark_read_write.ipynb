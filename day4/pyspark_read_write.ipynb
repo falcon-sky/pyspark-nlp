{
 "cells": [
  {
   "cell_type": "code",
   "execution_count": null,
   "outputs": [],
   "source": [
    "from pyspark.sql import SparkSession\n",
    "\n",
    "spark = SparkSession.builder.getOrCreate()\n"
   ],
   "metadata": {
    "collapsed": false,
    "pycharm": {
     "name": "#%%\n"
    }
   }
  },
  {
   "cell_type": "code",
   "execution_count": null,
   "outputs": [],
   "source": [
    "spark"
   ],
   "metadata": {
    "collapsed": false,
    "pycharm": {
     "name": "#%%\n"
    }
   }
  },
  {
   "cell_type": "code",
   "execution_count": null,
   "outputs": [],
   "source": [
    "# Reading from text file\n",
    "\n",
    "df_text = spark.read.text(\"data/bodies.txt\")\n",
    "\n",
    "df_text.head(4)"
   ],
   "metadata": {
    "collapsed": false,
    "pycharm": {
     "name": "#%%\n"
    }
   }
  },
  {
   "cell_type": "code",
   "execution_count": null,
   "outputs": [],
   "source": [
    "# Reading from CSV file\n",
    "\n",
    "df_csv = spark.read.csv(\"data/iris.csv\")\n",
    "\n",
    "df_csv.head(4)"
   ],
   "metadata": {
    "collapsed": false,
    "pycharm": {
     "name": "#%%\n"
    }
   }
  },
  {
   "cell_type": "code",
   "execution_count": null,
   "outputs": [],
   "source": [
    "# Reading From URL\n",
    "\n",
    "url = 'https://raw.githubusercontent.com/ramashanker/dataset/master/climate/India/India_Sub_Division_IMD_2017.csv'\n",
    "from pyspark import SparkFiles\n",
    "spark.sparkContext.addFile(url)\n",
    "df_url = spark.read.csv(\"file://\"+SparkFiles.get(\"India_Sub_Division_IMD_2017.csv\"), header=True, inferSchema= True)\n",
    "df_url.head(5)"
   ],
   "metadata": {
    "collapsed": false,
    "pycharm": {
     "name": "#%%\n"
    }
   }
  },
  {
   "cell_type": "code",
   "execution_count": null,
   "outputs": [],
   "source": [
    "import numpy as np\n",
    "import pandas as pd\n",
    "# Generate Data\n",
    "gender_category = ['M', 'F']\n",
    "gender_probs = [0.4, 0.6]\n",
    "def generate_dataset():\n",
    "    gender = np.random.choice(gender_category, p=gender_probs)\n",
    "    if gender == 'M':\n",
    "        height= np.random.normal(loc=140, scale=15, size=1);\n",
    "        weight = np.random.normal(loc=90, scale=10, size=1);\n",
    "        gender = 'Male'\n",
    "    else:\n",
    "        height = np.random.normal(loc=195, scale=10, size=1);\n",
    "        weight = np.random.normal(loc=60, scale=5, size=1);\n",
    "        gender = 'Female'\n",
    "    return int(height[0]),int(weight[0]),gender\n",
    "\n",
    "samples = pd.DataFrame([generate_dataset() for _ in range(50)],\n",
    "                  columns=['height','weight','gender'])\n",
    "samples.to_csv(\"data/population.csv\")\n",
    "spark_sample = spark.createDataFrame(samples)\n"
   ],
   "metadata": {
    "collapsed": false,
    "pycharm": {
     "name": "#%%\n"
    }
   }
  },
  {
   "cell_type": "code",
   "execution_count": null,
   "outputs": [],
   "source": [
    "#Write dataframe to csv by default its a part\n",
    "spark_sample.write.csv('data/part/Normalosa.csv')"
   ],
   "metadata": {
    "collapsed": false,
    "pycharm": {
     "name": "#%%\n"
    }
   }
  },
  {
   "cell_type": "code",
   "execution_count": null,
   "outputs": [],
   "source": [
    "# Write a Single file using Spark coalesce() & repartition()\n",
    "spark_sample.coalesce(1).write.csv(\"data/Normalosa.csv\")\n",
    "spark_sample.repartition(1).write.csv(\"data/Normalosa.csv\")\n",
    "\n",
    "\n",
    "\n"
   ],
   "metadata": {
    "collapsed": false,
    "pycharm": {
     "name": "#%%\n"
    }
   }
  }
 ],
 "metadata": {
  "kernelspec": {
   "name": "python3",
   "language": "python",
   "display_name": "Python 3"
  },
  "language_info": {
   "codemirror_mode": {
    "name": "ipython",
    "version": 3
   },
   "file_extension": ".py",
   "mimetype": "text/x-python",
   "name": "python",
   "nbconvert_exporter": "python",
   "pygments_lexer": "ipython3",
   "version": "3.7.6"
  }
 },
 "nbformat": 4,
 "nbformat_minor": 1
}