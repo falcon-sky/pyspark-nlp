{
 "cells": [
  {
   "cell_type": "markdown",
   "source": [
    "Unsuprvised learning"
   ],
   "metadata": {
    "collapsed": false,
    "pycharm": {
     "name": "#%% md\n"
    }
   }
  },
  {
   "cell_type": "code",
   "execution_count": 13,
   "outputs": [],
   "source": [
    "from pyspark.sql import SparkSession\n",
    "\n",
    "spark = SparkSession.builder.getOrCreate()"
   ],
   "metadata": {
    "collapsed": false,
    "pycharm": {
     "name": "#%%\n"
    }
   }
  },
  {
   "cell_type": "code",
   "execution_count": 14,
   "outputs": [
    {
     "name": "stdout",
     "output_type": "stream",
     "text": [
      "+---+------+------+------+\n",
      "|_c0|height|weight|gender|\n",
      "+---+------+------+------+\n",
      "|  0|   124|    71|  Male|\n",
      "|  1|   198|    53|Female|\n",
      "|  2|   197|    57|Female|\n",
      "|  3|   188|    61|Female|\n",
      "|  4|   134|    88|  Male|\n",
      "|  5|   112|    85|  Male|\n",
      "|  6|   197|    64|Female|\n",
      "|  7|   130|    94|  Male|\n",
      "|  8|   203|    56|Female|\n",
      "|  9|   139|    85|  Male|\n",
      "+---+------+------+------+\n",
      "only showing top 10 rows\n",
      "\n"
     ]
    }
   ],
   "source": [
    "df = spark.read.csv(\"data/population.csv\",inferSchema=True,header=True)\n",
    "df.show(10)"
   ],
   "metadata": {
    "collapsed": false,
    "pycharm": {
     "name": "#%%\n"
    }
   }
  },
  {
   "cell_type": "code",
   "execution_count": 15,
   "outputs": [
    {
     "name": "stdout",
     "output_type": "stream",
     "text": [
      "root\n",
      " |-- _c0: integer (nullable = true)\n",
      " |-- height: integer (nullable = true)\n",
      " |-- weight: integer (nullable = true)\n",
      " |-- gender: string (nullable = true)\n",
      "\n"
     ]
    }
   ],
   "source": [
    "df.printSchema()"
   ],
   "metadata": {
    "collapsed": false,
    "pycharm": {
     "name": "#%%\n"
    }
   }
  },
  {
   "cell_type": "code",
   "execution_count": 16,
   "outputs": [
    {
     "data": {
      "text/plain": "['_c0', 'height', 'weight', 'gender']"
     },
     "execution_count": 16,
     "metadata": {},
     "output_type": "execute_result"
    }
   ],
   "source": [
    "df.columns"
   ],
   "metadata": {
    "collapsed": false,
    "pycharm": {
     "name": "#%%\n"
    }
   }
  },
  {
   "cell_type": "code",
   "execution_count": 17,
   "outputs": [],
   "source": [
    "from pyspark.ml.feature import StringIndexer\n",
    "indexer=StringIndexer(inputCol='gender',outputCol='gender_id')\n",
    "indexed=indexer.fit(df).transform(df)"
   ],
   "metadata": {
    "collapsed": false,
    "pycharm": {
     "name": "#%%\n"
    }
   }
  },
  {
   "cell_type": "code",
   "execution_count": 18,
   "outputs": [
    {
     "name": "stdout",
     "output_type": "stream",
     "text": [
      "+------------+---------+\n",
      "|    features|gender_id|\n",
      "+------------+---------+\n",
      "|[124.0,71.0]|      1.0|\n",
      "|[198.0,53.0]|      0.0|\n",
      "|[197.0,57.0]|      0.0|\n",
      "|[188.0,61.0]|      0.0|\n",
      "|[134.0,88.0]|      1.0|\n",
      "+------------+---------+\n",
      "only showing top 5 rows\n",
      "\n"
     ]
    }
   ],
   "source": [
    "from pyspark.ml.feature import VectorAssembler\n",
    "assembler=VectorAssembler(inputCols=[\n",
    "    'height',\n",
    "    'weight'],outputCol='features')\n",
    "output=assembler.transform(indexed)\n",
    "output.select('features','gender_id').show(5)"
   ],
   "metadata": {
    "collapsed": false,
    "pycharm": {
     "name": "#%%\n"
    }
   }
  },
  {
   "cell_type": "code",
   "execution_count": 19,
   "outputs": [
    {
     "name": "stdout",
     "output_type": "stream",
     "text": [
      "+---+------+------+------+---------+------------+--------------------+\n",
      "|_c0|height|weight|gender|gender_id|    features|       features_norm|\n",
      "+---+------+------+------+---------+------------+--------------------+\n",
      "|  0|   124|    71|  Male|      1.0|[124.0,71.0]|[0.63589743589743...|\n",
      "|  1|   198|    53|Female|      0.0|[198.0,53.0]|[0.78884462151394...|\n",
      "|  2|   197|    57|Female|      0.0|[197.0,57.0]|[0.77559055118110...|\n",
      "|  3|   188|    61|Female|      0.0|[188.0,61.0]|[0.75502008032128...|\n",
      "|  4|   134|    88|  Male|      1.0|[134.0,88.0]|[0.60360360360360...|\n",
      "|  5|   112|    85|  Male|      1.0|[112.0,85.0]|[0.56852791878172...|\n",
      "|  6|   197|    64|Female|      0.0|[197.0,64.0]|[0.75478927203065...|\n",
      "|  7|   130|    94|  Male|      1.0|[130.0,94.0]|[0.58035714285714...|\n",
      "|  8|   203|    56|Female|      0.0|[203.0,56.0]|[0.78378378378378...|\n",
      "|  9|   139|    85|  Male|      1.0|[139.0,85.0]|[0.62053571428571...|\n",
      "| 10|   197|    59|Female|      0.0|[197.0,59.0]|[0.76953125,0.230...|\n",
      "| 11|   196|    55|Female|      0.0|[196.0,55.0]|[0.78087649402390...|\n",
      "| 12|   128|    90|  Male|      1.0|[128.0,90.0]|[0.58715596330275...|\n",
      "| 13|   113|    64|  Male|      1.0|[113.0,64.0]|[0.63841807909604...|\n",
      "| 14|   197|    57|Female|      0.0|[197.0,57.0]|[0.77559055118110...|\n",
      "| 15|   139|    98|  Male|      1.0|[139.0,98.0]|[0.58649789029535...|\n",
      "| 16|   184|    49|Female|      0.0|[184.0,49.0]|[0.78969957081545...|\n",
      "| 17|   166|    91|  Male|      1.0|[166.0,91.0]|[0.64591439688715...|\n",
      "| 18|   205|    62|Female|      0.0|[205.0,62.0]|[0.76779026217228...|\n",
      "| 19|   215|    59|Female|      0.0|[215.0,59.0]|[0.78467153284671...|\n",
      "+---+------+------+------+---------+------------+--------------------+\n",
      "only showing top 20 rows\n",
      "\n"
     ]
    }
   ],
   "source": [
    "from pyspark.ml.feature import Normalizer\n",
    "\n",
    "normalizer = Normalizer(inputCol=\"features\", outputCol=\"features_norm\", p=1.0)\n",
    "l1NormData = normalizer.transform(output)\n",
    "l1NormData.show()"
   ],
   "metadata": {
    "collapsed": false,
    "pycharm": {
     "name": "#%%\n"
    }
   }
  },
  {
   "cell_type": "code",
   "execution_count": 20,
   "outputs": [
    {
     "name": "stdout",
     "output_type": "stream",
     "text": [
      "+---+------+------+------+---------+------------+--------------------+\n",
      "|_c0|height|weight|gender|gender_id|    features|       features_norm|\n",
      "+---+------+------+------+---------+------------+--------------------+\n",
      "|  0|   124|    71|  Male|      1.0|[124.0,71.0]|[0.63589743589743...|\n",
      "|  1|   198|    53|Female|      0.0|[198.0,53.0]|[0.78884462151394...|\n",
      "|  2|   197|    57|Female|      0.0|[197.0,57.0]|[0.77559055118110...|\n",
      "|  3|   188|    61|Female|      0.0|[188.0,61.0]|[0.75502008032128...|\n",
      "|  5|   112|    85|  Male|      1.0|[112.0,85.0]|[0.56852791878172...|\n",
      "|  6|   197|    64|Female|      0.0|[197.0,64.0]|[0.75478927203065...|\n",
      "|  8|   203|    56|Female|      0.0|[203.0,56.0]|[0.78378378378378...|\n",
      "|  9|   139|    85|  Male|      1.0|[139.0,85.0]|[0.62053571428571...|\n",
      "| 10|   197|    59|Female|      0.0|[197.0,59.0]|[0.76953125,0.230...|\n",
      "| 11|   196|    55|Female|      0.0|[196.0,55.0]|[0.78087649402390...|\n",
      "| 13|   113|    64|  Male|      1.0|[113.0,64.0]|[0.63841807909604...|\n",
      "| 14|   197|    57|Female|      0.0|[197.0,57.0]|[0.77559055118110...|\n",
      "| 15|   139|    98|  Male|      1.0|[139.0,98.0]|[0.58649789029535...|\n",
      "| 17|   166|    91|  Male|      1.0|[166.0,91.0]|[0.64591439688715...|\n",
      "| 18|   205|    62|Female|      0.0|[205.0,62.0]|[0.76779026217228...|\n",
      "| 19|   215|    59|Female|      0.0|[215.0,59.0]|[0.78467153284671...|\n",
      "| 20|   194|    58|Female|      0.0|[194.0,58.0]|[0.76984126984126...|\n",
      "| 21|   167|    89|  Male|      1.0|[167.0,89.0]|[0.65234375,0.347...|\n",
      "| 23|   183|    42|Female|      0.0|[183.0,42.0]|[0.81333333333333...|\n",
      "| 24|   194|    62|Female|      0.0|[194.0,62.0]|[0.7578125,0.2421...|\n",
      "+---+------+------+------+---------+------------+--------------------+\n",
      "only showing top 20 rows\n",
      "\n"
     ]
    }
   ],
   "source": [
    "(train, test) = l1NormData.randomSplit([0.7, 0.3])\n",
    "train.show()"
   ],
   "metadata": {
    "collapsed": false,
    "pycharm": {
     "name": "#%%\n"
    }
   }
  },
  {
   "cell_type": "code",
   "execution_count": 21,
   "outputs": [
    {
     "name": "stdout",
     "output_type": "stream",
     "text": [
      "+---+------+------+------+---------+-------------+--------------------+\n",
      "|_c0|height|weight|gender|gender_id|     features|       features_norm|\n",
      "+---+------+------+------+---------+-------------+--------------------+\n",
      "|  4|   134|    88|  Male|      1.0| [134.0,88.0]|[0.60360360360360...|\n",
      "|  7|   130|    94|  Male|      1.0| [130.0,94.0]|[0.58035714285714...|\n",
      "| 12|   128|    90|  Male|      1.0| [128.0,90.0]|[0.58715596330275...|\n",
      "| 16|   184|    49|Female|      0.0| [184.0,49.0]|[0.78969957081545...|\n",
      "| 22|   132|   104|  Male|      1.0|[132.0,104.0]|[0.55932203389830...|\n",
      "| 25|   196|    71|Female|      0.0| [196.0,71.0]|[0.73408239700374...|\n",
      "| 30|   184|    60|Female|      0.0| [184.0,60.0]|[0.75409836065573...|\n",
      "| 36|   194|    68|Female|      0.0| [194.0,68.0]|[0.74045801526717...|\n",
      "| 43|   128|    88|  Male|      1.0| [128.0,88.0]|[0.59259259259259...|\n",
      "| 45|   143|    86|  Male|      1.0| [143.0,86.0]|[0.62445414847161...|\n",
      "| 49|   195|    61|Female|      0.0| [195.0,61.0]|[0.76171875,0.238...|\n",
      "+---+------+------+------+---------+-------------+--------------------+\n",
      "\n"
     ]
    }
   ],
   "source": [
    "test.show()"
   ],
   "metadata": {
    "collapsed": false,
    "pycharm": {
     "name": "#%%\n"
    }
   }
  },
  {
   "cell_type": "code",
   "execution_count": 22,
   "outputs": [],
   "source": [
    "from pyspark.ml.clustering import KMeans\n",
    "from pyspark.ml.evaluation import ClusteringEvaluator\n",
    "\n",
    "silhouette_scores=[]\n",
    "evaluator = ClusteringEvaluator(featuresCol='features', metricName='silhouette', distanceMeasure='squaredEuclidean')\n",
    "\n",
    "for K in range(2,11):\n",
    "\n",
    "    KMeans_=KMeans(featuresCol='features', k=K)\n",
    "\n",
    "    KMeans_fit=KMeans_.fit(train)\n",
    "\n",
    "    KMeans_transform=KMeans_fit.transform(train)\n",
    "\n",
    "    evaluation_score=evaluator.evaluate(KMeans_transform)\n",
    "\n",
    "    silhouette_scores.append(evaluation_score)\n"
   ],
   "metadata": {
    "collapsed": false,
    "pycharm": {
     "name": "#%%\n"
    }
   }
  },
  {
   "cell_type": "code",
   "execution_count": 23,
   "outputs": [
    {
     "data": {
      "text/plain": "Text(0, 0.5, 'Silhouette Score')"
     },
     "execution_count": 23,
     "metadata": {},
     "output_type": "execute_result"
    },
    {
     "data": {
      "text/plain": "<Figure size 720x576 with 1 Axes>",
      "image/png": "[encoded data removed]"
     },
     "metadata": {
      "needs_background": "light"
     },
     "output_type": "display_data"
    }
   ],
   "source": [
    "import matplotlib.pyplot as plt\n",
    "fig, ax = plt.subplots(1,1, figsize =(10,8))\n",
    "ax.plot(range(2,11),silhouette_scores)\n",
    "ax.set_xlabel('Number of Clusters')\n",
    "ax.set_ylabel('Silhouette Score')"
   ],
   "metadata": {
    "collapsed": false,
    "pycharm": {
     "name": "#%%\n"
    }
   }
  },
  {
   "cell_type": "code",
   "execution_count": 24,
   "outputs": [
    {
     "name": "stdout",
     "output_type": "stream",
     "text": [
      "+---+------+------+------+---------+-------------+--------------------+----------+\n",
      "|_c0|height|weight|gender|gender_id|     features|       features_norm|prediction|\n",
      "+---+------+------+------+---------+-------------+--------------------+----------+\n",
      "|  4|   134|    88|  Male|      1.0| [134.0,88.0]|[0.60360360360360...|         1|\n",
      "|  7|   130|    94|  Male|      1.0| [130.0,94.0]|[0.58035714285714...|         1|\n",
      "| 12|   128|    90|  Male|      1.0| [128.0,90.0]|[0.58715596330275...|         1|\n",
      "| 16|   184|    49|Female|      0.0| [184.0,49.0]|[0.78969957081545...|         0|\n",
      "| 22|   132|   104|  Male|      1.0|[132.0,104.0]|[0.55932203389830...|         1|\n",
      "| 25|   196|    71|Female|      0.0| [196.0,71.0]|[0.73408239700374...|         0|\n",
      "| 30|   184|    60|Female|      0.0| [184.0,60.0]|[0.75409836065573...|         0|\n",
      "| 36|   194|    68|Female|      0.0| [194.0,68.0]|[0.74045801526717...|         0|\n",
      "| 43|   128|    88|  Male|      1.0| [128.0,88.0]|[0.59259259259259...|         1|\n",
      "| 45|   143|    86|  Male|      1.0| [143.0,86.0]|[0.62445414847161...|         1|\n",
      "| 49|   195|    61|Female|      0.0| [195.0,61.0]|[0.76171875,0.238...|         0|\n",
      "+---+------+------+------+---------+-------------+--------------------+----------+\n",
      "\n"
     ]
    }
   ],
   "source": [
    "KMeans_=KMeans(featuresCol='features', k=2)\n",
    "KMeans_Model=KMeans_.fit(train)\n",
    "prediction=KMeans_Model.transform(test)\n",
    "prediction.show()"
   ],
   "metadata": {
    "collapsed": false,
    "pycharm": {
     "name": "#%%\n"
    }
   }
  },
  {
   "cell_type": "code",
   "execution_count": 24,
   "outputs": [],
   "source": [],
   "metadata": {
    "collapsed": false,
    "pycharm": {
     "name": "#%%\n"
    }
   }
  }
 ],
 "metadata": {
  "kernelspec": {
   "name": "pycharm-7bd40b95",
   "language": "python",
   "display_name": "PyCharm (pyspark-nlp)"
  },
  "language_info": {
   "codemirror_mode": {
    "name": "ipython",
    "version": 2
   },
   "file_extension": ".py",
   "mimetype": "text/x-python",
   "name": "python",
   "nbconvert_exporter": "python",
   "pygments_lexer": "ipython2",
   "version": "2.7.6"
  }
 },
 "nbformat": 4,
 "nbformat_minor": 0
}