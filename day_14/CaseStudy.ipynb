{
 "cells": [
  {
   "cell_type": "code",
   "execution_count": 3,
   "outputs": [],
   "source": [],
   "metadata": {
    "collapsed": false,
    "pycharm": {
     "name": "#%%\n"
    }
   }
  },
  {
   "cell_type": "markdown",
   "source": [
    "## An unusual village\n",
    "\n",
    "The inhabitants of Normlösa, a small village in the fertile plains of eastern Sweden, are infamous not only for\n",
    "their unscrupulous behavior but also because the males in the village are exceptionally short and stocky,\n",
    "while the female villagers tend to be tall and lean. Geneticists from nearby Linköping University have so far\n",
    "failed to come up with a credible explanation of this remarkable tendency.\n",
    "\n",
    "Write a Python function to generate the height and weight of a random inhabitant of Normlösa. Use the\n",
    "following process:\n",
    "\n",
    "first, randomly select the gender of the villager; the proportion of males in this village is about 40%\n",
    "\n",
    "then draw random numbers from a Gaussian distribution (normal distribution) for the height and weight of\n",
    "the person; for this, you might use the NumPy function np.random.normal(loc, scale).\n",
    "where loc is the and scale the standard deviation.\n",
    "\n",
    "for males, the mean height is 140 and the height standard deviation is 15; the mean weight is 90 and\n",
    "the weight standard deviation is 10;\n",
    "\n",
    "for females, the mean height is 195 and the height standard deviation is 10; the mean weight is 60\n",
    "and the weight standard deviation is 5.\n",
    "\n",
    "Generate a dataset consisting of height–weight pairs for 50 Normlösa inhabitants. Make a scatterplot of the\n",
    "height–weight data.\n"
   ],
   "metadata": {
    "collapsed": false
   }
  },
  {
   "cell_type": "raw",
   "source": [
    "Here in every trial or iteration is a discrete probability distribution of a random variable\n",
    "which is a Bernoulli distribution but every boolean we are generation normal random number based on\n",
    "height and weight ,which is a gauss random number (even distribution of mean of height and weight) .\n",
    "\n",
    "An unusual village\n",
    "# Randomly select the gender of the villager; the proportion of males in this village is about 40%. which is selcting male probability is 0.4 then women selecting probability 0.6\n",
    "# NumPy function np.random.normal(loc, scale), where loc is the mean and scale the standard\n",
    "# mean height is 140 and the height standard deviation is 15 for male\n",
    "# mean weight is 90 and the weight standard deviation is 10 for male.\n",
    "# mean height is 195  and the height standard deviation is 10 for female\n",
    "# mean weight is 60  and the weight standard deviation is 5 for female.\n",
    "# Generate a dataset consisting of height–weight pairs for 50 Normlösa inhabitants"
   ],
   "metadata": {
    "collapsed": false
   }
  },
  {
   "cell_type": "code",
   "execution_count": 4,
   "outputs": [
    {
     "name": "stdout",
     "output_type": "stream",
     "text": [
      "                 height               weight gender\n",
      "0   [165.2574696285979]   [92.4065182009705]      M\n",
      "1   [190.7446515216798]  [61.35330967046493]      F\n",
      "2   [196.9793533108163]  [56.11285952171834]      F\n",
      "3  [108.80013268259277]  [96.24363333122149]      M\n",
      "4  [181.92970714979995]  [61.66033527439865]      F\n"
     ]
    }
   ],
   "source": [
    "import pandas as pd\n",
    "import matplotlib.pyplot as plt  # basic plotting library\n",
    "import seaborn as sns  # additional plotting functions\n",
    "import numpy as np\n",
    "import scipy.stats as stats\n",
    "from sklearn.cluster import KMeans\n",
    "def generateVillageData(p_male):\n",
    "    data = []\n",
    "    for i in range(50):\n",
    "        if (np.random.random() < p_male):\n",
    "            hight_male = np.random.normal(loc=140, scale=15, size=1);\n",
    "            weight_male = np.random.normal(loc=90, scale=10, size=1);\n",
    "            data.append({'height': hight_male, 'weight': weight_male, 'gender': 'M'})\n",
    "        else:\n",
    "            hight_female = np.random.normal(loc=195, scale=10, size=1);\n",
    "            weight_female = np.random.normal(loc=60, scale=5, size=1);\n",
    "            data.append({'height': hight_female, 'weight': weight_female, 'gender': 'F'})\n",
    "    return data\n",
    "\n",
    "\n",
    "village_data = generateVillageData(0.4)\n",
    "df = pd.DataFrame(village_data)\n",
    "print(df.head())"
   ],
   "metadata": {
    "collapsed": false,
    "pycharm": {
     "name": "#%%\n"
    }
   }
  },
  {
   "cell_type": "markdown",
   "source": [
    "Here in the graph it shows that gender distribution based on height and weight ratio.\n",
    "The left-upper dots are male distribution (short and stocky) and right lower one female distribution (tall and lean)."
   ],
   "metadata": {
    "collapsed": false
   }
  },
  {
   "cell_type": "code",
   "execution_count": 5,
   "outputs": [
    {
     "data": {
      "text/plain": "Text(0, 0.5, 'Weight')"
     },
     "execution_count": 5,
     "metadata": {},
     "output_type": "execute_result"
    },
    {
     "data": {
      "text/plain": "<Figure size 576x288 with 1 Axes>",
      "image/png": "[encoded data removed]"
     },
     "metadata": {
      "needs_background": "light"
     },
     "output_type": "display_data"
    }
   ],
   "source": [
    "plt.figure(figsize=(8, 4));\n",
    "colors = (0, 0, 0)\n",
    "area = np.pi * 3\n",
    "plt.scatter(df['height'], df['weight'], s=area, color=['blue'], alpha=0.5)\n",
    "plt.title('Height and weight graph');\n",
    "plt.xlabel(\"Height\")\n",
    "plt.ylabel(\"Weight\")"
   ],
   "metadata": {
    "collapsed": false,
    "pycharm": {
     "name": "#%%\n"
    }
   }
  },
  {
   "cell_type": "code",
   "execution_count": 6,
   "outputs": [
    {
     "ename": "NameError",
     "evalue": "name 'ax1' is not defined",
     "output_type": "error",
     "traceback": [
      "\u001B[0;31m---------------------------------------------------------------------------\u001B[0m",
      "\u001B[0;31mNameError\u001B[0m                                 Traceback (most recent call last)",
      "\u001B[0;32m<ipython-input-6-feb925bb8248>\u001B[0m in \u001B[0;36m<module>\u001B[0;34m\u001B[0m\n\u001B[1;32m      1\u001B[0m \u001B[0;31m#The KDE plot with  female and male density.\u001B[0m\u001B[0;34m\u001B[0m\u001B[0;34m\u001B[0m\u001B[0;34m\u001B[0m\u001B[0m\n\u001B[1;32m      2\u001B[0m \u001B[0mplt\u001B[0m\u001B[0;34m.\u001B[0m\u001B[0mfigure\u001B[0m\u001B[0;34m(\u001B[0m\u001B[0mfigsize\u001B[0m\u001B[0;34m=\u001B[0m\u001B[0;34m(\u001B[0m\u001B[0;36m12\u001B[0m\u001B[0;34m,\u001B[0m \u001B[0;36m4\u001B[0m\u001B[0;34m)\u001B[0m\u001B[0;34m)\u001B[0m\u001B[0;34m;\u001B[0m\u001B[0;34m\u001B[0m\u001B[0;34m\u001B[0m\u001B[0m\n\u001B[0;32m----> 3\u001B[0;31m \u001B[0max1\u001B[0m \u001B[0;34m=\u001B[0m \u001B[0mplt\u001B[0m\u001B[0;34m.\u001B[0m\u001B[0msubplot\u001B[0m\u001B[0;34m(\u001B[0m\u001B[0;36m121\u001B[0m\u001B[0;34m,\u001B[0m \u001B[0msharey\u001B[0m\u001B[0;34m=\u001B[0m\u001B[0max1\u001B[0m\u001B[0;34m)\u001B[0m\u001B[0;34m;\u001B[0m\u001B[0;34m\u001B[0m\u001B[0;34m\u001B[0m\u001B[0m\n\u001B[0m\u001B[1;32m      4\u001B[0m \u001B[0mplt\u001B[0m\u001B[0;34m.\u001B[0m\u001B[0mtitle\u001B[0m\u001B[0;34m(\u001B[0m\u001B[0;34m'Height and weight graph with kde'\u001B[0m\u001B[0;34m)\u001B[0m\u001B[0;34m;\u001B[0m\u001B[0;34m\u001B[0m\u001B[0;34m\u001B[0m\u001B[0m\n\u001B[1;32m      5\u001B[0m \u001B[0msns\u001B[0m\u001B[0;34m.\u001B[0m\u001B[0mkdeplot\u001B[0m\u001B[0;34m(\u001B[0m\u001B[0mdf\u001B[0m\u001B[0;34m[\u001B[0m\u001B[0;34m'height'\u001B[0m\u001B[0;34m]\u001B[0m\u001B[0;34m,\u001B[0m \u001B[0mdf\u001B[0m\u001B[0;34m[\u001B[0m\u001B[0;34m'weight'\u001B[0m\u001B[0;34m]\u001B[0m\u001B[0;34m,\u001B[0m \u001B[0mshade\u001B[0m\u001B[0;34m=\u001B[0m\u001B[0;32mTrue\u001B[0m\u001B[0;34m)\u001B[0m\u001B[0;34m;\u001B[0m\u001B[0;34m\u001B[0m\u001B[0;34m\u001B[0m\u001B[0m\n",
      "\u001B[0;31mNameError\u001B[0m: name 'ax1' is not defined"
     ]
    },
    {
     "data": {
      "text/plain": "<Figure size 864x288 with 0 Axes>"
     },
     "metadata": {},
     "output_type": "display_data"
    }
   ],
   "source": [
    "#The KDE plot with  female and male density.\n",
    "plt.figure(figsize=(12, 4));\n",
    "ax1 = plt.subplot(121, sharey=ax1);\n",
    "plt.title('Height and weight graph with kde');\n",
    "sns.kdeplot(df['height'], df['weight'], shade=True);\n",
    "\n",
    "#The KDE plot with green colour female and red is male.\n",
    "\n",
    "ax2 = plt.subplot(122, sharey=ax1);\n",
    "men = df[df['gender'] == 'M'];\n",
    "women = df[df['gender'] == 'F']\n",
    "sns.kdeplot(men['height'], men['weight'], cmap='Reds')\n",
    "sns.kdeplot(women['height'], women['weight'], cmap='Greens');\n",
    "plt.title('Height and weight graph with spiral colour');\n",
    "\n",
    "\n",
    "#The correlation coeeficient for the data with height is negative\n",
    "print('data correlation for height and weight',stats.pearsonr(df['height'], df['weight']))"
   ],
   "metadata": {
    "collapsed": false,
    "pycharm": {
     "name": "#%%\n"
    }
   }
  },
  {
   "cell_type": "code",
   "execution_count": null,
   "outputs": [],
   "source": [
    "#2nd approad with choice\n",
    "\n",
    "gender_category = ['M', 'F']\n",
    "gender_probs = [0.4, 0.6]\n",
    "def generate_dataset():\n",
    "    gender = np.random.choice(gender_category, p=gender_probs)\n",
    "    if gender == 'M':\n",
    "        height= np.random.normal(loc=140, scale=15, size=1);\n",
    "        weight = np.random.normal(loc=90, scale=10, size=1);\n",
    "        gender = 'M'\n",
    "    else:\n",
    "        height = np.random.normal(loc=195, scale=10, size=1);\n",
    "        weight = np.random.normal(loc=60, scale=5, size=1);\n",
    "        gender = 'F'\n",
    "    return [height,weight,gender]\n",
    "\n",
    "samples = pd.DataFrame([generate_dataset() for _ in range(50)],\n",
    "                  columns=['height','weight','gender']).rename_axis('id', axis=0)\n",
    "\n",
    "plt.figure(figsize=(15, 4));\n",
    "ax1 = plt.subplot(121);\n",
    "#The KDE plot with  female and male density.\n",
    "plt.title('Height and weight graph with kde');\n",
    "sns.kdeplot(samples['height'], samples['weight'], shade=True);\n",
    "\n",
    "#The KDE plot with green colour female and red is male.\n",
    "\n",
    "ax2 = plt.subplot(122, sharey=ax1);\n",
    "men = samples[samples['gender'] == 'M'];\n",
    "women = samples[samples['gender'] == 'F']\n",
    "sns.kdeplot(men['height'], men['weight'], cmap='Reds')\n",
    "sns.kdeplot(women['height'], women['weight'], cmap='Greens');\n",
    "plt.title('Height and weight graph with spiral colour');\n"
   ],
   "metadata": {
    "collapsed": false,
    "pycharm": {
     "name": "#%%\n"
    }
   }
  },
  {
   "cell_type": "markdown",
   "source": [
    "Let's pretend for a moment that you have been given the datapoints (the list of height–weight pairs) but you\n",
    "have no information about how they were generated. Could you think of a way to reconstruct the parameters\n",
    "you used in the code previously? For example, that the proportion of males is 40%, that the mean weight of\n",
    "a female is 60 kilograms, etc. (NB: this question should be easy if you have taken the course Introduction to\n",
    "data science. As an optional task, you may write code to reconstruct these parameters using the methods\n",
    "presented there. If you haven't taken that course, and have no idea how to answer the question, please\n",
    "discuss with the lab instructor.)\n",
    "\n",
    "Formally, these data points are generated using a Gaussian mixture model. We will come back to this\n",
    "model and study it more extensively in later lectures.\n",
    "\n",
    "Here i have generated the data set with given mean (height and weight) without giving the category of female and male."
   ],
   "metadata": {
    "collapsed": false
   }
  },
  {
   "cell_type": "code",
   "execution_count": null,
   "outputs": [],
   "source": [
    "from scipy.cluster.hierarchy import dendrogram, linkage\n",
    "from scipy.cluster.hierarchy import cophenet\n",
    "from scipy.spatial.distance import pdist\n",
    "\n",
    "def generateData(p_male):\n",
    "    data = []\n",
    "    for i in range(50):\n",
    "        if (np.random.random() < p_male):\n",
    "            hight= np.random.normal(loc=140, scale=15, size=1);\n",
    "            weight = np.random.normal(loc=90, scale=10, size=1);\n",
    "            data.append({'height': hight, 'weight': weight})\n",
    "        else:\n",
    "            hight = np.random.normal(loc=195, scale=10, size=1);\n",
    "            weight = np.random.normal(loc=60, scale=5, size=1);\n",
    "            data.append({'height': hight, 'weight': weight})\n",
    "    return data\n",
    "\n",
    "\n",
    "village_data = generateData(0.4)\n",
    "\n"
   ],
   "metadata": {
    "collapsed": false,
    "pycharm": {
     "name": "#%%\n"
    }
   }
  },
  {
   "cell_type": "raw",
   "source": [
    "Plotting the scatter graph with generated data set"
   ],
   "metadata": {
    "collapsed": false
   }
  },
  {
   "cell_type": "code",
   "execution_count": null,
   "outputs": [],
   "source": [
    "dataframe = pd.DataFrame(village_data)\n",
    "plt.scatter(dataframe['height'], dataframe['weight'])\n",
    "plt.title('Height and weight graph without custer');\n",
    "plt.xlabel(\"Height\")\n",
    "plt.ylabel(\"Weight\")"
   ],
   "metadata": {
    "collapsed": false,
    "pycharm": {
     "name": "#%%\n"
    }
   }
  },
  {
   "cell_type": "markdown",
   "source": [
    "First i need to find the number of cluster possible in given data set.With visual alson we can see that\n",
    "there is two clear cluster possible in the given graph.\n",
    "\n",
    "Similarly i am verifying this using kmean algorithm.\n",
    "Determine the number of cluster possible in given data set using elbow method which provide"
   ],
   "metadata": {
    "collapsed": false
   }
  },
  {
   "cell_type": "code",
   "execution_count": null,
   "outputs": [],
   "source": [
    "#2nd approad with choice\n",
    "\n",
    "gender_category = ['M', 'F']\n",
    "gender_probs = [0.4, 0.6]\n",
    "def generate_dataset():\n",
    "    gender = np.random.choice(gender_category, p=gender_probs)\n",
    "    if gender == 'M':\n",
    "        height= np.random.normal(loc=140, scale=15, size=1);\n",
    "        weight = np.random.normal(loc=90, scale=10, size=1);\n",
    "        gender = 'M'\n",
    "    else:\n",
    "        height = np.random.normal(loc=195, scale=10, size=1);\n",
    "        weight = np.random.normal(loc=60, scale=5, size=1);\n",
    "        gender = 'F'\n",
    "    return [height,weight,gender]\n",
    "\n",
    "samples = pd.DataFrame([generate_dataset() for _ in range(50)],\n",
    "                  columns=['height','weight','gender']).rename_axis('id', axis=0)\n",
    "\n",
    "samples.head(50)"
   ],
   "metadata": {
    "collapsed": false,
    "pycharm": {
     "name": "#%%\n"
    }
   }
  },
  {
   "cell_type": "code",
   "execution_count": null,
   "outputs": [],
   "source": [
    "plt.figure(figsize=(15, 4));\n",
    "ax1 = plt.subplot(121);\n",
    "#The KDE plot with  female and male density.\n",
    "plt.title('Height and weight graph with kde');\n",
    "sns.kdeplot(samples['height'], samples['weight'], shade=True);\n",
    "\n",
    "#The KDE plot with green colour female and red is male.\n",
    "\n",
    "ax2 = plt.subplot(122, sharey=ax1);\n",
    "men = samples[samples['gender'] == 'M'];\n",
    "women = samples[samples['gender'] == 'F']\n",
    "sns.kdeplot(men['height'], men['weight'], cmap='Reds')\n",
    "sns.kdeplot(women['height'], women['weight'], cmap='Greens');\n",
    "plt.title('Height and weight graph with spiral colour');"
   ],
   "metadata": {
    "collapsed": false,
    "pycharm": {
     "name": "#%%\n"
    }
   }
  },
  {
   "cell_type": "code",
   "execution_count": null,
   "outputs": [],
   "source": [
    "for i in range(2):\n",
    "    print(i)\n",
    "    ax = plt.subplots();\n",
    "    if i==0:\n",
    "        men = samples[samples['gender'] == 'M'];\n",
    "        sns.kdeplot(men['height'], men['weight'], cmap='Reds')\n",
    "    if i==1:\n",
    "        women = samples[samples['gender'] == 'F']\n",
    "        sns.kdeplot(women['height'], women['weight'], cmap='Greens');\n",
    "    plt.title('Height and weight graph  colour');"
   ],
   "metadata": {
    "collapsed": false,
    "pycharm": {
     "name": "#%%\n"
    }
   }
  },
  {
   "cell_type": "code",
   "execution_count": null,
   "outputs": [],
   "source": [
    "cmaps = ['Reds', 'Blues', 'Greens', 'Greys']\n",
    "\n",
    "np.random.seed(0)\n",
    "for i, cmap in enumerate(cmaps):\n",
    "    offset = 3 * i\n",
    "    x = np.random.normal(offset, size=100)\n",
    "    y = np.random.normal(offset, size=100)\n",
    "    label = 'Offset {}'.format(offset)\n",
    "    sns.kdeplot(x, y, cmap=cmaps[i]+'_d', label=label)\n",
    "plt.title('Normal distributions with offsets')\n",
    "plt.legend(loc='upper left')\n",
    "plt.show()\n"
   ],
   "metadata": {
    "collapsed": false,
    "pycharm": {
     "name": "#%%\n"
    }
   }
  },
  {
   "cell_type": "raw",
   "source": [
    "Here i have generated the data set with given mean (height and weight) without giving the category of female and male.\n"
   ],
   "metadata": {
    "collapsed": false
   }
  },
  {
   "cell_type": "code",
   "execution_count": null,
   "outputs": [],
   "source": [
    "from scipy.cluster.hierarchy import dendrogram, linkage\n",
    "from scipy.cluster.hierarchy import cophenet\n",
    "from scipy.spatial.distance import pdist\n",
    "\n",
    "def generateData(p_male):\n",
    "    data = []\n",
    "    for i in range(50):\n",
    "        if (np.random.random() < p_male):\n",
    "            hight= np.random.normal(loc=140, scale=15, size=1);\n",
    "            weight = np.random.normal(loc=90, scale=10, size=1);\n",
    "            data.append({'height': hight, 'weight': weight})\n",
    "        else:\n",
    "            hight = np.random.normal(loc=195, scale=10, size=1);\n",
    "            weight = np.random.normal(loc=60, scale=5, size=1);\n",
    "            data.append({'height': hight, 'weight': weight})\n",
    "    return data\n",
    "\n",
    "\n",
    "village_data = generateData(0.4)"
   ],
   "metadata": {
    "collapsed": false,
    "pycharm": {
     "name": "#%%\n"
    }
   }
  },
  {
   "cell_type": "raw",
   "source": [
    "Plotting the scatter graph with generated data set"
   ],
   "metadata": {
    "collapsed": false
   }
  },
  {
   "cell_type": "code",
   "execution_count": null,
   "outputs": [],
   "source": [
    "dataframe = pd.DataFrame(village_data)\n",
    "\n",
    "plt.scatter(dataframe['height'], dataframe['weight'])\n",
    "plt.title('Height and weight graph without custer');\n",
    "plt.xlabel(\"Height\")\n",
    "plt.ylabel(\"Weight\")"
   ],
   "metadata": {
    "collapsed": false,
    "pycharm": {
     "name": "#%%\n"
    }
   }
  },
  {
   "cell_type": "raw",
   "source": [
    "First i need to find the number of cluster possible in given data set.With visual alson we can see that there is two clear cluster possible in the given graph.\n",
    "\n",
    "Similarly i am verifying this using kmean algorithm.\n",
    "Determine the number of cluster possible in given data set using elbow method which provide\n"
   ],
   "metadata": {
    "collapsed": false
   }
  },
  {
   "cell_type": "code",
   "execution_count": null,
   "outputs": [],
   "source": [
    "wcss = []\n",
    "for i in range(1, 11):\n",
    "    kmeans = KMeans(n_clusters=i, init='k-means++', max_iter=50, n_init=10, random_state=0).fit(dataframe)\n",
    "    wcss.append(kmeans.inertia_)\n",
    "\n",
    "plt.plot(range(1, 11), wcss)\n",
    "plt.title('Elbow Method')\n",
    "plt.xlabel('Number of clusters')\n",
    "plt.ylabel('WCSS')"
   ],
   "metadata": {
    "collapsed": false,
    "pycharm": {
     "name": "#%%\n"
    }
   }
  },
  {
   "cell_type": "raw",
   "source": [
    "Plotting cluster center point with red colour in the center using kmean algorithm.\n",
    "Where center axis pont calculated based on optimal distance from each point of the cluster"
   ],
   "metadata": {
    "collapsed": false
   }
  },
  {
   "cell_type": "code",
   "execution_count": null,
   "outputs": [],
   "source": [
    "kmeans = KMeans(n_clusters=2, random_state=0)\n",
    "pred_y = kmeans.fit_predict(dataframe)\n",
    "print(kmeans.cluster_centers_[:, 0])\n",
    "print(kmeans.cluster_centers_[:, 1])\n",
    "plt.scatter(dataframe['height'], dataframe['weight'])\n",
    "plt.scatter(kmeans.cluster_centers_[:, 0], kmeans.cluster_centers_[:, 1], s=50, c='red')"
   ],
   "metadata": {
    "collapsed": false,
    "pycharm": {
     "name": "#%%\n"
    }
   }
  },
  {
   "cell_type": "raw",
   "source": [
    "The center point of cluster is given as mean [height  weight] of male and feamle.Which is aproximately same to the above cetroid of the cluster."
   ],
   "metadata": {
    "collapsed": false
   }
  },
  {
   "cell_type": "code",
   "execution_count": null,
   "outputs": [],
   "source": [
    "kmeans = KMeans(n_clusters=2, random_state=0)\n",
    "pred_y = kmeans.fit_predict(dataframe)\n",
    "female_male_mean_height=[195,140]\n",
    "female_male_mean_weight=[60,90]\n",
    "plt.scatter(dataframe['height'], dataframe['weight'])\n",
    "plt.scatter(female_male_mean_height, female_male_mean_weight, s=50, c='red')\n"
   ],
   "metadata": {
    "collapsed": false,
    "pycharm": {
     "name": "#%%\n"
    }
   }
  }
 ],
 "metadata": {
  "kernelspec": {
   "name": "pycharm-7bd40b95",
   "language": "python",
   "display_name": "PyCharm (pyspark-nlp)"
  },
  "language_info": {
   "codemirror_mode": {
    "name": "ipython",
    "version": 2
   },
   "file_extension": ".py",
   "mimetype": "text/x-python",
   "name": "python",
   "nbconvert_exporter": "python",
   "pygments_lexer": "ipython2",
   "version": "2.7.6"
  }
 },
 "nbformat": 4,
 "nbformat_minor": 0
}