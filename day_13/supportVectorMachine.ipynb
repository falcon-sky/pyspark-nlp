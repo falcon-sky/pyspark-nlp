{
 "cells": [
  {
   "cell_type": "code",
   "execution_count": 1,
   "outputs": [
    {
     "data": {
      "text/plain": "                                                text label\n0  bought album loved title song 's great song ba...   neg\n1  misled thought buying entire cd contains one song   neg\n2  introduced many ell high school students lois ...   neg\n3  anything purchase left behind series excellent...   pos\n4  loved movies cant wiat third one funny not sui...   pos",
      "text/html": "<div>\n<style scoped>\n    .dataframe tbody tr th:only-of-type {\n        vertical-align: middle;\n    }\n\n    .dataframe tbody tr th {\n        vertical-align: top;\n    }\n\n    .dataframe thead th {\n        text-align: right;\n    }\n</style>\n<table border=\"1\" class=\"dataframe\">\n  <thead>\n    <tr style=\"text-align: right;\">\n      <th></th>\n      <th>text</th>\n      <th>label</th>\n    </tr>\n  </thead>\n  <tbody>\n    <tr>\n      <th>0</th>\n      <td>bought album loved title song 's great song ba...</td>\n      <td>neg</td>\n    </tr>\n    <tr>\n      <th>1</th>\n      <td>misled thought buying entire cd contains one song</td>\n      <td>neg</td>\n    </tr>\n    <tr>\n      <th>2</th>\n      <td>introduced many ell high school students lois ...</td>\n      <td>neg</td>\n    </tr>\n    <tr>\n      <th>3</th>\n      <td>anything purchase left behind series excellent...</td>\n      <td>pos</td>\n    </tr>\n    <tr>\n      <th>4</th>\n      <td>loved movies cant wiat third one funny not sui...</td>\n      <td>pos</td>\n    </tr>\n  </tbody>\n</table>\n</div>"
     },
     "execution_count": 1,
     "metadata": {},
     "output_type": "execute_result"
    }
   ],
   "source": [
    "from sklearn.feature_extraction.text import TfidfVectorizer\n",
    "import pandas as pd\n",
    "import numpy as np\n",
    "from sklearn.model_selection import train_test_split\n",
    "\n",
    "df = pd.read_csv('data/sentiment_set.csv')\n",
    "df = df[['text', 'label']]\n",
    "df.head()"
   ],
   "metadata": {
    "collapsed": false,
    "pycharm": {
     "name": "#%%\n"
    }
   }
  },
  {
   "cell_type": "code",
   "execution_count": 2,
   "outputs": [
    {
     "name": "stdout",
     "output_type": "stream",
     "text": [
      "Train data samples: 10722\n",
      "Test data samples: 1192\n"
     ]
    }
   ],
   "source": [
    "X_train, X_test, y_train, y_test = train_test_split(df.text, df.label, test_size=0.1, random_state=37)\n",
    "print('Train data samples:', X_train.shape[0])\n",
    "print('Test data samples:', X_test.shape[0])"
   ],
   "metadata": {
    "collapsed": false,
    "pycharm": {
     "name": "#%%\n"
    }
   }
  },
  {
   "cell_type": "code",
   "execution_count": 3,
   "outputs": [
    {
     "name": "stdout",
     "output_type": "stream",
     "text": [
      "Train data samples: 9649\n",
      "Test data samples: 1073\n"
     ]
    }
   ],
   "source": [
    "X_train_rest, X_val, y_train_rest, y_val = train_test_split(X_train, y_train, test_size=0.1, random_state=37)\n",
    "print('Train data samples:', X_train_rest.shape[0])\n",
    "print('Test data samples:', X_val.shape[0])"
   ],
   "metadata": {
    "collapsed": false,
    "pycharm": {
     "name": "#%%\n"
    }
   }
  },
  {
   "cell_type": "code",
   "execution_count": 4,
   "outputs": [],
   "source": [
    "# Create feature vectors\n",
    "vectorizer = TfidfVectorizer(sublinear_tf = True,use_idf = True)\n",
    "train_vectors = vectorizer.fit_transform(X_train_rest)\n"
   ],
   "metadata": {
    "collapsed": false,
    "pycharm": {
     "name": "#%%\n"
    }
   }
  },
  {
   "cell_type": "code",
   "execution_count": 5,
   "outputs": [
    {
     "data": {
      "text/plain": "SVC(C=1.0, break_ties=False, cache_size=200, class_weight=None, coef0=0.0,\n    decision_function_shape='ovr', degree=3, gamma='scale', kernel='linear',\n    max_iter=-1, probability=False, random_state=None, shrinking=True,\n    tol=0.001, verbose=False)"
     },
     "execution_count": 5,
     "metadata": {},
     "output_type": "execute_result"
    }
   ],
   "source": [
    "import time\n",
    "from sklearn import svm\n",
    "from sklearn.metrics import classification_report\n",
    "# Perform classification with SVM, kernel=linear\n",
    "classifier_linear = svm.SVC(kernel='linear')\n",
    "classifier_linear.fit(train_vectors, y_train_rest)"
   ],
   "metadata": {
    "collapsed": false,
    "pycharm": {
     "name": "#%%\n"
    }
   }
  },
  {
   "cell_type": "code",
   "execution_count": 6,
   "outputs": [
    {
     "name": "stdout",
     "output_type": "stream",
     "text": [
      "positive:  {'precision': 0.8409475465313029, 'recall': 0.8283333333333334, 'f1-score': 0.834592779177162, 'support': 600}\n",
      "negative:  {'precision': 0.8286189683860233, 'recall': 0.8412162162162162, 'f1-score': 0.8348700754400671, 'support': 592}\n",
      "Accuracy text: 0.834731543624161\n"
     ]
    }
   ],
   "source": [
    "# Predict test data set\n",
    "test_vectors = vectorizer.transform(X_test)\n",
    "prediction_linear = classifier_linear.predict(test_vectors)\n",
    "report = classification_report(y_test, prediction_linear, output_dict=True)\n",
    "print('positive: ', report['pos'])\n",
    "print('negative: ', report['neg'])\n",
    "print(\"Accuracy text:\",report['accuracy'])"
   ],
   "metadata": {
    "collapsed": false,
    "pycharm": {
     "name": "#%%\n"
    }
   }
  },
  {
   "cell_type": "code",
   "execution_count": 7,
   "outputs": [
    {
     "name": "stdout",
     "output_type": "stream",
     "text": [
      "positive:  {'precision': 0.849290780141844, 'recall': 0.8853974121996303, 'f1-score': 0.8669683257918552, 'support': 541}\n",
      "negative:  {'precision': 0.8781925343811395, 'recall': 0.8402255639097744, 'f1-score': 0.8587896253602306, 'support': 532}\n",
      "Accuracy val:  0.8630009319664492\n"
     ]
    }
   ],
   "source": [
    "#Predict validation data set\n",
    "val_vectors = vectorizer.transform(X_val)\n",
    "prediction_linear = classifier_linear.predict(val_vectors)\n",
    "report = classification_report(y_val, prediction_linear, output_dict=True)\n",
    "print('positive: ', report['pos'])\n",
    "print('negative: ', report['neg'])\n",
    "print(\"Accuracy val: \",report['accuracy'])\n"
   ],
   "metadata": {
    "collapsed": false,
    "pycharm": {
     "name": "#%%\n"
    }
   }
  }
 ],
 "metadata": {
  "kernelspec": {
   "name": "pycharm-7bd40b95",
   "language": "python",
   "display_name": "PyCharm (pyspark-nlp)"
  },
  "language_info": {
   "codemirror_mode": {
    "name": "ipython",
    "version": 2
   },
   "file_extension": ".py",
   "mimetype": "text/x-python",
   "name": "python",
   "nbconvert_exporter": "python",
   "pygments_lexer": "ipython2",
   "version": "2.7.6"
  }
 },
 "nbformat": 4,
 "nbformat_minor": 0
}