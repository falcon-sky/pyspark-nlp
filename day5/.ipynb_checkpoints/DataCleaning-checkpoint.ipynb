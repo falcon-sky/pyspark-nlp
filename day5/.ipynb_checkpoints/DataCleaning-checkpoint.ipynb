{
 "cells": [
  {
   "cell_type": "code",
   "execution_count": 1,
   "metadata": {
    "pycharm": {
     "name": "#%%\n"
    }
   },
   "outputs": [],
   "source": [
    "from pyspark.sql import SparkSession\n",
    "\n",
    "spark = SparkSession.builder.getOrCreate()\n"
   ]
  },
  {
   "cell_type": "code",
   "execution_count": 2,
   "metadata": {
    "pycharm": {
     "name": "#%%\n"
    }
   },
   "outputs": [
    {
     "data": {
      "text/html": [
       "\n",
       "            <div>\n",
       "                <p><b>SparkSession - in-memory</b></p>\n",
       "                \n",
       "        <div>\n",
       "            <p><b>SparkContext</b></p>\n",
       "\n",
       "            <p><a href=\"http://192.168.0.5:4047\">Spark UI</a></p>\n",
       "\n",
       "            <dl>\n",
       "              <dt>Version</dt>\n",
       "                <dd><code>v3.2.0</code></dd>\n",
       "              <dt>Master</dt>\n",
       "                <dd><code>local[*]</code></dd>\n",
       "              <dt>AppName</dt>\n",
       "                <dd><code>pyspark-shell</code></dd>\n",
       "            </dl>\n",
       "        </div>\n",
       "        \n",
       "            </div>\n",
       "        "
      ],
      "text/plain": [
       "<pyspark.sql.session.SparkSession at 0x7f341c55d410>"
      ]
     },
     "execution_count": 2,
     "metadata": {},
     "output_type": "execute_result"
    }
   ],
   "source": [
    "spark"
   ]
  },
  {
   "cell_type": "code",
   "execution_count": 7,
   "metadata": {
    "pycharm": {
     "name": "#%%\n"
    }
   },
   "outputs": [
    {
     "name": "stderr",
     "output_type": "stream",
     "text": [
      "/home/aa100418/anaconda3/lib/python3.7/site-packages/pyspark/sql/context.py:79: FutureWarning: Deprecated in 3.0.0. Use SparkSession.builder.getOrCreate() instead.\n",
      "  FutureWarning\n"
     ]
    }
   ],
   "source": [
    "from pyspark.sql import SQLContext\n",
    "from pyspark.sql.types import *\n",
    "sqlContext = SQLContext(spark)"
   ]
  },
  {
   "cell_type": "code",
   "execution_count": 21,
   "metadata": {
    "pycharm": {
     "name": "#%%\n"
    }
   },
   "outputs": [
    {
     "name": "stdout",
     "output_type": "stream",
     "text": [
      "+--------------+---------+--------------------+-------+-----+\n",
      "|          Last|    First|            Position| Salary|Hired|\n",
      "+--------------+---------+--------------------+-------+-----+\n",
      "|           Lew|    Allen|  City Administrator| 295000| 2004|\n",
      "|       Sessoms|    Allen|           President| 295000| 2008|\n",
      "|     HENDERSON|KAYATANYA|Superintendent Of...| 275000| 2007|\n",
      "|        Lanier|    Cathy|               Chief| 230743| 1990|\n",
      "|         Arons|  Bernard|                null| 206000| 2008|\n",
      "|       Ritchie|  Elspeth|Medical Officer P...| 206000| 2010|\n",
      "|          GRAY|     null|               Mayor| 200000| 2005|\n",
      "|      Marshall|Katherine|Medical Officer P...| 200000| 2008|\n",
      "|        Gandhi|   Natwar|Chief Financial O...| 199700| 1997|\n",
      "|        DUNCAN|  LORETTA|Workers Compensat...| 197808| 1984|\n",
      "|        Baxter|     null|Act Provost & Vp ...| 196257| null|\n",
      "|    Miramontes|    David|    Medical Director| 193125| 2011|\n",
      "|        Graves|   Warren|      Chief Of Staff| 193125| 2011|\n",
      "|          null|     Eric|  Executive Director| 193125| 2007|\n",
      "|         Jones|    Tyler|Medical Officer P...| 190550| 2008|\n",
      "|         BROWN|    KWAME|            Chairman| 190000| 2005|\n",
      "|          Eure|   Philip|  Executive Director| 188692| 2000|\n",
      "|        Cooper|   Ginnie|  Executive Director| 188044| 2006|\n",
      "|         Yadao|    Nilda|Medical Officer (...| 188027| 1987|\n",
      "|       Ellerbe|  Kenneth|          Fire Chief| 187302| 2003|\n",
      "|        Ruland|  Jeffrey|Dir Of The Ctr Fo...| 186911| 2009|\n",
      "|        Parker|    Craig|     General Counsel|1869118| 2009|\n",
      "|        Farley|     Mark| Vp, Human Resources| 186911| 2008|\n",
      "|         Otero|  Beatriz|                null| 185000| 2011|\n",
      "|       Quander|     Paul|        Deputy Mayor| 185000| 2009|\n",
      "|  Pierre Louis|    Marie|Chief Medical Exa...| 185000| 1985|\n",
      "|      Pestaner|   Joseph|Medical Officer (...| 183892| null|\n",
      "|     Revercomb|  Carolyn|Medical Officer (...| 183892| 2005|\n",
      "|Morgan Johnson|   Sheila|Chief Investment ...| 183677| 1991|\n",
      "|    Williamson|  Michael|     Deputy Director|  18200| 2011|\n",
      "+--------------+---------+--------------------+-------+-----+\n",
      "only showing top 30 rows\n",
      "\n"
     ]
    }
   ],
   "source": [
    "df = sqlContext.read.load('data/Salaries_cleaning.csv',\n",
    "                      format='com.databricks.spark.csv',\n",
    "                      header='true',\n",
    "                      inferSchema='true')\n",
    "df.show(30)"
   ]
  },
  {
   "cell_type": "markdown",
   "metadata": {
    "pycharm": {
     "name": "#%% md\n"
    }
   },
   "source": [
    " #Handeling empty or null value:"
   ]
  },
  {
   "cell_type": "code",
   "execution_count": 22,
   "metadata": {
    "pycharm": {
     "name": "#%%\n"
    }
   },
   "outputs": [
    {
     "name": "stdout",
     "output_type": "stream",
     "text": [
      "+----------+---------+--------------------+-------+-----+\n",
      "|      Last|    First|            Position| Salary|Hired|\n",
      "+----------+---------+--------------------+-------+-----+\n",
      "|       Lew|    Allen|  City Administrator| 295000| 2004|\n",
      "|   Sessoms|    Allen|           President| 295000| 2008|\n",
      "| HENDERSON|KAYATANYA|Superintendent Of...| 275000| 2007|\n",
      "|    Lanier|    Cathy|               Chief| 230743| 1990|\n",
      "|   Ritchie|  Elspeth|Medical Officer P...| 206000| 2010|\n",
      "|  Marshall|Katherine|Medical Officer P...| 200000| 2008|\n",
      "|    Gandhi|   Natwar|Chief Financial O...| 199700| 1997|\n",
      "|    DUNCAN|  LORETTA|Workers Compensat...| 197808| 1984|\n",
      "|Miramontes|    David|    Medical Director| 193125| 2011|\n",
      "|    Graves|   Warren|      Chief Of Staff| 193125| 2011|\n",
      "|     Jones|    Tyler|Medical Officer P...| 190550| 2008|\n",
      "|     BROWN|    KWAME|            Chairman| 190000| 2005|\n",
      "|      Eure|   Philip|  Executive Director| 188692| 2000|\n",
      "|    Cooper|   Ginnie|  Executive Director| 188044| 2006|\n",
      "|     Yadao|    Nilda|Medical Officer (...| 188027| 1987|\n",
      "|   Ellerbe|  Kenneth|          Fire Chief| 187302| 2003|\n",
      "|    Ruland|  Jeffrey|Dir Of The Ctr Fo...| 186911| 2009|\n",
      "|    Parker|    Craig|     General Counsel|1869118| 2009|\n",
      "|    Farley|     Mark| Vp, Human Resources| 186911| 2008|\n",
      "|   Quander|     Paul|        Deputy Mayor| 185000| 2009|\n",
      "+----------+---------+--------------------+-------+-----+\n",
      "only showing top 20 rows\n",
      "\n"
     ]
    }
   ],
   "source": [
    "df_drop_empty= df.na.drop()\n",
    "df_drop_empty.show()"
   ]
  },
  {
   "cell_type": "markdown",
   "metadata": {
    "pycharm": {
     "name": "#%% md\n"
    }
   },
   "source": [
    "# handeling specific row null value"
   ]
  },
  {
   "cell_type": "code",
   "execution_count": 24,
   "metadata": {
    "pycharm": {
     "name": "#%%\n"
    }
   },
   "outputs": [
    {
     "name": "stdout",
     "output_type": "stream",
     "text": [
      "+----------+---------+--------------------+------+-----+\n",
      "|      Last|    First|            Position|Salary|Hired|\n",
      "+----------+---------+--------------------+------+-----+\n",
      "|       Lew|    Allen|  City Administrator|295000| 2004|\n",
      "|   Sessoms|    Allen|           President|295000| 2008|\n",
      "| HENDERSON|KAYATANYA|Superintendent Of...|275000| 2007|\n",
      "|    Lanier|    Cathy|               Chief|230743| 1990|\n",
      "|     Arons|  Bernard|                null|206000| 2008|\n",
      "|   Ritchie|  Elspeth|Medical Officer P...|206000| 2010|\n",
      "|      GRAY|     null|               Mayor|200000| 2005|\n",
      "|  Marshall|Katherine|Medical Officer P...|200000| 2008|\n",
      "|    Gandhi|   Natwar|Chief Financial O...|199700| 1997|\n",
      "|    DUNCAN|  LORETTA|Workers Compensat...|197808| 1984|\n",
      "|    Baxter|     null|Act Provost & Vp ...|196257| null|\n",
      "|Miramontes|    David|    Medical Director|193125| 2011|\n",
      "|    Graves|   Warren|      Chief Of Staff|193125| 2011|\n",
      "|      null|     Eric|  Executive Director|193125| 2007|\n",
      "|     Jones|    Tyler|Medical Officer P...|190550| 2008|\n",
      "|     BROWN|    KWAME|            Chairman|190000| 2005|\n",
      "|      Eure|   Philip|  Executive Director|188692| 2000|\n",
      "|    Cooper|   Ginnie|  Executive Director|188044| 2006|\n",
      "|     Yadao|    Nilda|Medical Officer (...|188027| 1987|\n",
      "|   Ellerbe|  Kenneth|          Fire Chief|187302| 2003|\n",
      "+----------+---------+--------------------+------+-----+\n",
      "only showing top 20 rows\n",
      "\n"
     ]
    }
   ],
   "source": [
    "df_drop_salary_null=df.dropna(subset=['Salary']).show()"
   ]
  },
  {
   "cell_type": "markdown",
   "metadata": {
    "pycharm": {
     "name": "#%% md\n"
    }
   },
   "source": [
    "# Drop using function filter"
   ]
  },
  {
   "cell_type": "code",
   "execution_count": 28,
   "metadata": {
    "pycharm": {
     "name": "#%%\n"
    }
   },
   "outputs": [
    {
     "name": "stdout",
     "output_type": "stream",
     "text": [
      "+----------+---------+--------------------+------+-----+\n",
      "|      Last|    First|            Position|Salary|Hired|\n",
      "+----------+---------+--------------------+------+-----+\n",
      "|       Lew|    Allen|  City Administrator|295000| 2004|\n",
      "|   Sessoms|    Allen|           President|295000| 2008|\n",
      "| HENDERSON|KAYATANYA|Superintendent Of...|275000| 2007|\n",
      "|    Lanier|    Cathy|               Chief|230743| 1990|\n",
      "|   Ritchie|  Elspeth|Medical Officer P...|206000| 2010|\n",
      "|      GRAY|     null|               Mayor|200000| 2005|\n",
      "|  Marshall|Katherine|Medical Officer P...|200000| 2008|\n",
      "|    Gandhi|   Natwar|Chief Financial O...|199700| 1997|\n",
      "|    DUNCAN|  LORETTA|Workers Compensat...|197808| 1984|\n",
      "|    Baxter|     null|Act Provost & Vp ...|196257| null|\n",
      "|Miramontes|    David|    Medical Director|193125| 2011|\n",
      "|    Graves|   Warren|      Chief Of Staff|193125| 2011|\n",
      "|      null|     Eric|  Executive Director|193125| 2007|\n",
      "|     Jones|    Tyler|Medical Officer P...|190550| 2008|\n",
      "|     BROWN|    KWAME|            Chairman|190000| 2005|\n",
      "|      Eure|   Philip|  Executive Director|188692| 2000|\n",
      "|    Cooper|   Ginnie|  Executive Director|188044| 2006|\n",
      "|     Yadao|    Nilda|Medical Officer (...|188027| 1987|\n",
      "|   Ellerbe|  Kenneth|          Fire Chief|187302| 2003|\n",
      "|    Ruland|  Jeffrey|Dir Of The Ctr Fo...|186911| 2009|\n",
      "+----------+---------+--------------------+------+-----+\n",
      "only showing top 20 rows\n",
      "\n"
     ]
    }
   ],
   "source": [
    "df_null_position= df.filter(df.Position.isNotNull())\n",
    "df_null_position.show()"
   ]
  },
  {
   "cell_type": "markdown",
   "metadata": {
    "pycharm": {
     "name": "#%% md\n"
    }
   },
   "source": [
    "#Replacing Null Value"
   ]
  },
  {
   "cell_type": "code",
   "execution_count": 30,
   "metadata": {
    "pycharm": {
     "name": "#%%\n"
    }
   },
   "outputs": [
    {
     "name": "stdout",
     "output_type": "stream",
     "text": [
      "+----------+---------+--------------------+------+-----+\n",
      "|      Last|    First|            Position|Salary|Hired|\n",
      "+----------+---------+--------------------+------+-----+\n",
      "|       Lew|    Allen|  City Administrator|295000| 2004|\n",
      "|   Sessoms|    Allen|           President|295000| 2008|\n",
      "| HENDERSON|KAYATANYA|Superintendent Of...|275000| 2007|\n",
      "|    Lanier|    Cathy|               Chief|230743| 1990|\n",
      "|     Arons|  Bernard|                null|206000| 2008|\n",
      "|   Ritchie|  Elspeth|Medical Officer P...|206000| 2010|\n",
      "|      GRAY|     null|               Mayor|200000| 2005|\n",
      "|  Marshall|Katherine|Medical Officer P...|     0| 2008|\n",
      "|    Gandhi|   Natwar|Chief Financial O...|199700| 1997|\n",
      "|    DUNCAN|  LORETTA|Workers Compensat...|197808| 1984|\n",
      "|    Baxter|     null|Act Provost & Vp ...|196257| null|\n",
      "|Miramontes|    David|    Medical Director|193125| 2011|\n",
      "|    Graves|   Warren|      Chief Of Staff|193125| 2011|\n",
      "|      null|     Eric|  Executive Director|193125| 2007|\n",
      "|     Jones|    Tyler|Medical Officer P...|190550| 2008|\n",
      "|     BROWN|    KWAME|            Chairman|190000| 2005|\n",
      "|      Eure|   Philip|  Executive Director|188692| 2000|\n",
      "|    Cooper|   Ginnie|  Executive Director|188044| 2006|\n",
      "|     Yadao|    Nilda|Medical Officer (...|188027| 1987|\n",
      "|   Ellerbe|  Kenneth|          Fire Chief|187302| 2003|\n",
      "+----------+---------+--------------------+------+-----+\n",
      "only showing top 20 rows\n",
      "\n"
     ]
    }
   ],
   "source": [
    "df_fill=df.fillna(0,subset=['Salary'])\n",
    "df_fill.show()"
   ]
  },
  {
   "cell_type": "code",
   "execution_count": null,
   "metadata": {
    "pycharm": {
     "name": "#%%\n"
    }
   },
   "outputs": [],
   "source": []
  }
 ],
 "metadata": {
  "kernelspec": {
   "display_name": "PyCharm (pyspark-nlp)",
   "language": "python",
   "name": "pycharm-7bd40b95"
  },
  "language_info": {
   "codemirror_mode": {
    "name": "ipython",
    "version": 3
   },
   "file_extension": ".py",
   "mimetype": "text/x-python",
   "name": "python",
   "nbconvert_exporter": "python",
   "pygments_lexer": "ipython3",
   "version": "3.7.6"
  }
 },
 "nbformat": 4,
 "nbformat_minor": 1
}
