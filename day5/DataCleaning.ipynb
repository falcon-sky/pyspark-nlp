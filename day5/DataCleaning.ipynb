{
 "cells": [
  {
   "cell_type": "code",
   "execution_count": 113,
   "outputs": [],
   "source": [
    "from pyspark.sql import SparkSession\n",
    "\n",
    "spark = SparkSession.builder.getOrCreate()\n"
   ],
   "metadata": {
    "collapsed": false,
    "pycharm": {
     "name": "#%%\n"
    }
   }
  },
  {
   "cell_type": "code",
   "execution_count": 114,
   "outputs": [
    {
     "data": {
      "text/plain": "<pyspark.sql.session.SparkSession at 0x7f341c55d410>",
      "text/html": "\n            <div>\n                <p><b>SparkSession - in-memory</b></p>\n                \n        <div>\n            <p><b>SparkContext</b></p>\n\n            <p><a href=\"http://192.168.0.5:4047\">Spark UI</a></p>\n\n            <dl>\n              <dt>Version</dt>\n                <dd><code>v3.2.0</code></dd>\n              <dt>Master</dt>\n                <dd><code>local[*]</code></dd>\n              <dt>AppName</dt>\n                <dd><code>pyspark-shell</code></dd>\n            </dl>\n        </div>\n        \n            </div>\n        "
     },
     "execution_count": 114,
     "metadata": {},
     "output_type": "execute_result"
    }
   ],
   "source": [
    "spark"
   ],
   "metadata": {
    "collapsed": false,
    "pycharm": {
     "name": "#%%\n"
    }
   }
  },
  {
   "cell_type": "code",
   "execution_count": 115,
   "outputs": [
    {
     "name": "stderr",
     "output_type": "stream",
     "text": [
      "/home/aa100418/anaconda3/lib/python3.7/site-packages/pyspark/sql/context.py:79: FutureWarning: Deprecated in 3.0.0. Use SparkSession.builder.getOrCreate() instead.\n",
      "  FutureWarning\n"
     ]
    }
   ],
   "source": [
    "from pyspark.sql import SQLContext\n",
    "from pyspark.sql.types import *\n",
    "sqlContext = SQLContext(spark)"
   ],
   "metadata": {
    "collapsed": false,
    "pycharm": {
     "name": "#%%\n"
    }
   }
  },
  {
   "cell_type": "code",
   "execution_count": 116,
   "outputs": [
    {
     "name": "stdout",
     "output_type": "stream",
     "text": [
      "+--------------+---------+--------------------+------+-----+\n",
      "|          Last|    First|            Position|Salary|Hired|\n",
      "+--------------+---------+--------------------+------+-----+\n",
      "|           Lew|    Allen|  City Administrator|295000| 2004|\n",
      "|       Sessoms|    Allen|           President|295000| 2008|\n",
      "|     HENDERSON|KAYATANYA|Superintendent Of...|275000| 2007|\n",
      "|        Lanier|    Cathy|               Chief|230743| 1990|\n",
      "|         Arons|  Bernard|                null|206000| 2008|\n",
      "|       Ritchie|  Elspeth|Medical Officer P...|206000| 2010|\n",
      "|          GRAY|     null|               Mayor|200000| 2005|\n",
      "|      Marshall|Katherine|Medical Officer P...|  null| 2008|\n",
      "|        Gandhi|   Natwar|Chief Financial O...|199700| 1997|\n",
      "|        DUNCAN|  LORETTA|Workers Compensat...|197808| 1984|\n",
      "|        Baxter|     null|Act Provost & Vp ...|196257| null|\n",
      "|    Miramontes|    David|    Medical Director|193125| 2011|\n",
      "|        Graves|   Warren|      Chief Of Staff|193125| 2011|\n",
      "|          null|     Eric|  Executive Director|193125| 2007|\n",
      "|         Jones|    Tyler|Medical Officer P...|190550| 2008|\n",
      "|         BROWN|    KWAME|            Chairman|190000| 2005|\n",
      "|          Eure|   Philip|  Executive Director|188692| 2000|\n",
      "|        Cooper|   Ginnie|  Executive Director|188044| 2006|\n",
      "|         Yadao|    Nilda|Medical Officer (...|188027| 1987|\n",
      "|       Ellerbe|  Kenneth|          Fire Chief|187302| 2003|\n",
      "|        Ruland|  Jeffrey|Dir Of The Ctr Fo...|186911| 2009|\n",
      "|        Parker|    Craig|     General Counsel|186918| 2009|\n",
      "|        Farley|     Mark| Vp, Human Resources|186911| 2008|\n",
      "|         Otero|  Beatriz|                null|185000| 2011|\n",
      "|       Quander|     Paul|        Deputy Mayor|185000| 2009|\n",
      "|  Pierre Louis|    Marie|Chief Medical Exa...|185000| 1985|\n",
      "|      Pestaner|   Joseph|Medical Officer (...|183892| null|\n",
      "|     Revercomb|  Carolyn|Medical Officer (...|183892| 2005|\n",
      "|Morgan Johnson|   Sheila|Chief Investment ...|183677| 1991|\n",
      "|    Williamson|  Michael|     Deputy Director| 18200| 2011|\n",
      "+--------------+---------+--------------------+------+-----+\n",
      "only showing top 30 rows\n",
      "\n"
     ]
    }
   ],
   "source": [
    "df = sqlContext.read.load('data/Salaries_cleaning.csv',\n",
    "                      format='com.databricks.spark.csv',\n",
    "                      header='true',\n",
    "                      inferSchema='true')\n",
    "df.show(30)"
   ],
   "metadata": {
    "collapsed": false,
    "pycharm": {
     "name": "#%%\n"
    }
   }
  },
  {
   "cell_type": "markdown",
   "source": [
    " #Handeling empty or null value:"
   ],
   "metadata": {
    "collapsed": false,
    "pycharm": {
     "name": "#%% md\n"
    }
   }
  },
  {
   "cell_type": "code",
   "execution_count": 117,
   "outputs": [
    {
     "name": "stdout",
     "output_type": "stream",
     "text": [
      "+------------+---------+--------------------+------+-----+\n",
      "|        Last|    First|            Position|Salary|Hired|\n",
      "+------------+---------+--------------------+------+-----+\n",
      "|         Lew|    Allen|  City Administrator|295000| 2004|\n",
      "|     Sessoms|    Allen|           President|295000| 2008|\n",
      "|   HENDERSON|KAYATANYA|Superintendent Of...|275000| 2007|\n",
      "|      Lanier|    Cathy|               Chief|230743| 1990|\n",
      "|     Ritchie|  Elspeth|Medical Officer P...|206000| 2010|\n",
      "|      Gandhi|   Natwar|Chief Financial O...|199700| 1997|\n",
      "|      DUNCAN|  LORETTA|Workers Compensat...|197808| 1984|\n",
      "|  Miramontes|    David|    Medical Director|193125| 2011|\n",
      "|      Graves|   Warren|      Chief Of Staff|193125| 2011|\n",
      "|       Jones|    Tyler|Medical Officer P...|190550| 2008|\n",
      "|       BROWN|    KWAME|            Chairman|190000| 2005|\n",
      "|        Eure|   Philip|  Executive Director|188692| 2000|\n",
      "|      Cooper|   Ginnie|  Executive Director|188044| 2006|\n",
      "|       Yadao|    Nilda|Medical Officer (...|188027| 1987|\n",
      "|     Ellerbe|  Kenneth|          Fire Chief|187302| 2003|\n",
      "|      Ruland|  Jeffrey|Dir Of The Ctr Fo...|186911| 2009|\n",
      "|      Parker|    Craig|     General Counsel|186918| 2009|\n",
      "|      Farley|     Mark| Vp, Human Resources|186911| 2008|\n",
      "|     Quander|     Paul|        Deputy Mayor|185000| 2009|\n",
      "|Pierre Louis|    Marie|Chief Medical Exa...|185000| 1985|\n",
      "+------------+---------+--------------------+------+-----+\n",
      "only showing top 20 rows\n",
      "\n"
     ]
    }
   ],
   "source": [
    "df_drop_empty= df.na.drop()\n",
    "df_drop_empty.show()"
   ],
   "metadata": {
    "collapsed": false,
    "pycharm": {
     "name": "#%%\n"
    }
   }
  },
  {
   "cell_type": "markdown",
   "source": [
    "# handeling specific row null value"
   ],
   "metadata": {
    "collapsed": false,
    "pycharm": {
     "name": "#%% md\n"
    }
   }
  },
  {
   "cell_type": "code",
   "execution_count": 118,
   "outputs": [
    {
     "name": "stdout",
     "output_type": "stream",
     "text": [
      "+----------+---------+--------------------+------+-----+\n",
      "|      Last|    First|            Position|Salary|Hired|\n",
      "+----------+---------+--------------------+------+-----+\n",
      "|       Lew|    Allen|  City Administrator|295000| 2004|\n",
      "|   Sessoms|    Allen|           President|295000| 2008|\n",
      "| HENDERSON|KAYATANYA|Superintendent Of...|275000| 2007|\n",
      "|    Lanier|    Cathy|               Chief|230743| 1990|\n",
      "|     Arons|  Bernard|                null|206000| 2008|\n",
      "|   Ritchie|  Elspeth|Medical Officer P...|206000| 2010|\n",
      "|      GRAY|     null|               Mayor|200000| 2005|\n",
      "|    Gandhi|   Natwar|Chief Financial O...|199700| 1997|\n",
      "|    DUNCAN|  LORETTA|Workers Compensat...|197808| 1984|\n",
      "|    Baxter|     null|Act Provost & Vp ...|196257| null|\n",
      "|Miramontes|    David|    Medical Director|193125| 2011|\n",
      "|    Graves|   Warren|      Chief Of Staff|193125| 2011|\n",
      "|      null|     Eric|  Executive Director|193125| 2007|\n",
      "|     Jones|    Tyler|Medical Officer P...|190550| 2008|\n",
      "|     BROWN|    KWAME|            Chairman|190000| 2005|\n",
      "|      Eure|   Philip|  Executive Director|188692| 2000|\n",
      "|    Cooper|   Ginnie|  Executive Director|188044| 2006|\n",
      "|     Yadao|    Nilda|Medical Officer (...|188027| 1987|\n",
      "|   Ellerbe|  Kenneth|          Fire Chief|187302| 2003|\n",
      "|    Ruland|  Jeffrey|Dir Of The Ctr Fo...|186911| 2009|\n",
      "+----------+---------+--------------------+------+-----+\n",
      "only showing top 20 rows\n",
      "\n"
     ]
    }
   ],
   "source": [
    "df_drop_salary_null=df.dropna(subset=['Salary'])\n",
    "df_drop_salary_null.show()"
   ],
   "metadata": {
    "collapsed": false,
    "pycharm": {
     "name": "#%%\n"
    }
   }
  },
  {
   "cell_type": "markdown",
   "source": [
    "# Drop using function filter"
   ],
   "metadata": {
    "collapsed": false,
    "pycharm": {
     "name": "#%% md\n"
    }
   }
  },
  {
   "cell_type": "code",
   "execution_count": 119,
   "outputs": [
    {
     "name": "stdout",
     "output_type": "stream",
     "text": [
      "+----------+---------+--------------------+------+-----+\n",
      "|      Last|    First|            Position|Salary|Hired|\n",
      "+----------+---------+--------------------+------+-----+\n",
      "|       Lew|    Allen|  City Administrator|295000| 2004|\n",
      "|   Sessoms|    Allen|           President|295000| 2008|\n",
      "| HENDERSON|KAYATANYA|Superintendent Of...|275000| 2007|\n",
      "|    Lanier|    Cathy|               Chief|230743| 1990|\n",
      "|   Ritchie|  Elspeth|Medical Officer P...|206000| 2010|\n",
      "|      GRAY|     null|               Mayor|200000| 2005|\n",
      "|  Marshall|Katherine|Medical Officer P...|  null| 2008|\n",
      "|    Gandhi|   Natwar|Chief Financial O...|199700| 1997|\n",
      "|    DUNCAN|  LORETTA|Workers Compensat...|197808| 1984|\n",
      "|    Baxter|     null|Act Provost & Vp ...|196257| null|\n",
      "|Miramontes|    David|    Medical Director|193125| 2011|\n",
      "|    Graves|   Warren|      Chief Of Staff|193125| 2011|\n",
      "|      null|     Eric|  Executive Director|193125| 2007|\n",
      "|     Jones|    Tyler|Medical Officer P...|190550| 2008|\n",
      "|     BROWN|    KWAME|            Chairman|190000| 2005|\n",
      "|      Eure|   Philip|  Executive Director|188692| 2000|\n",
      "|    Cooper|   Ginnie|  Executive Director|188044| 2006|\n",
      "|     Yadao|    Nilda|Medical Officer (...|188027| 1987|\n",
      "|   Ellerbe|  Kenneth|          Fire Chief|187302| 2003|\n",
      "|    Ruland|  Jeffrey|Dir Of The Ctr Fo...|186911| 2009|\n",
      "+----------+---------+--------------------+------+-----+\n",
      "only showing top 20 rows\n",
      "\n"
     ]
    }
   ],
   "source": [
    "df_null_position= df.filter(df.Position.isNotNull())\n",
    "df_null_position.show()"
   ],
   "metadata": {
    "collapsed": false,
    "pycharm": {
     "name": "#%%\n"
    }
   }
  },
  {
   "cell_type": "markdown",
   "source": [
    "#Replacing Null Value"
   ],
   "metadata": {
    "collapsed": false,
    "pycharm": {
     "name": "#%% md\n"
    }
   }
  },
  {
   "cell_type": "code",
   "execution_count": 120,
   "outputs": [
    {
     "name": "stdout",
     "output_type": "stream",
     "text": [
      "+----------+---------+--------------------+------+-----+\n",
      "|      Last|    First|            Position|Salary|Hired|\n",
      "+----------+---------+--------------------+------+-----+\n",
      "|       Lew|    Allen|  City Administrator|295000| 2004|\n",
      "|   Sessoms|    Allen|           President|295000| 2008|\n",
      "| HENDERSON|KAYATANYA|Superintendent Of...|275000| 2007|\n",
      "|    Lanier|    Cathy|               Chief|230743| 1990|\n",
      "|     Arons|  Bernard|                null|206000| 2008|\n",
      "|   Ritchie|  Elspeth|Medical Officer P...|206000| 2010|\n",
      "|      GRAY|     null|               Mayor|200000| 2005|\n",
      "|  Marshall|Katherine|Medical Officer P...|     0| 2008|\n",
      "|    Gandhi|   Natwar|Chief Financial O...|199700| 1997|\n",
      "|    DUNCAN|  LORETTA|Workers Compensat...|197808| 1984|\n",
      "|    Baxter|     null|Act Provost & Vp ...|196257| null|\n",
      "|Miramontes|    David|    Medical Director|193125| 2011|\n",
      "|    Graves|   Warren|      Chief Of Staff|193125| 2011|\n",
      "|      null|     Eric|  Executive Director|193125| 2007|\n",
      "|     Jones|    Tyler|Medical Officer P...|190550| 2008|\n",
      "|     BROWN|    KWAME|            Chairman|190000| 2005|\n",
      "|      Eure|   Philip|  Executive Director|188692| 2000|\n",
      "|    Cooper|   Ginnie|  Executive Director|188044| 2006|\n",
      "|     Yadao|    Nilda|Medical Officer (...|188027| 1987|\n",
      "|   Ellerbe|  Kenneth|          Fire Chief|187302| 2003|\n",
      "+----------+---------+--------------------+------+-----+\n",
      "only showing top 20 rows\n",
      "\n"
     ]
    }
   ],
   "source": [
    "df_fill=df.fillna(0,subset=['Salary'])\n",
    "df_fill.show()"
   ],
   "metadata": {
    "collapsed": false,
    "pycharm": {
     "name": "#%%\n"
    }
   }
  },
  {
   "cell_type": "markdown",
   "source": [
    "#Replacing String"
   ],
   "metadata": {
    "collapsed": false,
    "pycharm": {
     "name": "#%% md\n"
    }
   }
  },
  {
   "cell_type": "code",
   "execution_count": 121,
   "outputs": [
    {
     "name": "stdout",
     "output_type": "stream",
     "text": [
      "+----------+---------+--------------------+------+-----+\n",
      "|      Last|    First|            Position|Salary|Hired|\n",
      "+----------+---------+--------------------+------+-----+\n",
      "|       Lew|    Allen|  City Administrator|295000| 2004|\n",
      "|   Sessoms|    Allen|           President|295000| 2008|\n",
      "| HENDERSON|KAYATANYA|Superintendent Of...|275000| 2007|\n",
      "|    Lanier|    Cathy|               Chief|230743| 1990|\n",
      "|     Arons|  Bernard|             Unknown|206000| 2008|\n",
      "|   Ritchie|  Elspeth|Medical Officer P...|206000| 2010|\n",
      "|      GRAY|     null|               Mayor|200000| 2005|\n",
      "|  Marshall|Katherine|Medical Officer P...|  null| 2008|\n",
      "|    Gandhi|   Natwar|Chief Financial O...|199700| 1997|\n",
      "|    DUNCAN|  LORETTA|Workers Compensat...|197808| 1984|\n",
      "|    Baxter|     null|Act Provost & Vp ...|196257| null|\n",
      "|Miramontes|    David|    Medical Director|193125| 2011|\n",
      "|    Graves|   Warren|      Chief Of Staff|193125| 2011|\n",
      "|      null|     Eric|  Executive Director|193125| 2007|\n",
      "|     Jones|    Tyler|Medical Officer P...|190550| 2008|\n",
      "|     BROWN|    KWAME|            Chairman|190000| 2005|\n",
      "|      Eure|   Philip|  Executive Director|188692| 2000|\n",
      "|    Cooper|   Ginnie|  Executive Director|188044| 2006|\n",
      "|     Yadao|    Nilda|Medical Officer (...|188027| 1987|\n",
      "|   Ellerbe|  Kenneth|          Fire Chief|187302| 2003|\n",
      "+----------+---------+--------------------+------+-----+\n",
      "only showing top 20 rows\n",
      "\n"
     ]
    }
   ],
   "source": [
    "from pyspark.sql.functions import *\n",
    "df_position_handle=df.withColumn(\"Position\",when(df.Position.isNull(),'Unknown').otherwise(df.Position))\n",
    "df_position_handle.show()"
   ],
   "metadata": {
    "collapsed": false,
    "pycharm": {
     "name": "#%%\n"
    }
   }
  },
  {
   "cell_type": "markdown",
   "source": [
    "#dropduplicates()"
   ],
   "metadata": {
    "collapsed": false,
    "pycharm": {
     "name": "#%% md\n"
    }
   }
  },
  {
   "cell_type": "markdown",
   "source": [
    "#Handeling upper lower case consistency"
   ],
   "metadata": {
    "collapsed": false,
    "pycharm": {
     "name": "#%% md\n"
    }
   }
  },
  {
   "cell_type": "code",
   "execution_count": 122,
   "outputs": [
    {
     "name": "stdout",
     "output_type": "stream",
     "text": [
      "+--------------------+\n",
      "|     lower(Position)|\n",
      "+--------------------+\n",
      "|  city administrator|\n",
      "|           president|\n",
      "|superintendent of...|\n",
      "|               chief|\n",
      "|                null|\n",
      "|medical officer p...|\n",
      "|               mayor|\n",
      "|medical officer p...|\n",
      "|chief financial o...|\n",
      "|workers compensat...|\n",
      "|act provost & vp ...|\n",
      "|    medical director|\n",
      "|      chief of staff|\n",
      "|  executive director|\n",
      "|medical officer p...|\n",
      "|            chairman|\n",
      "|  executive director|\n",
      "|  executive director|\n",
      "|medical officer (...|\n",
      "|          fire chief|\n",
      "+--------------------+\n",
      "only showing top 20 rows\n",
      "\n"
     ]
    }
   ],
   "source": [
    "df_lower = df.select(lower(df.Position))\n",
    "df_lower.show()"
   ],
   "metadata": {
    "collapsed": false,
    "pycharm": {
     "name": "#%%\n"
    }
   }
  },
  {
   "cell_type": "markdown",
   "source": [
    "#Handeling noise data anamoly detection"
   ],
   "metadata": {
    "collapsed": false,
    "pycharm": {
     "name": "#%% md\n"
    }
   }
  },
  {
   "cell_type": "code",
   "execution_count": 123,
   "outputs": [],
   "source": [
    "import numpy as np\n",
    "import matplotlib.pyplot as plt\n",
    "pdf = df_drop_salary_null.toPandas()"
   ],
   "metadata": {
    "collapsed": false,
    "pycharm": {
     "name": "#%%\n"
    }
   }
  },
  {
   "cell_type": "code",
   "execution_count": 124,
   "outputs": [
    {
     "data": {
      "text/plain": "(33422, 5)"
     },
     "execution_count": 124,
     "metadata": {},
     "output_type": "execute_result"
    }
   ],
   "source": [
    "pdf.head(20)\n",
    "pdf.shape"
   ],
   "metadata": {
    "collapsed": false,
    "pycharm": {
     "name": "#%%\n"
    }
   }
  },
  {
   "cell_type": "code",
   "execution_count": 134,
   "outputs": [
    {
     "name": "stdout",
     "output_type": "stream",
     "text": [
      "33422\n"
     ]
    },
    {
     "data": {
      "text/plain": "<Figure size 432x288 with 1 Axes>",
      "image/png": "[encoded data removed]"
     },
     "metadata": {
      "needs_background": "light"
     },
     "output_type": "display_data"
    }
   ],
   "source": [
    "salary = pdf[\"Salary\"].values\n",
    "x_ax = range(33422)\n",
    "print(salary.size)\n",
    "plt.plot(x_ax, salary)\n",
    "plt.show()"
   ],
   "metadata": {
    "collapsed": false,
    "pycharm": {
     "name": "#%%\n"
    }
   }
  }
 ],
 "metadata": {
  "kernelspec": {
   "name": "pycharm-7bd40b95",
   "language": "python",
   "display_name": "PyCharm (pyspark-nlp)"
  },
  "language_info": {
   "codemirror_mode": {
    "name": "ipython",
    "version": 2
   },
   "file_extension": ".py",
   "mimetype": "text/x-python",
   "name": "python",
   "nbconvert_exporter": "python",
   "pygments_lexer": "ipython2",
   "version": "2.7.6"
  }
 },
 "nbformat": 4,
 "nbformat_minor": 0
}