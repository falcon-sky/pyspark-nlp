{
 "cells": [
  {
   "cell_type": "code",
   "execution_count": 5,
   "metadata": {},
   "outputs": [],
   "source": [
    "import os\n",
    "os.environ[\"JAVA_HOME\"] = \"/Library/Java/JavaVirtualMachines/openjdk-13.jdk/Contents/Home\"\n",
    "os.environ[\"SPARK_HOME\"] = \"/Users/rama/Downloads/spark-3.2.1-bin-hadoop3.2\"\n",
    "\n",
    "import findspark\n",
    "findspark.init()\n",
    "\n",
    "from pyspark.sql import SparkSession\n",
    "\n",
    "spark = SparkSession.builder.getOrCreate()"
   ]
  },
  {
   "cell_type": "code",
   "execution_count": 6,
   "metadata": {
    "pycharm": {
     "name": "#%%\n"
    }
   },
   "outputs": [
    {
     "data": {
      "text/plain": "<pyspark.sql.session.SparkSession at 0x10c011c10>",
      "text/html": "\n            <div>\n                <p><b>SparkSession - in-memory</b></p>\n                \n        <div>\n            <p><b>SparkContext</b></p>\n\n            <p><a href=\"http://192.168.0.12:4041\">Spark UI</a></p>\n\n            <dl>\n              <dt>Version</dt>\n                <dd><code>v3.2.1</code></dd>\n              <dt>Master</dt>\n                <dd><code>local[*]</code></dd>\n              <dt>AppName</dt>\n                <dd><code>pyspark-shell</code></dd>\n            </dl>\n        </div>\n        \n            </div>\n        "
     },
     "execution_count": 6,
     "metadata": {},
     "output_type": "execute_result"
    }
   ],
   "source": [
    "spark"
   ]
  },
  {
   "cell_type": "markdown",
   "metadata": {},
   "source": [
    "Data Frame: From Panda"
   ]
  },
  {
   "cell_type": "code",
   "execution_count": 7,
   "metadata": {
    "pycharm": {
     "name": "#%%\n"
    }
   },
   "outputs": [
    {
     "data": {
      "text/plain": "   month  avg_high  avg_low  record_high  record_low  avg_precipitation\n0    JAN        23       15           74          22               2.95\n1    FEB        25       16           74          22               2.95\n2    MAR        28       20           74          22               2.95\n3    APR        29       23           74          22               2.95\n4    MAY        35       27           74          22               2.95\n5    JUN        36       26           74          22               2.95\n6    JUL        34       25           74          22               2.95\n7    AUG        30       24           74          22               2.95\n8    SEP        29       24           74          22               2.95\n9    OCT        26       23           74          22               2.95\n10   NOV        24       22           74          22               2.95\n11   DEC        22       20           74          22               2.95",
      "text/html": "<div>\n<style scoped>\n    .dataframe tbody tr th:only-of-type {\n        vertical-align: middle;\n    }\n\n    .dataframe tbody tr th {\n        vertical-align: top;\n    }\n\n    .dataframe thead th {\n        text-align: right;\n    }\n</style>\n<table border=\"1\" class=\"dataframe\">\n  <thead>\n    <tr style=\"text-align: right;\">\n      <th></th>\n      <th>month</th>\n      <th>avg_high</th>\n      <th>avg_low</th>\n      <th>record_high</th>\n      <th>record_low</th>\n      <th>avg_precipitation</th>\n    </tr>\n  </thead>\n  <tbody>\n    <tr>\n      <th>0</th>\n      <td>JAN</td>\n      <td>23</td>\n      <td>15</td>\n      <td>74</td>\n      <td>22</td>\n      <td>2.95</td>\n    </tr>\n    <tr>\n      <th>1</th>\n      <td>FEB</td>\n      <td>25</td>\n      <td>16</td>\n      <td>74</td>\n      <td>22</td>\n      <td>2.95</td>\n    </tr>\n    <tr>\n      <th>2</th>\n      <td>MAR</td>\n      <td>28</td>\n      <td>20</td>\n      <td>74</td>\n      <td>22</td>\n      <td>2.95</td>\n    </tr>\n    <tr>\n      <th>3</th>\n      <td>APR</td>\n      <td>29</td>\n      <td>23</td>\n      <td>74</td>\n      <td>22</td>\n      <td>2.95</td>\n    </tr>\n    <tr>\n      <th>4</th>\n      <td>MAY</td>\n      <td>35</td>\n      <td>27</td>\n      <td>74</td>\n      <td>22</td>\n      <td>2.95</td>\n    </tr>\n    <tr>\n      <th>5</th>\n      <td>JUN</td>\n      <td>36</td>\n      <td>26</td>\n      <td>74</td>\n      <td>22</td>\n      <td>2.95</td>\n    </tr>\n    <tr>\n      <th>6</th>\n      <td>JUL</td>\n      <td>34</td>\n      <td>25</td>\n      <td>74</td>\n      <td>22</td>\n      <td>2.95</td>\n    </tr>\n    <tr>\n      <th>7</th>\n      <td>AUG</td>\n      <td>30</td>\n      <td>24</td>\n      <td>74</td>\n      <td>22</td>\n      <td>2.95</td>\n    </tr>\n    <tr>\n      <th>8</th>\n      <td>SEP</td>\n      <td>29</td>\n      <td>24</td>\n      <td>74</td>\n      <td>22</td>\n      <td>2.95</td>\n    </tr>\n    <tr>\n      <th>9</th>\n      <td>OCT</td>\n      <td>26</td>\n      <td>23</td>\n      <td>74</td>\n      <td>22</td>\n      <td>2.95</td>\n    </tr>\n    <tr>\n      <th>10</th>\n      <td>NOV</td>\n      <td>24</td>\n      <td>22</td>\n      <td>74</td>\n      <td>22</td>\n      <td>2.95</td>\n    </tr>\n    <tr>\n      <th>11</th>\n      <td>DEC</td>\n      <td>22</td>\n      <td>20</td>\n      <td>74</td>\n      <td>22</td>\n      <td>2.95</td>\n    </tr>\n  </tbody>\n</table>\n</div>"
     },
     "execution_count": 7,
     "metadata": {},
     "output_type": "execute_result"
    }
   ],
   "source": [
    "import pandas as pd\n",
    "\n",
    "df_temperature = pd.DataFrame([['JAN', 23, 15, 74, 22, 2.95],\n",
    "                   ['FEB', 25, 16, 74, 22, 2.95],\n",
    "                   ['MAR', 28, 20, 74, 22, 2.95],\n",
    "                   ['APR', 29, 23, 74, 22, 2.95],\n",
    "                   ['MAY', 35, 27, 74, 22, 2.95],\n",
    "                   ['JUN', 36, 26, 74, 22, 2.95],\n",
    "                   ['JUL', 34, 25, 74, 22, 2.95],\n",
    "                   ['AUG', 30, 24, 74, 22, 2.95],\n",
    "                   ['SEP', 29, 24, 74, 22, 2.95],\n",
    "                   ['OCT', 26, 23, 74, 22, 2.95],\n",
    "                   ['NOV', 24, 22, 74, 22, 2.95],\n",
    "                   ['DEC', 22, 20, 74, 22, 2.95]],\n",
    "                  index=[0, 1, 2, 3, 4, 5, 6, 7, 8, 9, 10, 11],\n",
    "                  columns=['month', 'avg_high', 'avg_low', 'record_high', 'record_low', 'avg_precipitation'])\n",
    "\n",
    "df_temperature"
   ]
  },
  {
   "cell_type": "markdown",
   "metadata": {
    "pycharm": {
     "name": "#%% md\n"
    }
   },
   "source": [
    "# Data Frame spark from list of ROW"
   ]
  },
  {
   "cell_type": "code",
   "execution_count": 8,
   "metadata": {
    "pycharm": {
     "name": "#%%\n"
    }
   },
   "outputs": [],
   "source": [
    "from pyspark.sql import Row\n",
    "df_spark_temperature = spark.createDataFrame([\n",
    "    Row(month='JAN', avg_high=23, avg_low=15, record_high=74, record_low=22, avg_precipitation=2.95),\n",
    "    Row(month='FEB', avg_high=25, avg_low=15, record_high=74, record_low=22, avg_precipitation=2.95),\n",
    "    Row(month='MAR', avg_high=28, avg_low=15, record_high=74, record_low=22, avg_precipitation=2.95),\n",
    "    Row(month='APR', avg_high=23, avg_low=15, record_high=74, record_low=22, avg_precipitation=2.95),\n",
    "    Row(month='MAY', avg_high=23, avg_low=15, record_high=74, record_low=22, avg_precipitation=2.95),\n",
    "    Row(month='JUN', avg_high=23, avg_low=15, record_high=74, record_low=22, avg_precipitation=2.95),\n",
    "    Row(month='JUL', avg_high=23, avg_low=15, record_high=74, record_low=22, avg_precipitation=2.95),\n",
    "    Row(month='AUG', avg_high=23, avg_low=15, record_high=74, record_low=22, avg_precipitation=2.95),\n",
    "    Row(month='SEP', avg_high=23, avg_low=15, record_high=74, record_low=22, avg_precipitation=2.95),\n",
    "    Row(month='OCT', avg_high=23, avg_low=15, record_high=74, record_low=22, avg_precipitation=2.95),\n",
    "    Row(month='NOV', avg_high=23, avg_low=15, record_high=74, record_low=22, avg_precipitation=2.95),\n",
    "    Row(month='DEC', avg_high=23, avg_low=15, record_high=74, record_low=22, avg_precipitation=2.95)\n",
    "])"
   ]
  },
  {
   "cell_type": "code",
   "execution_count": 9,
   "metadata": {
    "pycharm": {
     "name": "#%%\n"
    }
   },
   "outputs": [
    {
     "name": "stdout",
     "output_type": "stream",
     "text": [
      "root\n",
      " |-- month: string (nullable = true)\n",
      " |-- avg_high: long (nullable = true)\n",
      " |-- avg_low: long (nullable = true)\n",
      " |-- record_high: long (nullable = true)\n",
      " |-- record_low: long (nullable = true)\n",
      " |-- avg_precipitation: double (nullable = true)\n",
      "\n"
     ]
    }
   ],
   "source": [
    "df_spark_temperature.printSchema()"
   ]
  },
  {
   "cell_type": "code",
   "execution_count": 10,
   "metadata": {
    "pycharm": {
     "name": "#%%\n"
    }
   },
   "outputs": [
    {
     "name": "stdout",
     "output_type": "stream",
     "text": [
      "+-----+--------+-------+-----------+----------+-----------------+\n",
      "|month|avg_high|avg_low|record_high|record_low|avg_precipitation|\n",
      "+-----+--------+-------+-----------+----------+-----------------+\n",
      "|  JAN|      23|     15|         74|        22|             2.95|\n",
      "|  FEB|      25|     15|         74|        22|             2.95|\n",
      "|  MAR|      28|     15|         74|        22|             2.95|\n",
      "|  APR|      23|     15|         74|        22|             2.95|\n",
      "|  MAY|      23|     15|         74|        22|             2.95|\n",
      "|  JUN|      23|     15|         74|        22|             2.95|\n",
      "|  JUL|      23|     15|         74|        22|             2.95|\n",
      "|  AUG|      23|     15|         74|        22|             2.95|\n",
      "|  SEP|      23|     15|         74|        22|             2.95|\n",
      "|  OCT|      23|     15|         74|        22|             2.95|\n",
      "|  NOV|      23|     15|         74|        22|             2.95|\n",
      "|  DEC|      23|     15|         74|        22|             2.95|\n",
      "+-----+--------+-------+-----------+----------+-----------------+\n",
      "\n"
     ]
    }
   ],
   "source": [
    "df_spark_temperature.show()"
   ]
  },
  {
   "cell_type": "markdown",
   "metadata": {
    "pycharm": {
     "name": "#%% md\n"
    }
   },
   "source": [
    "Create a PySpark DataFrame with an explicit schema."
   ]
  },
  {
   "cell_type": "code",
   "execution_count": 11,
   "metadata": {
    "pycharm": {
     "name": "#%%\n"
    }
   },
   "outputs": [
    {
     "name": "stdout",
     "output_type": "stream",
     "text": [
      "+-----+--------+-------+-----------+----------+-----------------+\n",
      "|month|avg_high|avg_low|record_high|record_low|avg_precipitation|\n",
      "+-----+--------+-------+-----------+----------+-----------------+\n",
      "|  JAN|      23|     15|         74|        22|             2.95|\n",
      "|  FEB|      25|     16|         74|        22|             2.95|\n",
      "|  MAR|      28|     20|         74|        22|             2.95|\n",
      "|  APR|      29|     23|         74|        22|             2.95|\n",
      "|  MAY|      35|     27|         74|        22|             2.95|\n",
      "|  JUN|      36|     26|         74|        22|             2.95|\n",
      "|  JUL|      34|     25|         74|        22|             2.95|\n",
      "|  AUG|      30|     24|         74|        22|             2.95|\n",
      "|  SEP|      29|     24|         74|        22|             2.95|\n",
      "|  OCT|      26|     23|         74|        22|             2.95|\n",
      "|  NOV|      24|     22|         74|        22|             2.95|\n",
      "|  DEC|      22|     20|         74|        22|             2.95|\n",
      "+-----+--------+-------+-----------+----------+-----------------+\n",
      "\n"
     ]
    }
   ],
   "source": [
    "df = spark.createDataFrame([\n",
    "                    ('JAN', 23, 15, 74, 22, 2.95),\n",
    "                    ('FEB', 25, 16, 74, 22, 2.95),\n",
    "                    ('MAR', 28, 20, 74, 22, 2.95),\n",
    "                    ('APR', 29, 23, 74, 22, 2.95),\n",
    "                    ('MAY', 35, 27, 74, 22, 2.95),\n",
    "                    ('JUN', 36, 26, 74, 22, 2.95),\n",
    "                    ('JUL', 34, 25, 74, 22, 2.95),\n",
    "                    ('AUG', 30, 24, 74, 22, 2.95),\n",
    "                    ('SEP', 29, 24, 74, 22, 2.95),\n",
    "                    ('OCT', 26, 23, 74, 22, 2.95),\n",
    "                    ('NOV', 24, 22, 74, 22, 2.95),\n",
    "                    ('DEC', 22, 20, 74, 22, 2.95)\n",
    "], schema='month string, avg_high bigint, avg_low bigint, record_high bigint, record_low bigint, avg_precipitation double')\n",
    "\n",
    "df.show()"
   ]
  },
  {
   "cell_type": "markdown",
   "metadata": {
    "pycharm": {
     "name": "#%% md\n"
    }
   },
   "source": [
    "# Create a PySpark DataFrame from a pandas DataFrame\n"
   ]
  },
  {
   "cell_type": "code",
   "execution_count": 12,
   "metadata": {},
   "outputs": [
    {
     "name": "stdout",
     "output_type": "stream",
     "text": [
      "+-----+--------+-------+-----------+----------+-----------------+\n",
      "|month|avg_high|avg_low|record_high|record_low|avg_precipitation|\n",
      "+-----+--------+-------+-----------+----------+-----------------+\n",
      "|  JAN|      23|     15|         74|        22|             2.95|\n",
      "|  FEB|      25|     16|         74|        22|             2.95|\n",
      "|  MAR|      28|     20|         74|        22|             2.95|\n",
      "|  APR|      29|     23|         74|        22|             2.95|\n",
      "|  MAY|      35|     27|         74|        22|             2.95|\n",
      "|  JUN|      36|     26|         74|        22|             2.95|\n",
      "|  JUL|      34|     25|         74|        22|             2.95|\n",
      "|  AUG|      30|     24|         74|        22|             2.95|\n",
      "|  SEP|      29|     24|         74|        22|             2.95|\n",
      "|  OCT|      26|     23|         74|        22|             2.95|\n",
      "|  NOV|      24|     22|         74|        22|             2.95|\n",
      "|  DEC|      22|     20|         74|        22|             2.95|\n",
      "+-----+--------+-------+-----------+----------+-----------------+\n",
      "\n"
     ]
    }
   ],
   "source": [
    "df_from_panda = spark.createDataFrame(df_temperature)\n",
    "\n",
    "df_from_panda.show()"
   ]
  },
  {
   "cell_type": "markdown",
   "metadata": {
    "pycharm": {
     "name": "#%% md\n"
    }
   },
   "source": [
    "# View and data representation"
   ]
  },
  {
   "cell_type": "code",
   "execution_count": 13,
   "metadata": {},
   "outputs": [
    {
     "name": "stdout",
     "output_type": "stream",
     "text": [
      "+-----+--------+-------+-----------+----------+-----------------+\n",
      "|month|avg_high|avg_low|record_high|record_low|avg_precipitation|\n",
      "+-----+--------+-------+-----------+----------+-----------------+\n",
      "|  JAN|      23|     15|         74|        22|             2.95|\n",
      "+-----+--------+-------+-----------+----------+-----------------+\n",
      "only showing top 1 row\n",
      "\n"
     ]
    }
   ],
   "source": [
    "df.show(1)"
   ]
  },
  {
   "cell_type": "code",
   "execution_count": 14,
   "metadata": {},
   "outputs": [
    {
     "data": {
      "text/plain": "+-----+--------+-------+-----------+----------+-----------------+\n|month|avg_high|avg_low|record_high|record_low|avg_precipitation|\n+-----+--------+-------+-----------+----------+-----------------+\n|  JAN|      23|     15|         74|        22|             2.95|\n|  FEB|      25|     16|         74|        22|             2.95|\n|  MAR|      28|     20|         74|        22|             2.95|\n|  APR|      29|     23|         74|        22|             2.95|\n|  MAY|      35|     27|         74|        22|             2.95|\n|  JUN|      36|     26|         74|        22|             2.95|\n|  JUL|      34|     25|         74|        22|             2.95|\n|  AUG|      30|     24|         74|        22|             2.95|\n|  SEP|      29|     24|         74|        22|             2.95|\n|  OCT|      26|     23|         74|        22|             2.95|\n|  NOV|      24|     22|         74|        22|             2.95|\n|  DEC|      22|     20|         74|        22|             2.95|\n+-----+--------+-------+-----------+----------+-----------------+",
      "text/html": "<table border='1'>\n<tr><th>month</th><th>avg_high</th><th>avg_low</th><th>record_high</th><th>record_low</th><th>avg_precipitation</th></tr>\n<tr><td>JAN</td><td>23</td><td>15</td><td>74</td><td>22</td><td>2.95</td></tr>\n<tr><td>FEB</td><td>25</td><td>16</td><td>74</td><td>22</td><td>2.95</td></tr>\n<tr><td>MAR</td><td>28</td><td>20</td><td>74</td><td>22</td><td>2.95</td></tr>\n<tr><td>APR</td><td>29</td><td>23</td><td>74</td><td>22</td><td>2.95</td></tr>\n<tr><td>MAY</td><td>35</td><td>27</td><td>74</td><td>22</td><td>2.95</td></tr>\n<tr><td>JUN</td><td>36</td><td>26</td><td>74</td><td>22</td><td>2.95</td></tr>\n<tr><td>JUL</td><td>34</td><td>25</td><td>74</td><td>22</td><td>2.95</td></tr>\n<tr><td>AUG</td><td>30</td><td>24</td><td>74</td><td>22</td><td>2.95</td></tr>\n<tr><td>SEP</td><td>29</td><td>24</td><td>74</td><td>22</td><td>2.95</td></tr>\n<tr><td>OCT</td><td>26</td><td>23</td><td>74</td><td>22</td><td>2.95</td></tr>\n<tr><td>NOV</td><td>24</td><td>22</td><td>74</td><td>22</td><td>2.95</td></tr>\n<tr><td>DEC</td><td>22</td><td>20</td><td>74</td><td>22</td><td>2.95</td></tr>\n</table>\n"
     },
     "execution_count": 14,
     "metadata": {},
     "output_type": "execute_result"
    }
   ],
   "source": [
    "spark.conf.set('spark.sql.repl.eagerEval.enabled', True)\n",
    "df"
   ]
  },
  {
   "cell_type": "code",
   "execution_count": 15,
   "metadata": {},
   "outputs": [
    {
     "name": "stdout",
     "output_type": "stream",
     "text": [
      "-RECORD 0-----------------\n",
      " month             | JAN  \n",
      " avg_high          | 23   \n",
      " avg_low           | 15   \n",
      " record_high       | 74   \n",
      " record_low        | 22   \n",
      " avg_precipitation | 2.95 \n",
      "only showing top 1 row\n",
      "\n"
     ]
    }
   ],
   "source": [
    "df.show(1, vertical=True)"
   ]
  },
  {
   "cell_type": "code",
   "execution_count": 16,
   "metadata": {},
   "outputs": [
    {
     "data": {
      "text/plain": "['month',\n 'avg_high',\n 'avg_low',\n 'record_high',\n 'record_low',\n 'avg_precipitation']"
     },
     "execution_count": 16,
     "metadata": {},
     "output_type": "execute_result"
    }
   ],
   "source": [
    "df.columns"
   ]
  },
  {
   "cell_type": "code",
   "execution_count": 17,
   "metadata": {},
   "outputs": [
    {
     "name": "stdout",
     "output_type": "stream",
     "text": [
      "+-------+------------------+------------------+-----------+----------+------------------+\n",
      "|summary|          avg_high|           avg_low|record_high|record_low| avg_precipitation|\n",
      "+-------+------------------+------------------+-----------+----------+------------------+\n",
      "|  count|                12|                12|         12|        12|                12|\n",
      "|   mean|28.416666666666668|22.083333333333332|       74.0|      22.0|2.9500000000000006|\n",
      "| stddev| 4.699290726623895|3.7284735685686643|        0.0|       0.0|               0.0|\n",
      "|    min|                22|                15|         74|        22|              2.95|\n",
      "|    max|                36|                27|         74|        22|              2.95|\n",
      "+-------+------------------+------------------+-----------+----------+------------------+\n",
      "\n"
     ]
    }
   ],
   "source": [
    "df.select(\"avg_high\", \"avg_low\", \"record_high\", \"record_low\", \"avg_precipitation\").describe().show()"
   ]
  },
  {
   "cell_type": "code",
   "execution_count": 18,
   "metadata": {},
   "outputs": [
    {
     "data": {
      "text/plain": "[Row(month='JAN', avg_high=23, avg_low=15, record_high=74, record_low=22, avg_precipitation=2.95),\n Row(month='FEB', avg_high=25, avg_low=16, record_high=74, record_low=22, avg_precipitation=2.95),\n Row(month='MAR', avg_high=28, avg_low=20, record_high=74, record_low=22, avg_precipitation=2.95),\n Row(month='APR', avg_high=29, avg_low=23, record_high=74, record_low=22, avg_precipitation=2.95),\n Row(month='MAY', avg_high=35, avg_low=27, record_high=74, record_low=22, avg_precipitation=2.95),\n Row(month='JUN', avg_high=36, avg_low=26, record_high=74, record_low=22, avg_precipitation=2.95),\n Row(month='JUL', avg_high=34, avg_low=25, record_high=74, record_low=22, avg_precipitation=2.95),\n Row(month='AUG', avg_high=30, avg_low=24, record_high=74, record_low=22, avg_precipitation=2.95),\n Row(month='SEP', avg_high=29, avg_low=24, record_high=74, record_low=22, avg_precipitation=2.95),\n Row(month='OCT', avg_high=26, avg_low=23, record_high=74, record_low=22, avg_precipitation=2.95),\n Row(month='NOV', avg_high=24, avg_low=22, record_high=74, record_low=22, avg_precipitation=2.95),\n Row(month='DEC', avg_high=22, avg_low=20, record_high=74, record_low=22, avg_precipitation=2.95)]"
     },
     "execution_count": 18,
     "metadata": {},
     "output_type": "execute_result"
    }
   ],
   "source": [
    "df.collect()"
   ]
  },
  {
   "cell_type": "markdown",
   "metadata": {
    "pycharm": {
     "name": "#%% md\n"
    }
   },
   "source": [
    "# Memory management"
   ]
  },
  {
   "cell_type": "code",
   "execution_count": 19,
   "metadata": {},
   "outputs": [
    {
     "data": {
      "text/plain": "[Row(month='JAN', avg_high=23, avg_low=15, record_high=74, record_low=22, avg_precipitation=2.95)]"
     },
     "execution_count": 19,
     "metadata": {},
     "output_type": "execute_result"
    }
   ],
   "source": [
    "df.take(1)"
   ]
  },
  {
   "cell_type": "code",
   "execution_count": 20,
   "metadata": {},
   "outputs": [
    {
     "data": {
      "text/plain": "   month  avg_high  avg_low  record_high  record_low  avg_precipitation\n0    JAN        23       15           74          22               2.95\n1    FEB        25       16           74          22               2.95\n2    MAR        28       20           74          22               2.95\n3    APR        29       23           74          22               2.95\n4    MAY        35       27           74          22               2.95\n5    JUN        36       26           74          22               2.95\n6    JUL        34       25           74          22               2.95\n7    AUG        30       24           74          22               2.95\n8    SEP        29       24           74          22               2.95\n9    OCT        26       23           74          22               2.95\n10   NOV        24       22           74          22               2.95\n11   DEC        22       20           74          22               2.95",
      "text/html": "<div>\n<style scoped>\n    .dataframe tbody tr th:only-of-type {\n        vertical-align: middle;\n    }\n\n    .dataframe tbody tr th {\n        vertical-align: top;\n    }\n\n    .dataframe thead th {\n        text-align: right;\n    }\n</style>\n<table border=\"1\" class=\"dataframe\">\n  <thead>\n    <tr style=\"text-align: right;\">\n      <th></th>\n      <th>month</th>\n      <th>avg_high</th>\n      <th>avg_low</th>\n      <th>record_high</th>\n      <th>record_low</th>\n      <th>avg_precipitation</th>\n    </tr>\n  </thead>\n  <tbody>\n    <tr>\n      <th>0</th>\n      <td>JAN</td>\n      <td>23</td>\n      <td>15</td>\n      <td>74</td>\n      <td>22</td>\n      <td>2.95</td>\n    </tr>\n    <tr>\n      <th>1</th>\n      <td>FEB</td>\n      <td>25</td>\n      <td>16</td>\n      <td>74</td>\n      <td>22</td>\n      <td>2.95</td>\n    </tr>\n    <tr>\n      <th>2</th>\n      <td>MAR</td>\n      <td>28</td>\n      <td>20</td>\n      <td>74</td>\n      <td>22</td>\n      <td>2.95</td>\n    </tr>\n    <tr>\n      <th>3</th>\n      <td>APR</td>\n      <td>29</td>\n      <td>23</td>\n      <td>74</td>\n      <td>22</td>\n      <td>2.95</td>\n    </tr>\n    <tr>\n      <th>4</th>\n      <td>MAY</td>\n      <td>35</td>\n      <td>27</td>\n      <td>74</td>\n      <td>22</td>\n      <td>2.95</td>\n    </tr>\n    <tr>\n      <th>5</th>\n      <td>JUN</td>\n      <td>36</td>\n      <td>26</td>\n      <td>74</td>\n      <td>22</td>\n      <td>2.95</td>\n    </tr>\n    <tr>\n      <th>6</th>\n      <td>JUL</td>\n      <td>34</td>\n      <td>25</td>\n      <td>74</td>\n      <td>22</td>\n      <td>2.95</td>\n    </tr>\n    <tr>\n      <th>7</th>\n      <td>AUG</td>\n      <td>30</td>\n      <td>24</td>\n      <td>74</td>\n      <td>22</td>\n      <td>2.95</td>\n    </tr>\n    <tr>\n      <th>8</th>\n      <td>SEP</td>\n      <td>29</td>\n      <td>24</td>\n      <td>74</td>\n      <td>22</td>\n      <td>2.95</td>\n    </tr>\n    <tr>\n      <th>9</th>\n      <td>OCT</td>\n      <td>26</td>\n      <td>23</td>\n      <td>74</td>\n      <td>22</td>\n      <td>2.95</td>\n    </tr>\n    <tr>\n      <th>10</th>\n      <td>NOV</td>\n      <td>24</td>\n      <td>22</td>\n      <td>74</td>\n      <td>22</td>\n      <td>2.95</td>\n    </tr>\n    <tr>\n      <th>11</th>\n      <td>DEC</td>\n      <td>22</td>\n      <td>20</td>\n      <td>74</td>\n      <td>22</td>\n      <td>2.95</td>\n    </tr>\n  </tbody>\n</table>\n</div>"
     },
     "execution_count": 20,
     "metadata": {},
     "output_type": "execute_result"
    }
   ],
   "source": [
    "df.toPandas()"
   ]
  },
  {
   "cell_type": "code",
   "execution_count": 21,
   "metadata": {},
   "outputs": [
    {
     "data": {
      "text/plain": "Column<'month'>"
     },
     "execution_count": 21,
     "metadata": {},
     "output_type": "execute_result"
    }
   ],
   "source": [
    "df.month"
   ]
  },
  {
   "cell_type": "code",
   "execution_count": 22,
   "metadata": {
    "scrolled": true
   },
   "outputs": [
    {
     "name": "stdout",
     "output_type": "stream",
     "text": [
      "+-----+--------+-------+-----------+----------+-----------------+--------------+\n",
      "|month|avg_high|avg_low|record_high|record_low|avg_precipitation|Calender_month|\n",
      "+-----+--------+-------+-----------+----------+-----------------+--------------+\n",
      "|  JAN|      23|     15|         74|        22|             2.95|           JAN|\n",
      "|  FEB|      25|     16|         74|        22|             2.95|           FEB|\n",
      "|  MAR|      28|     20|         74|        22|             2.95|           MAR|\n",
      "|  APR|      29|     23|         74|        22|             2.95|           APR|\n",
      "|  MAY|      35|     27|         74|        22|             2.95|           MAY|\n",
      "|  JUN|      36|     26|         74|        22|             2.95|           JUN|\n",
      "|  JUL|      34|     25|         74|        22|             2.95|           JUL|\n",
      "|  AUG|      30|     24|         74|        22|             2.95|           AUG|\n",
      "|  SEP|      29|     24|         74|        22|             2.95|           SEP|\n",
      "|  OCT|      26|     23|         74|        22|             2.95|           OCT|\n",
      "|  NOV|      24|     22|         74|        22|             2.95|           NOV|\n",
      "|  DEC|      22|     20|         74|        22|             2.95|           DEC|\n",
      "+-----+--------+-------+-----------+----------+-----------------+--------------+\n",
      "\n"
     ]
    }
   ],
   "source": [
    "#Assign new Column instance.\n",
    "df.withColumn('Calender_month', df.month).show()"
   ]
  },
  {
   "cell_type": "code",
   "execution_count": 23,
   "metadata": {},
   "outputs": [
    {
     "name": "stdout",
     "output_type": "stream",
     "text": [
      "+-----+--------+-------+-----------+----------+-----------------+\n",
      "|month|avg_high|avg_low|record_high|record_low|avg_precipitation|\n",
      "+-----+--------+-------+-----------+----------+-----------------+\n",
      "|  OCT|      26|     23|         74|        22|             2.95|\n",
      "+-----+--------+-------+-----------+----------+-----------------+\n",
      "\n"
     ]
    }
   ],
   "source": [
    "df.filter(df.avg_high == 26).show()"
   ]
  }
 ],
 "metadata": {
  "kernelspec": {
   "name": "pycharm-7bd40b95",
   "language": "python",
   "display_name": "PyCharm (pyspark-nlp)"
  },
  "language_info": {
   "codemirror_mode": {
    "name": "ipython",
    "version": 3
   },
   "file_extension": ".py",
   "mimetype": "text/x-python",
   "name": "python",
   "nbconvert_exporter": "python",
   "pygments_lexer": "ipython3",
   "version": "3.7.6"
  }
 },
 "nbformat": 4,
 "nbformat_minor": 1
}