{
 "cells": [
  {
   "cell_type": "markdown",
   "metadata": {
    "pycharm": {
     "name": "#%% md\n"
    }
   },
   "source": [
    "https://github.com/gogundur/Pyspark-Logistic-Regression/blob/master/Pyspark/Pyspark%20Classification.ipynb"
   ]
  },
  {
   "cell_type": "code",
   "execution_count": 57,
   "metadata": {
    "pycharm": {
     "name": "#%%\n"
    }
   },
   "outputs": [],
   "source": [
    "from pyspark.ml.evaluation import MulticlassClassificationEvaluator\n",
    "from pyspark.mllib.evaluation import MulticlassMetrics\n",
    "from pyspark.sql import SparkSession\n",
    "\n",
    "spark = SparkSession.builder.getOrCreate()"
   ]
  },
  {
   "cell_type": "code",
   "execution_count": 58,
   "metadata": {
    "pycharm": {
     "name": "#%%\n"
    }
   },
   "outputs": [
    {
     "name": "stdout",
     "output_type": "stream",
     "text": [
      "+-----------+-------+-------------+-------------+-------+----+------------------------+---+-------+\n",
      "|Pregnancies|Glucose|BloodPressure|SkinThickness|Insulin| BMI|DiabetesPedigreeFunction|Age|Outcome|\n",
      "+-----------+-------+-------------+-------------+-------+----+------------------------+---+-------+\n",
      "|          6|    148|           72|           35|      0|33.6|                   0.627| 50|      1|\n",
      "|          1|     85|           66|           29|      0|26.6|                   0.351| 31|      0|\n",
      "|          8|    183|           64|            0|      0|23.3|                   0.672| 32|      1|\n",
      "|          1|     89|           66|           23|     94|28.1|                   0.167| 21|      0|\n",
      "|          0|    137|           40|           35|    168|43.1|                   2.288| 33|      1|\n",
      "|          5|    116|           74|            0|      0|25.6|                   0.201| 30|      0|\n",
      "|          3|     78|           50|           32|     88|31.0|                   0.248| 26|      1|\n",
      "|         10|    115|            0|            0|      0|35.3|                   0.134| 29|      0|\n",
      "|          2|    197|           70|           45|    543|30.5|                   0.158| 53|      1|\n",
      "|          8|    125|           96|            0|      0| 0.0|                   0.232| 54|      1|\n",
      "+-----------+-------+-------------+-------------+-------+----+------------------------+---+-------+\n",
      "only showing top 10 rows\n",
      "\n"
     ]
    }
   ],
   "source": [
    "df = spark.read.csv(\"data/diabetes.csv\",inferSchema=True,header=True)\n",
    "df.show(10)"
   ]
  },
  {
   "cell_type": "code",
   "execution_count": 59,
   "metadata": {
    "pycharm": {
     "name": "#%%\n"
    }
   },
   "outputs": [
    {
     "name": "stdout",
     "output_type": "stream",
     "text": [
      "root\n",
      " |-- Pregnancies: integer (nullable = true)\n",
      " |-- Glucose: integer (nullable = true)\n",
      " |-- BloodPressure: integer (nullable = true)\n",
      " |-- SkinThickness: integer (nullable = true)\n",
      " |-- Insulin: integer (nullable = true)\n",
      " |-- BMI: double (nullable = true)\n",
      " |-- DiabetesPedigreeFunction: double (nullable = true)\n",
      " |-- Age: integer (nullable = true)\n",
      " |-- Outcome: integer (nullable = true)\n",
      "\n"
     ]
    }
   ],
   "source": [
    "df.printSchema()"
   ]
  },
  {
   "cell_type": "code",
   "execution_count": 60,
   "metadata": {
    "pycharm": {
     "name": "#%%\n"
    }
   },
   "outputs": [
    {
     "data": {
      "text/plain": "['Pregnancies',\n 'Glucose',\n 'BloodPressure',\n 'SkinThickness',\n 'Insulin',\n 'BMI',\n 'DiabetesPedigreeFunction',\n 'Age',\n 'Outcome']"
     },
     "execution_count": 60,
     "metadata": {},
     "output_type": "execute_result"
    }
   ],
   "source": [
    "df.columns"
   ]
  },
  {
   "cell_type": "code",
   "execution_count": 61,
   "metadata": {
    "pycharm": {
     "name": "#%%\n"
    }
   },
   "outputs": [
    {
     "name": "stdout",
     "output_type": "stream",
     "text": [
      "+--------------------+-------+\n",
      "|            features|Outcome|\n",
      "+--------------------+-------+\n",
      "|[6.0,148.0,72.0,3...|      1|\n",
      "|[1.0,85.0,66.0,29...|      0|\n",
      "|[8.0,183.0,64.0,0...|      1|\n",
      "|[1.0,89.0,66.0,23...|      0|\n",
      "|[0.0,137.0,40.0,3...|      1|\n",
      "+--------------------+-------+\n",
      "only showing top 5 rows\n",
      "\n"
     ]
    }
   ],
   "source": [
    "from pyspark.ml.feature import VectorAssembler\n",
    "assembler=VectorAssembler(inputCols=[\n",
    "    'Pregnancies','Glucose','BloodPressure',\n",
    "    'SkinThickness','Insulin','BMI',\n",
    "    'DiabetesPedigreeFunction','Age'],outputCol='features')\n",
    "output=assembler.transform(df)\n",
    "output.select('features','Outcome').show(5)\n"
   ]
  },
  {
   "cell_type": "code",
   "execution_count": 62,
   "metadata": {
    "pycharm": {
     "name": "#%%\n"
    }
   },
   "outputs": [
    {
     "name": "stdout",
     "output_type": "stream",
     "text": [
      "+-------+-------------------+\n",
      "|summary|            Outcome|\n",
      "+-------+-------------------+\n",
      "|  count|                542|\n",
      "|   mean|0.36531365313653136|\n",
      "| stddev| 0.4819628242061407|\n",
      "|    min|                  0|\n",
      "|    max|                  1|\n",
      "+-------+-------------------+\n",
      "\n"
     ]
    }
   ],
   "source": [
    "#final data consist of features and label which is crew.\n",
    "final_data=output.select('features','Outcome')\n",
    "#splitting data into train and test\n",
    "train_data,test_data=final_data.randomSplit([0.7,0.3])\n",
    "train_data.describe().show()"
   ]
  },
  {
   "cell_type": "code",
   "execution_count": 63,
   "metadata": {
    "pycharm": {
     "name": "#%%\n"
    }
   },
   "outputs": [
    {
     "name": "stdout",
     "output_type": "stream",
     "text": [
      "+-------+-------------------+\n",
      "|summary|            Outcome|\n",
      "+-------+-------------------+\n",
      "|  count|                226|\n",
      "|   mean|0.30973451327433627|\n",
      "| stddev| 0.4634104687389713|\n",
      "|    min|                  0|\n",
      "|    max|                  1|\n",
      "+-------+-------------------+\n",
      "\n"
     ]
    }
   ],
   "source": [
    "test_data.describe().show()"
   ]
  },
  {
   "cell_type": "code",
   "execution_count": 64,
   "metadata": {
    "pycharm": {
     "name": "#%%\n"
    }
   },
   "outputs": [],
   "source": [
    "from pyspark.ml.classification import LogisticRegression\n",
    "logistic_reg = LogisticRegression(featuresCol = 'features', labelCol = 'Outcome',maxIter=5)\n",
    "logistic_reg_Model = logistic_reg.fit(train_data)"
   ]
  },
  {
   "cell_type": "code",
   "execution_count": 65,
   "metadata": {
    "pycharm": {
     "name": "#%%\n"
    }
   },
   "outputs": [
    {
     "data": {
      "text/plain": "<Figure size 432x288 with 1 Axes>",
      "image/png": "[encoded data removed]"
     },
     "metadata": {
      "needs_background": "light"
     },
     "output_type": "display_data"
    }
   ],
   "source": [
    "import matplotlib.pyplot as plt\n",
    "import numpy as np\n",
    "beta = np.sort(logistic_reg_Model.coefficients)\n",
    "plt.plot(beta)\n",
    "plt.ylabel('Beta Coefficients')\n",
    "plt.show()"
   ]
  },
  {
   "cell_type": "code",
   "execution_count": 66,
   "metadata": {
    "pycharm": {
     "name": "#%%\n"
    }
   },
   "outputs": [
    {
     "name": "stdout",
     "output_type": "stream",
     "text": [
      "+--------------------+-------+--------------------+--------------------+----------+\n",
      "|            features|Outcome|       rawPrediction|         probability|prediction|\n",
      "+--------------------+-------+--------------------+--------------------+----------+\n",
      "|(8,[1,5,6,7],[117...|      0|[-0.4888237015840...|[0.38017071262665...|       1.0|\n",
      "|(8,[1,5,6,7],[119...|      1|[0.64300708886963...|[0.65543290045991...|       0.0|\n",
      "|(8,[1,5,6,7],[131...|      1|[-0.8746229802018...|[0.29429326734863...|       1.0|\n",
      "|(8,[1,6,7],[94.0,...|      0|[4.26602548286395...|[0.98615685804459...|       0.0|\n",
      "|[0.0,57.0,60.0,0....|      0|[3.15076100748109...|[0.95893869714391...|       0.0|\n",
      "|[0.0,78.0,88.0,29...|      0|[2.59295934082120...|[0.93040707793083...|       0.0|\n",
      "|[0.0,86.0,68.0,32...|      0|[2.25228933233334...|[0.90484782535029...|       0.0|\n",
      "|[0.0,93.0,60.0,25...|      0|[2.39123555846571...|[0.91615652479096...|       0.0|\n",
      "|[0.0,95.0,64.0,39...|      0|[1.10618356214454...|[0.75141692502644...|       0.0|\n",
      "|[0.0,95.0,80.0,45...|      0|[2.03246575453141...|[0.88416385522109...|       0.0|\n",
      "|[0.0,98.0,82.0,15...|      0|[3.06314131536739...|[0.95534649595484...|       0.0|\n",
      "|[0.0,101.0,64.0,1...|      0|[3.11283128923862...|[0.95741893116163...|       0.0|\n",
      "|[0.0,101.0,65.0,2...|      0|[2.80448847326985...|[0.94291789135559...|       0.0|\n",
      "|[0.0,102.0,75.0,2...|      0|[4.85976192796894...|[0.99230730700494...|       0.0|\n",
      "|[0.0,105.0,64.0,4...|      0|[1.27264478897117...|[0.78119515599096...|       0.0|\n",
      "|[0.0,105.0,68.0,2...|      0|[3.13535613386043...|[0.95832781929065...|       0.0|\n",
      "|[0.0,106.0,70.0,3...|      0|[1.11815796084185...|[0.75364687726407...|       0.0|\n",
      "|[0.0,107.0,60.0,2...|      0|[2.45678907667658...|[0.92105650746481...|       0.0|\n",
      "|[0.0,107.0,62.0,3...|      1|[0.99113153009421...|[0.72931136278545...|       0.0|\n",
      "|[0.0,117.0,66.0,3...|      0|[1.61874190889345...|[0.83462155058143...|       0.0|\n",
      "+--------------------+-------+--------------------+--------------------+----------+\n",
      "only showing top 20 rows\n",
      "\n"
     ]
    }
   ],
   "source": [
    "predictions = logistic_reg_Model.transform(test_data)\n",
    "predictions.show()"
   ]
  },
  {
   "cell_type": "markdown",
   "source": [
    "# Model Evaluation"
   ],
   "metadata": {
    "collapsed": false,
    "pycharm": {
     "name": "#%% md\n"
    }
   }
  },
  {
   "cell_type": "code",
   "execution_count": 67,
   "outputs": [
    {
     "name": "stdout",
     "output_type": "stream",
     "text": [
      "0.8607142857142858\n"
     ]
    }
   ],
   "source": [
    "from pyspark.ml.evaluation import BinaryClassificationEvaluator\n",
    "evaluator= BinaryClassificationEvaluator(labelCol=\"Outcome\")\n",
    "accuracy= evaluator.evaluate(predictions)\n",
    "print(accuracy)"
   ],
   "metadata": {
    "collapsed": false,
    "pycharm": {
     "name": "#%%\n"
    }
   }
  }
 ],
 "metadata": {
  "kernelspec": {
   "display_name": "PyCharm (pyspark-nlp)",
   "language": "python",
   "name": "pycharm-7bd40b95"
  },
  "language_info": {
   "codemirror_mode": {
    "name": "ipython",
    "version": 3
   },
   "file_extension": ".py",
   "mimetype": "text/x-python",
   "name": "python",
   "nbconvert_exporter": "python",
   "pygments_lexer": "ipython3",
   "version": "3.7.6"
  }
 },
 "nbformat": 4,
 "nbformat_minor": 1
}