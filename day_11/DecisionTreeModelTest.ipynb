{
 "cells": [
  {
   "cell_type": "code",
   "execution_count": 26,
   "outputs": [],
   "source": [
    "from pyspark.ml.classification import DecisionTreeClassifier\n",
    "from pyspark.sql import SparkSession\n",
    "\n",
    "spark = SparkSession.builder.getOrCreate()"
   ],
   "metadata": {
    "collapsed": false,
    "pycharm": {
     "name": "#%%\n"
    }
   }
  },
  {
   "cell_type": "code",
   "execution_count": 27,
   "outputs": [
    {
     "name": "stdout",
     "output_type": "stream",
     "text": [
      "+-----------+-------+-------------+-------------+-------+----+------------------------+---+-------+\n",
      "|Pregnancies|Glucose|BloodPressure|SkinThickness|Insulin| BMI|DiabetesPedigreeFunction|Age|Outcome|\n",
      "+-----------+-------+-------------+-------------+-------+----+------------------------+---+-------+\n",
      "|          6|    148|           72|           35|      0|33.6|                   0.627| 50|      1|\n",
      "|          1|     85|           66|           29|      0|26.6|                   0.351| 31|      0|\n",
      "|          8|    183|           64|            0|      0|23.3|                   0.672| 32|      1|\n",
      "|          1|     89|           66|           23|     94|28.1|                   0.167| 21|      0|\n",
      "|          0|    137|           40|           35|    168|43.1|                   2.288| 33|      1|\n",
      "|          5|    116|           74|            0|      0|25.6|                   0.201| 30|      0|\n",
      "|          3|     78|           50|           32|     88|31.0|                   0.248| 26|      1|\n",
      "|         10|    115|            0|            0|      0|35.3|                   0.134| 29|      0|\n",
      "|          2|    197|           70|           45|    543|30.5|                   0.158| 53|      1|\n",
      "|          8|    125|           96|            0|      0| 0.0|                   0.232| 54|      1|\n",
      "+-----------+-------+-------------+-------------+-------+----+------------------------+---+-------+\n",
      "only showing top 10 rows\n",
      "\n"
     ]
    }
   ],
   "source": [
    "df = spark.read.csv(\"data/diabetes.csv\",inferSchema=True,header=True)\n",
    "df.show(10)"
   ],
   "metadata": {
    "collapsed": false,
    "pycharm": {
     "name": "#%%\n"
    }
   }
  },
  {
   "cell_type": "code",
   "execution_count": 28,
   "outputs": [
    {
     "name": "stdout",
     "output_type": "stream",
     "text": [
      "root\n",
      " |-- Pregnancies: integer (nullable = true)\n",
      " |-- Glucose: integer (nullable = true)\n",
      " |-- BloodPressure: integer (nullable = true)\n",
      " |-- SkinThickness: integer (nullable = true)\n",
      " |-- Insulin: integer (nullable = true)\n",
      " |-- BMI: double (nullable = true)\n",
      " |-- DiabetesPedigreeFunction: double (nullable = true)\n",
      " |-- Age: integer (nullable = true)\n",
      " |-- Outcome: integer (nullable = true)\n",
      "\n"
     ]
    }
   ],
   "source": [
    "df.printSchema()"
   ],
   "metadata": {
    "collapsed": false,
    "pycharm": {
     "name": "#%%\n"
    }
   }
  },
  {
   "cell_type": "code",
   "execution_count": 29,
   "outputs": [
    {
     "data": {
      "text/plain": "['Pregnancies',\n 'Glucose',\n 'BloodPressure',\n 'SkinThickness',\n 'Insulin',\n 'BMI',\n 'DiabetesPedigreeFunction',\n 'Age',\n 'Outcome']"
     },
     "execution_count": 29,
     "metadata": {},
     "output_type": "execute_result"
    }
   ],
   "source": [
    "df.columns"
   ],
   "metadata": {
    "collapsed": false,
    "pycharm": {
     "name": "#%%\n"
    }
   }
  },
  {
   "cell_type": "code",
   "execution_count": 30,
   "outputs": [
    {
     "name": "stdout",
     "output_type": "stream",
     "text": [
      "+--------------------+-------+\n",
      "|            features|Outcome|\n",
      "+--------------------+-------+\n",
      "|[6.0,148.0,72.0,3...|      1|\n",
      "|[1.0,85.0,66.0,29...|      0|\n",
      "|[8.0,183.0,64.0,0...|      1|\n",
      "|[1.0,89.0,66.0,23...|      0|\n",
      "|[0.0,137.0,40.0,3...|      1|\n",
      "+--------------------+-------+\n",
      "only showing top 5 rows\n",
      "\n"
     ]
    }
   ],
   "source": [
    "from pyspark.ml.feature import VectorAssembler\n",
    "assembler=VectorAssembler(inputCols=[\n",
    "    'Pregnancies','Glucose','BloodPressure',\n",
    "    'SkinThickness','Insulin','BMI',\n",
    "    'DiabetesPedigreeFunction','Age'],outputCol='features')\n",
    "output=assembler.transform(df)\n",
    "output.select('features','Outcome').show(5)"
   ],
   "metadata": {
    "collapsed": false,
    "pycharm": {
     "name": "#%%\n"
    }
   }
  },
  {
   "cell_type": "code",
   "execution_count": 31,
   "outputs": [
    {
     "name": "stdout",
     "output_type": "stream",
     "text": [
      "+-------+------------------+------------------+-----------------+------------------+------------------+----------------+------------------------+------------------+-------------------+\n",
      "|summary|       Pregnancies|           Glucose|    BloodPressure|     SkinThickness|           Insulin|             BMI|DiabetesPedigreeFunction|               Age|            Outcome|\n",
      "+-------+------------------+------------------+-----------------+------------------+------------------+----------------+------------------------+------------------+-------------------+\n",
      "|  count|               599|               599|              599|               599|               599|             599|                     599|               599|                599|\n",
      "|   mean|3.9248747913188646| 120.8848080133556|69.36393989983306|20.402337228714526| 79.06343906510851|            32.1|      0.4707762938230384| 33.40734557595993|0.34557595993322204|\n",
      "| stddev|3.4354095931817694|31.317850801915505|19.39919752770176|15.700799711641551|117.55133788685342|7.82669302744265|     0.33084013868256495|11.691592016432374|0.47595314736290356|\n",
      "|    min|                 0|                 0|                0|                 0|                 0|             0.0|                   0.084|                21|                  0|\n",
      "|    max|                17|               199|              122|                60|               846|            67.1|                   2.329|                72|                  1|\n",
      "+-------+------------------+------------------+-----------------+------------------+------------------+----------------+------------------------+------------------+-------------------+\n",
      "\n"
     ]
    }
   ],
   "source": [
    "(train, test) = output.randomSplit([0.8, 0.2])\n",
    "train.describe().show()"
   ],
   "metadata": {
    "collapsed": false,
    "pycharm": {
     "name": "#%%\n"
    }
   }
  },
  {
   "cell_type": "code",
   "execution_count": 32,
   "outputs": [
    {
     "name": "stdout",
     "output_type": "stream",
     "text": [
      "+-------+-----------------+------------------+------------------+------------------+------------------+------------------+------------------------+------------------+------------------+\n",
      "|summary|      Pregnancies|           Glucose|     BloodPressure|     SkinThickness|           Insulin|               BMI|DiabetesPedigreeFunction|               Age|           Outcome|\n",
      "+-------+-----------------+------------------+------------------+------------------+------------------+------------------+------------------------+------------------+------------------+\n",
      "|  count|              169|               169|               169|               169|               169|               169|                     169|               169|               169|\n",
      "|   mean|3.562130177514793|120.92899408284023| 68.18934911242603|21.011834319526628| 82.40828402366864|31.611834319526626|      0.4757751479289942|32.650887573964496|0.3609467455621302|\n",
      "| stddev|3.118300087440895|34.290525896288216|19.230423073807643|16.853001769389728|106.95562131541507| 8.096713152702675|     0.33401163238602105|12.016952897703248|0.4817023910835974|\n",
      "|    min|                0|                 0|                 0|                 0|                 0|               0.0|                   0.078|                21|                 0|\n",
      "|    max|               14|               198|               104|                99|               540|              59.4|                    2.42|                81|                 1|\n",
      "+-------+-----------------+------------------+------------------+------------------+------------------+------------------+------------------------+------------------+------------------+\n",
      "\n"
     ]
    }
   ],
   "source": [
    "test.describe().show()"
   ],
   "metadata": {
    "collapsed": false,
    "pycharm": {
     "name": "#%%\n"
    }
   }
  },
  {
   "cell_type": "code",
   "execution_count": 33,
   "outputs": [
    {
     "name": "stdout",
     "output_type": "stream",
     "text": [
      "+-----------+-------+-------------+-------------+-------+----+------------------------+---+-------+--------------------+-------------+--------------------+----------+\n",
      "|Pregnancies|Glucose|BloodPressure|SkinThickness|Insulin| BMI|DiabetesPedigreeFunction|Age|Outcome|            features|rawPrediction|         probability|prediction|\n",
      "+-----------+-------+-------------+-------------+-------+----+------------------------+---+-------+--------------------+-------------+--------------------+----------+\n",
      "|          0|     73|            0|            0|      0|21.1|                   0.342| 25|      0|(8,[1,5,6,7],[73....|  [110.0,1.0]|[0.99099099099099...|       0.0|\n",
      "|          0|     78|           88|           29|     40|36.9|                   0.434| 21|      0|[0.0,78.0,88.0,29...|  [74.0,13.0]|[0.85057471264367...|       0.0|\n",
      "|          0|     93|           60|            0|      0|35.3|                   0.263| 25|      0|[0.0,93.0,60.0,0....|  [74.0,13.0]|[0.85057471264367...|       0.0|\n",
      "|          0|     93|          100|           39|     72|43.4|                   1.021| 35|      0|[0.0,93.0,100.0,3...|  [40.0,10.0]|           [0.8,0.2]|       0.0|\n",
      "|          0|     94|            0|            0|      0| 0.0|                   0.256| 25|      0|(8,[1,6,7],[94.0,...|  [110.0,1.0]|[0.99099099099099...|       0.0|\n",
      "|          0|     95|           85|           25|     36|37.4|                   0.247| 24|      1|[0.0,95.0,85.0,25...|  [74.0,13.0]|[0.85057471264367...|       0.0|\n",
      "|          0|     97|           64|           36|    100|36.8|                     0.6| 25|      0|[0.0,97.0,64.0,36...|  [74.0,13.0]|[0.85057471264367...|       0.0|\n",
      "|          0|    100|           70|           26|     50|30.8|                   0.597| 21|      0|[0.0,100.0,70.0,2...|  [74.0,13.0]|[0.85057471264367...|       0.0|\n",
      "|          0|    101|           62|            0|      0|21.9|                   0.336| 25|      0|[0.0,101.0,62.0,0...|  [110.0,1.0]|[0.99099099099099...|       0.0|\n",
      "|          0|    102|           52|            0|      0|25.1|                   0.078| 21|      0|[0.0,102.0,52.0,0...|  [110.0,1.0]|[0.99099099099099...|       0.0|\n",
      "|          0|    102|           78|           40|     90|34.5|                   0.238| 24|      0|[0.0,102.0,78.0,4...|  [74.0,13.0]|[0.85057471264367...|       0.0|\n",
      "|          0|    105|           90|            0|      0|29.6|                   0.197| 46|      0|[0.0,105.0,90.0,0...|   [14.0,6.0]|           [0.7,0.3]|       0.0|\n",
      "|          0|    117|           66|           31|    188|30.8|                   0.493| 22|      0|[0.0,117.0,66.0,3...|  [74.0,13.0]|[0.85057471264367...|       0.0|\n",
      "|          0|    118|           64|           23|     89| 0.0|                   1.731| 21|      0|[0.0,118.0,64.0,2...|  [110.0,1.0]|[0.99099099099099...|       0.0|\n",
      "|          0|    118|           84|           47|    230|45.8|                   0.551| 31|      1|[0.0,118.0,84.0,4...|  [26.0,41.0]|[0.38805970149253...|       1.0|\n",
      "|          0|    119|            0|            0|      0|32.4|                   0.141| 24|      1|(8,[1,5,6,7],[119...|  [74.0,13.0]|[0.85057471264367...|       0.0|\n",
      "|          0|    121|           66|           30|    165|34.3|                   0.203| 33|      1|[0.0,121.0,66.0,3...|   [14.0,6.0]|           [0.7,0.3]|       0.0|\n",
      "|          0|    124|           56|           13|    105|21.8|                   0.452| 21|      0|[0.0,124.0,56.0,1...|  [110.0,1.0]|[0.99099099099099...|       0.0|\n",
      "|          0|    129|           80|            0|      0|31.2|                   0.703| 29|      0|[0.0,129.0,80.0,0...|  [21.0,10.0]|[0.67741935483870...|       0.0|\n",
      "|          0|    138|           60|           35|    167|34.6|                   0.534| 21|      1|[0.0,138.0,60.0,3...|  [21.0,10.0]|[0.67741935483870...|       0.0|\n",
      "+-----------+-------+-------------+-------------+-------+----+------------------------+---+-------+--------------------+-------------+--------------------+----------+\n",
      "only showing top 20 rows\n",
      "\n"
     ]
    }
   ],
   "source": [
    "dtc = DecisionTreeClassifier(featuresCol=\"features\", labelCol=\"Outcome\")\n",
    "dtc = dtc.fit(train)\n",
    "\n",
    "pred = dtc.transform(test)\n",
    "pred.show()\n"
   ],
   "metadata": {
    "collapsed": false,
    "pycharm": {
     "name": "#%%\n"
    }
   }
  },
  {
   "cell_type": "markdown",
   "source": [
    "# Model Evaluation"
   ],
   "metadata": {
    "collapsed": false
   }
  },
  {
   "cell_type": "code",
   "execution_count": 34,
   "outputs": [
    {
     "name": "stdout",
     "output_type": "stream",
     "text": [
      "0.7937917425622344\n"
     ]
    }
   ],
   "source": [
    "from pyspark.ml.evaluation import BinaryClassificationEvaluator\n",
    "evaluator= BinaryClassificationEvaluator(labelCol=\"Outcome\")\n",
    "accuracy= evaluator.evaluate(pred)\n",
    "print(accuracy)"
   ],
   "metadata": {
    "collapsed": false,
    "pycharm": {
     "name": "#%%\n"
    }
   }
  }
 ],
 "metadata": {
  "kernelspec": {
   "name": "pycharm-7bd40b95",
   "language": "python",
   "display_name": "PyCharm (pyspark-nlp)"
  },
  "language_info": {
   "codemirror_mode": {
    "name": "ipython",
    "version": 2
   },
   "file_extension": ".py",
   "mimetype": "text/x-python",
   "name": "python",
   "nbconvert_exporter": "python",
   "pygments_lexer": "ipython2",
   "version": "2.7.6"
  }
 },
 "nbformat": 4,
 "nbformat_minor": 0
}