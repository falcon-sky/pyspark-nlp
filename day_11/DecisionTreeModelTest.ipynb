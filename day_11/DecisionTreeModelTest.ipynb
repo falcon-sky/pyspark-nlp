{
 "cells": [
  {
   "cell_type": "code",
   "execution_count": 1,
   "outputs": [],
   "source": [
    "from pyspark.ml.classification import DecisionTreeClassifier\n",
    "from pyspark.sql import SparkSession\n",
    "\n",
    "spark = SparkSession.builder.getOrCreate()"
   ],
   "metadata": {
    "collapsed": false,
    "pycharm": {
     "name": "#%%\n"
    }
   }
  },
  {
   "cell_type": "code",
   "execution_count": 2,
   "outputs": [
    {
     "name": "stdout",
     "output_type": "stream",
     "text": [
      "+-----------+-------+-------------+-------------+-------+----+------------------------+---+-------+\n",
      "|Pregnancies|Glucose|BloodPressure|SkinThickness|Insulin| BMI|DiabetesPedigreeFunction|Age|Outcome|\n",
      "+-----------+-------+-------------+-------------+-------+----+------------------------+---+-------+\n",
      "|          6|    148|           72|           35|      0|33.6|                   0.627| 50|      1|\n",
      "|          1|     85|           66|           29|      0|26.6|                   0.351| 31|      0|\n",
      "|          8|    183|           64|            0|      0|23.3|                   0.672| 32|      1|\n",
      "|          1|     89|           66|           23|     94|28.1|                   0.167| 21|      0|\n",
      "|          0|    137|           40|           35|    168|43.1|                   2.288| 33|      1|\n",
      "|          5|    116|           74|            0|      0|25.6|                   0.201| 30|      0|\n",
      "|          3|     78|           50|           32|     88|31.0|                   0.248| 26|      1|\n",
      "|         10|    115|            0|            0|      0|35.3|                   0.134| 29|      0|\n",
      "|          2|    197|           70|           45|    543|30.5|                   0.158| 53|      1|\n",
      "|          8|    125|           96|            0|      0| 0.0|                   0.232| 54|      1|\n",
      "+-----------+-------+-------------+-------------+-------+----+------------------------+---+-------+\n",
      "only showing top 10 rows\n",
      "\n"
     ]
    }
   ],
   "source": [
    "df = spark.read.csv(\"data/diabetes.csv\",inferSchema=True,header=True)\n",
    "df.show(10)"
   ],
   "metadata": {
    "collapsed": false,
    "pycharm": {
     "name": "#%%\n"
    }
   }
  },
  {
   "cell_type": "code",
   "execution_count": 3,
   "outputs": [
    {
     "name": "stdout",
     "output_type": "stream",
     "text": [
      "root\n",
      " |-- Pregnancies: integer (nullable = true)\n",
      " |-- Glucose: integer (nullable = true)\n",
      " |-- BloodPressure: integer (nullable = true)\n",
      " |-- SkinThickness: integer (nullable = true)\n",
      " |-- Insulin: integer (nullable = true)\n",
      " |-- BMI: double (nullable = true)\n",
      " |-- DiabetesPedigreeFunction: double (nullable = true)\n",
      " |-- Age: integer (nullable = true)\n",
      " |-- Outcome: integer (nullable = true)\n",
      "\n"
     ]
    }
   ],
   "source": [
    "df.printSchema()"
   ],
   "metadata": {
    "collapsed": false,
    "pycharm": {
     "name": "#%%\n"
    }
   }
  },
  {
   "cell_type": "code",
   "execution_count": 4,
   "outputs": [
    {
     "data": {
      "text/plain": "['Pregnancies',\n 'Glucose',\n 'BloodPressure',\n 'SkinThickness',\n 'Insulin',\n 'BMI',\n 'DiabetesPedigreeFunction',\n 'Age',\n 'Outcome']"
     },
     "execution_count": 4,
     "metadata": {},
     "output_type": "execute_result"
    }
   ],
   "source": [
    "df.columns"
   ],
   "metadata": {
    "collapsed": false,
    "pycharm": {
     "name": "#%%\n"
    }
   }
  },
  {
   "cell_type": "code",
   "execution_count": 5,
   "outputs": [
    {
     "name": "stdout",
     "output_type": "stream",
     "text": [
      "+--------------------+-------+\n",
      "|            features|Outcome|\n",
      "+--------------------+-------+\n",
      "|[6.0,148.0,72.0,3...|      1|\n",
      "|[1.0,85.0,66.0,29...|      0|\n",
      "|[8.0,183.0,64.0,0...|      1|\n",
      "|[1.0,89.0,66.0,23...|      0|\n",
      "|[0.0,137.0,40.0,3...|      1|\n",
      "+--------------------+-------+\n",
      "only showing top 5 rows\n",
      "\n"
     ]
    }
   ],
   "source": [
    "from pyspark.ml.feature import VectorAssembler\n",
    "assembler=VectorAssembler(inputCols=[\n",
    "    'Pregnancies','Glucose','BloodPressure',\n",
    "    'SkinThickness','Insulin','BMI',\n",
    "    'DiabetesPedigreeFunction','Age'],outputCol='features')\n",
    "output=assembler.transform(df)\n",
    "output.select('features','Outcome').show(5)"
   ],
   "metadata": {
    "collapsed": false,
    "pycharm": {
     "name": "#%%\n"
    }
   }
  },
  {
   "cell_type": "code",
   "execution_count": 6,
   "outputs": [
    {
     "name": "stdout",
     "output_type": "stream",
     "text": [
      "+-------+------------------+------------------+------------------+------------------+------------------+------------------+------------------------+------------------+-------------------+\n",
      "|summary|       Pregnancies|           Glucose|     BloodPressure|     SkinThickness|           Insulin|               BMI|DiabetesPedigreeFunction|               Age|            Outcome|\n",
      "+-------+------------------+------------------+------------------+------------------+------------------+------------------+------------------------+------------------+-------------------+\n",
      "|  count|               617|               617|               617|               617|               617|               617|                     617|               617|                617|\n",
      "|   mean| 3.764991896272285|121.81199351701783| 69.40680713128039|20.285251215559157| 80.12803889789303|31.861102106969224|      0.4730405186385733|33.175040518638575| 0.3419773095623987|\n",
      "| stddev|3.3050836052846284| 32.03139164518505|18.540535242927454|16.117859124883186|113.89047544728611| 7.960646555938987|     0.33644654248926004|11.849098246690312|0.47475692290681204|\n",
      "|    min|                 0|                 0|                 0|                 0|                 0|               0.0|                   0.078|                21|                  0|\n",
      "|    max|                17|               199|               122|                99|               744|              67.1|                    2.42|                81|                  1|\n",
      "+-------+------------------+------------------+------------------+------------------+------------------+------------------+------------------------+------------------+-------------------+\n",
      "\n"
     ]
    }
   ],
   "source": [
    "(train, test) = output.randomSplit([0.8, 0.2])\n",
    "train.describe().show()"
   ],
   "metadata": {
    "collapsed": false,
    "pycharm": {
     "name": "#%%\n"
    }
   }
  },
  {
   "cell_type": "code",
   "execution_count": 7,
   "outputs": [
    {
     "name": "stdout",
     "output_type": "stream",
     "text": [
      "+-------+-----------------+-----------------+------------------+------------------+------------------+-----------------+------------------------+------------------+-------------------+\n",
      "|summary|      Pregnancies|          Glucose|     BloodPressure|     SkinThickness|           Insulin|              BMI|DiabetesPedigreeFunction|               Age|            Outcome|\n",
      "+-------+-----------------+-----------------+------------------+------------------+------------------+-----------------+------------------------+------------------+-------------------+\n",
      "|  count|              151|              151|               151|               151|               151|              151|                     151|               151|                151|\n",
      "|   mean|4.172185430463577|117.1456953642384| 67.87417218543047| 21.56291390728477| 78.45695364238411|32.52980132450332|      0.4671192052980132| 33.50993377483444|0.37748344370860926|\n",
      "| stddev|3.614344734349457| 31.5595516129942|22.408124906161934|15.265462612900794|121.00042617552154|7.565437151519947|      0.3105592359417081|11.424457711225724| 0.4863705289084943|\n",
      "|    min|                0|                0|                 0|                 0|                 0|              0.0|                   0.096|                21|                  0|\n",
      "|    max|               13|              195|               108|                60|               846|             49.3|                   1.781|                72|                  1|\n",
      "+-------+-----------------+-----------------+------------------+------------------+------------------+-----------------+------------------------+------------------+-------------------+\n",
      "\n"
     ]
    }
   ],
   "source": [
    "test.describe().show()"
   ],
   "metadata": {
    "collapsed": false,
    "pycharm": {
     "name": "#%%\n"
    }
   }
  },
  {
   "cell_type": "code",
   "execution_count": 8,
   "outputs": [
    {
     "name": "stdout",
     "output_type": "stream",
     "text": [
      "+-----------+-------+-------------+-------------+-------+----+------------------------+---+-------+--------------------+-------------+--------------------+----------+\n",
      "|Pregnancies|Glucose|BloodPressure|SkinThickness|Insulin| BMI|DiabetesPedigreeFunction|Age|Outcome|            features|rawPrediction|         probability|prediction|\n",
      "+-----------+-------+-------------+-------------+-------+----+------------------------+---+-------+--------------------+-------------+--------------------+----------+\n",
      "|          0|     84|           64|           22|     66|35.8|                   0.545| 21|      0|[0.0,84.0,64.0,22...|   [82.0,0.0]|           [1.0,0.0]|       0.0|\n",
      "|          0|     86|           68|           32|      0|35.8|                   0.238| 25|      0|[0.0,86.0,68.0,32...|   [82.0,0.0]|           [1.0,0.0]|       0.0|\n",
      "|          0|     95|           85|           25|     36|37.4|                   0.247| 24|      1|[0.0,95.0,85.0,25...|   [82.0,0.0]|           [1.0,0.0]|       0.0|\n",
      "|          0|     97|           64|           36|    100|36.8|                     0.6| 25|      0|[0.0,97.0,64.0,36...|   [82.0,0.0]|           [1.0,0.0]|       0.0|\n",
      "|          0|     98|           82|           15|     84|25.2|                   0.299| 22|      0|[0.0,98.0,82.0,15...|   [82.0,0.0]|           [1.0,0.0]|       0.0|\n",
      "|          0|     99|            0|            0|      0|25.0|                   0.253| 22|      0|(8,[1,5,6,7],[99....|   [82.0,0.0]|           [1.0,0.0]|       0.0|\n",
      "|          0|    100|           88|           60|    110|46.8|                   0.962| 31|      0|[0.0,100.0,88.0,6...|   [8.0,24.0]|         [0.25,0.75]|       1.0|\n",
      "|          0|    101|           64|           17|      0|21.0|                   0.252| 21|      0|[0.0,101.0,64.0,1...|   [73.0,7.0]|     [0.9125,0.0875]|       0.0|\n",
      "|          0|    106|           70|           37|    148|39.4|                   0.605| 22|      0|[0.0,106.0,70.0,3...|  [93.0,27.0]|       [0.775,0.225]|       0.0|\n",
      "|          0|    107|           76|            0|      0|45.3|                   0.686| 24|      0|[0.0,107.0,76.0,0...|  [93.0,27.0]|       [0.775,0.225]|       0.0|\n",
      "|          0|    118|           84|           47|    230|45.8|                   0.551| 31|      1|[0.0,118.0,84.0,4...|   [8.0,24.0]|         [0.25,0.75]|       1.0|\n",
      "|          0|    119|            0|            0|      0|32.4|                   0.141| 24|      1|(8,[1,5,6,7],[119...|    [0.0,4.0]|           [0.0,1.0]|       1.0|\n",
      "|          0|    120|           74|           18|     63|30.5|                   0.285| 26|      0|[0.0,120.0,74.0,1...|  [93.0,27.0]|       [0.775,0.225]|       0.0|\n",
      "|          0|    121|           66|           30|    165|34.3|                   0.203| 33|      1|[0.0,121.0,66.0,3...|  [42.0,29.0]|[0.59154929577464...|       0.0|\n",
      "|          0|    125|           68|            0|      0|24.7|                   0.206| 21|      0|[0.0,125.0,68.0,0...|   [73.0,7.0]|     [0.9125,0.0875]|       0.0|\n",
      "|          0|    135|           68|           42|    250|42.3|                   0.365| 24|      1|[0.0,135.0,68.0,4...|  [93.0,27.0]|       [0.775,0.225]|       0.0|\n",
      "|          0|    138|            0|            0|      0|36.3|                   0.933| 25|      1|(8,[1,5,6,7],[138...|    [0.0,4.0]|           [0.0,1.0]|       1.0|\n",
      "|          0|    146|           82|            0|      0|40.5|                   1.781| 44|      0|[0.0,146.0,82.0,0...|   [6.0,13.0]|[0.31578947368421...|       1.0|\n",
      "|          0|    151|           90|           46|      0|42.1|                   0.371| 21|      1|[0.0,151.0,90.0,4...|    [7.0,0.0]|           [1.0,0.0]|       0.0|\n",
      "|          0|    152|           82|           39|    272|41.5|                    0.27| 27|      0|[0.0,152.0,82.0,3...|   [6.0,13.0]|[0.31578947368421...|       1.0|\n",
      "+-----------+-------+-------------+-------------+-------+----+------------------------+---+-------+--------------------+-------------+--------------------+----------+\n",
      "only showing top 20 rows\n",
      "\n"
     ]
    }
   ],
   "source": [
    "dtc = DecisionTreeClassifier(featuresCol=\"features\", labelCol=\"Outcome\")\n",
    "dtc = dtc.fit(train)\n",
    "\n",
    "pred = dtc.transform(test)\n",
    "pred.show()\n"
   ],
   "metadata": {
    "collapsed": false,
    "pycharm": {
     "name": "#%%\n"
    }
   }
  },
  {
   "cell_type": "markdown",
   "source": [
    "# Model Evaluation"
   ],
   "metadata": {
    "collapsed": false
   }
  },
  {
   "cell_type": "code",
   "execution_count": 9,
   "outputs": [
    {
     "name": "stdout",
     "output_type": "stream",
     "text": [
      "0.7215378872713698\n"
     ]
    }
   ],
   "source": [
    "from pyspark.ml.evaluation import BinaryClassificationEvaluator\n",
    "evaluator= BinaryClassificationEvaluator(labelCol=\"Outcome\")\n",
    "accuracy= evaluator.evaluate(pred)\n",
    "print(accuracy)"
   ],
   "metadata": {
    "collapsed": false,
    "pycharm": {
     "name": "#%%\n"
    }
   }
  }
 ],
 "metadata": {
  "kernelspec": {
   "name": "pycharm-7bd40b95",
   "language": "python",
   "display_name": "PyCharm (pyspark-nlp)"
  },
  "language_info": {
   "codemirror_mode": {
    "name": "ipython",
    "version": 2
   },
   "file_extension": ".py",
   "mimetype": "text/x-python",
   "name": "python",
   "nbconvert_exporter": "python",
   "pygments_lexer": "ipython2",
   "version": "2.7.6"
  }
 },
 "nbformat": 4,
 "nbformat_minor": 0
}