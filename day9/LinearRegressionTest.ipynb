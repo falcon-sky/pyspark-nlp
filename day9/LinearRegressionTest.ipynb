{
 "cells": [
  {
   "cell_type": "code",
   "execution_count": 112,
   "metadata": {
    "collapsed": true
   },
   "outputs": [],
   "source": [
    "from pyspark.ml.feature import VectorAssembler\n",
    "from pyspark.sql import SparkSession\n",
    "\n",
    "spark = SparkSession.builder.getOrCreate()\n"
   ]
  },
  {
   "cell_type": "code",
   "execution_count": 113,
   "outputs": [
    {
     "name": "stdout",
     "output_type": "stream",
     "text": [
      "+------+-----+-----+---------+-----+\n",
      "|number|   tv|radio|newspaper|sales|\n",
      "+------+-----+-----+---------+-----+\n",
      "|     1|230.1| 37.8|     69.2| 22.1|\n",
      "|     2| 44.5| 39.3|     45.1| 10.4|\n",
      "|     3| 17.2| 45.9|     69.3|  9.3|\n",
      "|     4|151.5| 41.3|     58.5| 18.5|\n",
      "|     5|180.8| 10.8|     58.4| 12.9|\n",
      "|     6|  8.7| 48.9|     75.0|  7.2|\n",
      "|     7| 57.5| 32.8|     23.5| 11.8|\n",
      "|     8|120.2| 19.6|     11.6| 13.2|\n",
      "|     9|  8.6|  2.1|      1.0|  4.8|\n",
      "|    10|199.8|  2.6|     21.2| 10.6|\n",
      "+------+-----+-----+---------+-----+\n",
      "only showing top 10 rows\n",
      "\n"
     ]
    }
   ],
   "source": [
    "df = spark.read.csv(\"data/Advertising.csv\",inferSchema=True,header=True)\n",
    "df.show(10)"
   ],
   "metadata": {
    "collapsed": false,
    "pycharm": {
     "name": "#%%\n"
    }
   }
  },
  {
   "cell_type": "code",
   "execution_count": 114,
   "outputs": [
    {
     "name": "stdout",
     "output_type": "stream",
     "text": [
      "root\n",
      " |-- number: integer (nullable = true)\n",
      " |-- tv: double (nullable = true)\n",
      " |-- radio: double (nullable = true)\n",
      " |-- newspaper: double (nullable = true)\n",
      " |-- sales: double (nullable = true)\n",
      "\n"
     ]
    }
   ],
   "source": [
    "df.printSchema()"
   ],
   "metadata": {
    "collapsed": false,
    "pycharm": {
     "name": "#%%\n"
    }
   }
  },
  {
   "cell_type": "code",
   "execution_count": 115,
   "outputs": [
    {
     "data": {
      "text/plain": "['number', 'tv', 'radio', 'newspaper', 'sales']"
     },
     "execution_count": 115,
     "metadata": {},
     "output_type": "execute_result"
    }
   ],
   "source": [
    "df.columns"
   ],
   "metadata": {
    "collapsed": false,
    "pycharm": {
     "name": "#%%\n"
    }
   }
  },
  {
   "cell_type": "code",
   "execution_count": 116,
   "outputs": [
    {
     "name": "stdout",
     "output_type": "stream",
     "text": [
      "+-----------------+-----+\n",
      "|         features|sales|\n",
      "+-----------------+-----+\n",
      "|[230.1,37.8,69.2]| 22.1|\n",
      "| [44.5,39.3,45.1]| 10.4|\n",
      "| [17.2,45.9,69.3]|  9.3|\n",
      "|[151.5,41.3,58.5]| 18.5|\n",
      "|[180.8,10.8,58.4]| 12.9|\n",
      "+-----------------+-----+\n",
      "only showing top 5 rows\n",
      "\n"
     ]
    }
   ],
   "source": [
    "assembler=VectorAssembler(inputCols=['tv',\n",
    " 'radio',\n",
    " 'newspaper'],outputCol='features')\n",
    "output=assembler.transform(df)\n",
    "output.select('features','sales').show(5)"
   ],
   "metadata": {
    "collapsed": false,
    "pycharm": {
     "name": "#%%\n"
    }
   }
  },
  {
   "cell_type": "code",
   "execution_count": 117,
   "outputs": [
    {
     "name": "stdout",
     "output_type": "stream",
     "text": [
      "+-------+-----------------+\n",
      "|summary|            sales|\n",
      "+-------+-----------------+\n",
      "|  count|              136|\n",
      "|   mean|14.06691176470589|\n",
      "| stddev|5.332472918749225|\n",
      "|    min|              3.2|\n",
      "|    max|             27.0|\n",
      "+-------+-----------------+\n",
      "\n"
     ]
    }
   ],
   "source": [
    "#final data consist of features and label which is crew.\n",
    "final_data=output.select('features','sales')\n",
    "#splitting data into train and test\n",
    "train_data,test_data=final_data.randomSplit([0.7,0.3])\n",
    "train_data.describe().show()"
   ],
   "metadata": {
    "collapsed": false,
    "pycharm": {
     "name": "#%%\n"
    }
   }
  },
  {
   "cell_type": "code",
   "execution_count": 118,
   "outputs": [
    {
     "name": "stdout",
     "output_type": "stream",
     "text": [
      "+-------+------------------+\n",
      "|summary|             sales|\n",
      "+-------+------------------+\n",
      "|  count|                64|\n",
      "|   mean|13.928125000000001|\n",
      "| stddev| 5.004044990789078|\n",
      "|    min|               1.6|\n",
      "|    max|              25.5|\n",
      "+-------+------------------+\n",
      "\n"
     ]
    }
   ],
   "source": [
    "test_data.describe().show()\n"
   ],
   "metadata": {
    "collapsed": false,
    "pycharm": {
     "name": "#%%\n"
    }
   }
  },
  {
   "cell_type": "code",
   "execution_count": 119,
   "outputs": [
    {
     "name": "stdout",
     "output_type": "stream",
     "text": [
      "Rsquared Error : 0.92143565550005\n",
      "intercept : 3.345346965613256\n",
      "coefficients : [0.04190956017193408,0.20658375198180065,-0.0018960547861644847]\n"
     ]
    }
   ],
   "source": [
    "#import LinearRegression library\n",
    "from pyspark.ml.regression import LinearRegression\n",
    "#creating an object of class LinearRegression\n",
    "#object takes features and label as input arguments\n",
    "ship_lr=LinearRegression(featuresCol='features',labelCol='sales')\n",
    "#pass train_data to train model\n",
    "trained_sales_model=ship_lr.fit(train_data)\n",
    "#evaluating model trained for Rsquared error\n",
    "sales_results=trained_sales_model.evaluate(train_data)\n",
    "\n",
    "print('Rsquared Error :',sales_results.r2)\n",
    "print('intercept :',trained_sales_model.intercept)\n",
    "print('coefficients :',trained_sales_model.coefficients)"
   ],
   "metadata": {
    "collapsed": false,
    "pycharm": {
     "name": "#%%\n"
    }
   }
  },
  {
   "cell_type": "markdown",
   "source": [
    "# R2 value shows accuracy of model is 90%\n",
    "#model accuracy is very good and can be use for predictive analysis"
   ],
   "metadata": {
    "collapsed": false,
    "pycharm": {
     "name": "#%% md\n"
    }
   }
  },
  {
   "cell_type": "code",
   "execution_count": 120,
   "outputs": [
    {
     "name": "stdout",
     "output_type": "stream",
     "text": [
      "+---------------+\n",
      "|       features|\n",
      "+---------------+\n",
      "| [0.7,39.6,8.7]|\n",
      "|[7.8,38.9,50.6]|\n",
      "| [8.4,27.2,2.1]|\n",
      "|  [8.6,2.1,1.0]|\n",
      "|[8.7,48.9,75.0]|\n",
      "+---------------+\n",
      "only showing top 5 rows\n",
      "\n"
     ]
    }
   ],
   "source": [
    "unlabeled_data=test_data.select('features')\n",
    "unlabeled_data.show(5)"
   ],
   "metadata": {
    "collapsed": false,
    "pycharm": {
     "name": "#%%\n"
    }
   }
  },
  {
   "cell_type": "code",
   "execution_count": 121,
   "outputs": [
    {
     "name": "stdout",
     "output_type": "stream",
     "text": [
      "+----------------+------------------+\n",
      "|        features|        prediction|\n",
      "+----------------+------------------+\n",
      "|  [0.7,39.6,8.7]|11.538904559573286|\n",
      "| [7.8,38.9,50.6]|11.612409114866464|\n",
      "|  [8.4,27.2,2.1]| 9.312483609911535|\n",
      "|   [8.6,2.1,1.0]| 4.137699007467506|\n",
      "| [8.7,48.9,75.0]|13.669701502056798|\n",
      "|[11.7,36.9,45.2]|11.372927591418694|\n",
      "|[16.9,43.7,89.4]|12.911821196240528|\n",
      "|[19.6,20.1,17.0]|  8.28687482845256|\n",
      "| [25.6,39.0,9.3]|12.457364723793663|\n",
      "|[26.8,33.0,19.3]|11.249193136247538|\n",
      "| [39.5,41.1,5.8]|13.480369681096906|\n",
      "|[43.0,25.9,20.5]|10.459108106218686|\n",
      "|[44.5,39.3,45.1]|13.243551775293069|\n",
      "|[57.5,32.8,23.5]|12.486536453027663|\n",
      "|[68.4,44.5,35.6]| 15.33743829417622|\n",
      "|  [69.0,9.3,0.9]| 8.156629061599904|\n",
      "|[74.7,49.4,45.7]|16.594578754629964|\n",
      "|[75.3,20.3,32.5]|10.633165231240099|\n",
      "|[76.3,27.5,16.0]|12.193762709652711|\n",
      "|[78.2,46.8,34.5]|16.225380273684095|\n",
      "+----------------+------------------+\n",
      "only showing top 20 rows\n",
      "\n"
     ]
    }
   ],
   "source": [
    "predictions=trained_sales_model.transform(unlabeled_data)\n",
    "predictions.show()"
   ],
   "metadata": {
    "collapsed": false,
    "pycharm": {
     "name": "#%%\n"
    }
   }
  },
  {
   "cell_type": "code",
   "execution_count": 123,
   "outputs": [
    {
     "name": "stdout",
     "output_type": "stream",
     "text": [
      "[-0.00189605  0.04190956  0.20658375]\n"
     ]
    },
    {
     "data": {
      "text/plain": "<Figure size 432x288 with 1 Axes>",
      "image/png": "[encoded data removed]"
     },
     "metadata": {
      "needs_background": "light"
     },
     "output_type": "display_data"
    }
   ],
   "source": [
    "import matplotlib.pyplot as plt\n",
    "import numpy as np\n",
    "beta = np.sort(trained_sales_model.coefficients)\n",
    "print(beta)\n",
    "plt.plot(beta)\n",
    "plt.ylabel('Beta Coefficients')\n",
    "plt.show()"
   ],
   "metadata": {
    "collapsed": false,
    "pycharm": {
     "name": "#%%\n"
    }
   }
  }
 ],
 "metadata": {
  "kernelspec": {
   "name": "pycharm-7bd40b95",
   "language": "python",
   "display_name": "PyCharm (pyspark-nlp)"
  },
  "language_info": {
   "codemirror_mode": {
    "name": "ipython",
    "version": 2
   },
   "file_extension": ".py",
   "mimetype": "text/x-python",
   "name": "python",
   "nbconvert_exporter": "python",
   "pygments_lexer": "ipython2",
   "version": "2.7.6"
  }
 },
 "nbformat": 4,
 "nbformat_minor": 0
}