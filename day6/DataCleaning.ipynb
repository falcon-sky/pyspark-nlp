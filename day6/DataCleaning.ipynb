{
 "cells": [
  {
   "cell_type": "code",
   "execution_count": 65,
   "metadata": {
    "pycharm": {
     "name": "#%%\n"
    }
   },
   "outputs": [],
   "source": [
    "from pyspark.sql import SparkSession\n",
    "\n",
    "spark = SparkSession.builder.getOrCreate()\n"
   ]
  },
  {
   "cell_type": "code",
   "execution_count": 66,
   "metadata": {
    "pycharm": {
     "name": "#%%\n"
    }
   },
   "outputs": [
    {
     "data": {
      "text/plain": "<pyspark.sql.session.SparkSession at 0x7fb6785e37d0>",
      "text/html": "\n            <div>\n                <p><b>SparkSession - in-memory</b></p>\n                \n        <div>\n            <p><b>SparkContext</b></p>\n\n            <p><a href=\"http://192.168.0.5:4041\">Spark UI</a></p>\n\n            <dl>\n              <dt>Version</dt>\n                <dd><code>v3.2.0</code></dd>\n              <dt>Master</dt>\n                <dd><code>local[*]</code></dd>\n              <dt>AppName</dt>\n                <dd><code>pyspark-shell</code></dd>\n            </dl>\n        </div>\n        \n            </div>\n        "
     },
     "execution_count": 66,
     "metadata": {},
     "output_type": "execute_result"
    }
   ],
   "source": [
    "spark"
   ]
  },
  {
   "cell_type": "code",
   "execution_count": 67,
   "metadata": {
    "pycharm": {
     "name": "#%%\n"
    }
   },
   "outputs": [
    {
     "name": "stderr",
     "output_type": "stream",
     "text": [
      "/home/aa100418/anaconda3/lib/python3.7/site-packages/pyspark/sql/context.py:79: FutureWarning: Deprecated in 3.0.0. Use SparkSession.builder.getOrCreate() instead.\n",
      "  FutureWarning\n"
     ]
    }
   ],
   "source": [
    "from pyspark.sql import SQLContext\n",
    "from pyspark.sql.types import *\n",
    "sqlContext = SQLContext(spark)"
   ]
  },
  {
   "cell_type": "code",
   "execution_count": 68,
   "metadata": {
    "pycharm": {
     "name": "#%%\n"
    }
   },
   "outputs": [
    {
     "name": "stdout",
     "output_type": "stream",
     "text": [
      "+------------+---------+--------------------+------+-----+\n",
      "|        Last|    First|            Position|Salary|Hired|\n",
      "+------------+---------+--------------------+------+-----+\n",
      "|         Lew|    Allen|  City Administrator|295000| 2004|\n",
      "|     Sessoms|    Allen|           President|295000| 2008|\n",
      "|     Sessoms|    Allen|           President|295000| 2008|\n",
      "|   HENDERSON|KAYATANYA|Superintendent Of...|275000| 2007|\n",
      "|      Lanier|    Cathy|               Chief|230743| 1990|\n",
      "|       Arons|  Bernard|                null|206000| 2008|\n",
      "|       Arons|  Bernard|                null|206000| 2008|\n",
      "|     Ritchie|  Elspeth|Medical Officer P...|206000| 2010|\n",
      "|        GRAY|     null|               Mayor|200000| 2005|\n",
      "|    Marshall|Katherine|Medical Officer P...|  null| 2008|\n",
      "|      Gandhi|   Natwar|Chief Financial O...|199700| 1997|\n",
      "|      Gandhi|   Natwar|Chief Financial O...|199700| 1997|\n",
      "|      DUNCAN|  LORETTA|Workers Compensat...|197808| 1984|\n",
      "|      Baxter|     null|Act Provost & Vp ...|196257| null|\n",
      "|  Miramontes|    David|    Medical Director|193125| 2011|\n",
      "|      Graves|   Warren|      Chief Of Staff|193125| 2011|\n",
      "|        null|     Eric|  Executive Director|193125| 2007|\n",
      "|       Jones|    Tyler|Medical Officer P...|190550| 2008|\n",
      "|       BROWN|    KWAME|            Chairman|190000| 2005|\n",
      "|        Eure|   Philip|  Executive Director|188692| 2000|\n",
      "|      Cooper|   Ginnie|  Executive Director|188044| 2006|\n",
      "|       Yadao|    Nilda|Medical Officer (...|188027| 1987|\n",
      "|     Ellerbe|  Kenneth|          Fire Chief|187302| 2003|\n",
      "|      Ruland|  Jeffrey|Dir Of The Ctr Fo...|186911| 2009|\n",
      "|      Parker|    Craig|     General Counsel|186918| 2009|\n",
      "|      Farley|     Mark| Vp, Human Resources|186911| 2008|\n",
      "|       Otero|  Beatriz|                null|185000| 2011|\n",
      "|     Quander|     Paul|        Deputy Mayor|185000| 2009|\n",
      "|Pierre Louis|    Marie|Chief Medical Exa...|185000| 1985|\n",
      "|    Pestaner|   Joseph|Medical Officer (...|183892| null|\n",
      "+------------+---------+--------------------+------+-----+\n",
      "only showing top 30 rows\n",
      "\n"
     ]
    }
   ],
   "source": [
    "df = sqlContext.read.load('data/Salaries_cleaning.csv',\n",
    "                      format='com.databricks.spark.csv',\n",
    "                      header='true',\n",
    "                      inferSchema='true')\n",
    "df.show(30)"
   ]
  },
  {
   "cell_type": "markdown",
   "metadata": {
    "pycharm": {
     "name": "#%% md\n"
    }
   },
   "source": [
    "# Handeling empty or null value:"
   ]
  },
  {
   "cell_type": "code",
   "execution_count": 69,
   "metadata": {
    "pycharm": {
     "name": "#%%\n"
    }
   },
   "outputs": [
    {
     "name": "stdout",
     "output_type": "stream",
     "text": [
      "+----------+---------+--------------------+------+-----+\n",
      "|      Last|    First|            Position|Salary|Hired|\n",
      "+----------+---------+--------------------+------+-----+\n",
      "|       Lew|    Allen|  City Administrator|295000| 2004|\n",
      "|   Sessoms|    Allen|           President|295000| 2008|\n",
      "|   Sessoms|    Allen|           President|295000| 2008|\n",
      "| HENDERSON|KAYATANYA|Superintendent Of...|275000| 2007|\n",
      "|    Lanier|    Cathy|               Chief|230743| 1990|\n",
      "|   Ritchie|  Elspeth|Medical Officer P...|206000| 2010|\n",
      "|    Gandhi|   Natwar|Chief Financial O...|199700| 1997|\n",
      "|    Gandhi|   Natwar|Chief Financial O...|199700| 1997|\n",
      "|    DUNCAN|  LORETTA|Workers Compensat...|197808| 1984|\n",
      "|Miramontes|    David|    Medical Director|193125| 2011|\n",
      "|    Graves|   Warren|      Chief Of Staff|193125| 2011|\n",
      "|     Jones|    Tyler|Medical Officer P...|190550| 2008|\n",
      "|     BROWN|    KWAME|            Chairman|190000| 2005|\n",
      "|      Eure|   Philip|  Executive Director|188692| 2000|\n",
      "|    Cooper|   Ginnie|  Executive Director|188044| 2006|\n",
      "|     Yadao|    Nilda|Medical Officer (...|188027| 1987|\n",
      "|   Ellerbe|  Kenneth|          Fire Chief|187302| 2003|\n",
      "|    Ruland|  Jeffrey|Dir Of The Ctr Fo...|186911| 2009|\n",
      "|    Parker|    Craig|     General Counsel|186918| 2009|\n",
      "|    Farley|     Mark| Vp, Human Resources|186911| 2008|\n",
      "+----------+---------+--------------------+------+-----+\n",
      "only showing top 20 rows\n",
      "\n"
     ]
    }
   ],
   "source": [
    "df_drop_empty= df.na.drop()\n",
    "df_drop_empty.show()"
   ]
  },
  {
   "cell_type": "markdown",
   "metadata": {
    "pycharm": {
     "name": "#%% md\n"
    }
   },
   "source": [
    "# Handeling specific row null value"
   ]
  },
  {
   "cell_type": "code",
   "execution_count": 70,
   "metadata": {
    "pycharm": {
     "name": "#%%\n"
    }
   },
   "outputs": [
    {
     "name": "stdout",
     "output_type": "stream",
     "text": [
      "+----------+---------+--------------------+------+-----+\n",
      "|      Last|    First|            Position|Salary|Hired|\n",
      "+----------+---------+--------------------+------+-----+\n",
      "|       Lew|    Allen|  City Administrator|295000| 2004|\n",
      "|   Sessoms|    Allen|           President|295000| 2008|\n",
      "|   Sessoms|    Allen|           President|295000| 2008|\n",
      "| HENDERSON|KAYATANYA|Superintendent Of...|275000| 2007|\n",
      "|    Lanier|    Cathy|               Chief|230743| 1990|\n",
      "|     Arons|  Bernard|                null|206000| 2008|\n",
      "|     Arons|  Bernard|                null|206000| 2008|\n",
      "|   Ritchie|  Elspeth|Medical Officer P...|206000| 2010|\n",
      "|      GRAY|     null|               Mayor|200000| 2005|\n",
      "|    Gandhi|   Natwar|Chief Financial O...|199700| 1997|\n",
      "|    Gandhi|   Natwar|Chief Financial O...|199700| 1997|\n",
      "|    DUNCAN|  LORETTA|Workers Compensat...|197808| 1984|\n",
      "|    Baxter|     null|Act Provost & Vp ...|196257| null|\n",
      "|Miramontes|    David|    Medical Director|193125| 2011|\n",
      "|    Graves|   Warren|      Chief Of Staff|193125| 2011|\n",
      "|      null|     Eric|  Executive Director|193125| 2007|\n",
      "|     Jones|    Tyler|Medical Officer P...|190550| 2008|\n",
      "|     BROWN|    KWAME|            Chairman|190000| 2005|\n",
      "|      Eure|   Philip|  Executive Director|188692| 2000|\n",
      "|    Cooper|   Ginnie|  Executive Director|188044| 2006|\n",
      "+----------+---------+--------------------+------+-----+\n",
      "only showing top 20 rows\n",
      "\n"
     ]
    }
   ],
   "source": [
    "df_drop_salary_null=df.dropna(subset=['Salary'])\n",
    "df_drop_salary_null.show()"
   ]
  },
  {
   "cell_type": "markdown",
   "metadata": {
    "pycharm": {
     "name": "#%% md\n"
    }
   },
   "source": [
    "# Drop using function filter"
   ]
  },
  {
   "cell_type": "code",
   "execution_count": 71,
   "metadata": {
    "pycharm": {
     "name": "#%%\n"
    }
   },
   "outputs": [
    {
     "name": "stdout",
     "output_type": "stream",
     "text": [
      "+----------+---------+--------------------+------+-----+\n",
      "|      Last|    First|            Position|Salary|Hired|\n",
      "+----------+---------+--------------------+------+-----+\n",
      "|       Lew|    Allen|  City Administrator|295000| 2004|\n",
      "|   Sessoms|    Allen|           President|295000| 2008|\n",
      "|   Sessoms|    Allen|           President|295000| 2008|\n",
      "| HENDERSON|KAYATANYA|Superintendent Of...|275000| 2007|\n",
      "|    Lanier|    Cathy|               Chief|230743| 1990|\n",
      "|   Ritchie|  Elspeth|Medical Officer P...|206000| 2010|\n",
      "|      GRAY|     null|               Mayor|200000| 2005|\n",
      "|  Marshall|Katherine|Medical Officer P...|  null| 2008|\n",
      "|    Gandhi|   Natwar|Chief Financial O...|199700| 1997|\n",
      "|    Gandhi|   Natwar|Chief Financial O...|199700| 1997|\n",
      "|    DUNCAN|  LORETTA|Workers Compensat...|197808| 1984|\n",
      "|    Baxter|     null|Act Provost & Vp ...|196257| null|\n",
      "|Miramontes|    David|    Medical Director|193125| 2011|\n",
      "|    Graves|   Warren|      Chief Of Staff|193125| 2011|\n",
      "|      null|     Eric|  Executive Director|193125| 2007|\n",
      "|     Jones|    Tyler|Medical Officer P...|190550| 2008|\n",
      "|     BROWN|    KWAME|            Chairman|190000| 2005|\n",
      "|      Eure|   Philip|  Executive Director|188692| 2000|\n",
      "|    Cooper|   Ginnie|  Executive Director|188044| 2006|\n",
      "|     Yadao|    Nilda|Medical Officer (...|188027| 1987|\n",
      "+----------+---------+--------------------+------+-----+\n",
      "only showing top 20 rows\n",
      "\n"
     ]
    }
   ],
   "source": [
    "df_null_position= df.filter(df.Position.isNotNull())\n",
    "df_null_position.show()"
   ]
  },
  {
   "cell_type": "markdown",
   "metadata": {
    "pycharm": {
     "name": "#%% md\n"
    }
   },
   "source": [
    "# Replacing Null Value"
   ]
  },
  {
   "cell_type": "code",
   "execution_count": 72,
   "metadata": {
    "pycharm": {
     "name": "#%%\n"
    }
   },
   "outputs": [
    {
     "name": "stdout",
     "output_type": "stream",
     "text": [
      "+----------+---------+--------------------+------+-----+\n",
      "|      Last|    First|            Position|Salary|Hired|\n",
      "+----------+---------+--------------------+------+-----+\n",
      "|       Lew|    Allen|  City Administrator|295000| 2004|\n",
      "|   Sessoms|    Allen|           President|295000| 2008|\n",
      "|   Sessoms|    Allen|           President|295000| 2008|\n",
      "| HENDERSON|KAYATANYA|Superintendent Of...|275000| 2007|\n",
      "|    Lanier|    Cathy|               Chief|230743| 1990|\n",
      "|     Arons|  Bernard|                null|206000| 2008|\n",
      "|     Arons|  Bernard|                null|206000| 2008|\n",
      "|   Ritchie|  Elspeth|Medical Officer P...|206000| 2010|\n",
      "|      GRAY|     null|               Mayor|200000| 2005|\n",
      "|  Marshall|Katherine|Medical Officer P...|     0| 2008|\n",
      "|    Gandhi|   Natwar|Chief Financial O...|199700| 1997|\n",
      "|    Gandhi|   Natwar|Chief Financial O...|199700| 1997|\n",
      "|    DUNCAN|  LORETTA|Workers Compensat...|197808| 1984|\n",
      "|    Baxter|     null|Act Provost & Vp ...|196257| null|\n",
      "|Miramontes|    David|    Medical Director|193125| 2011|\n",
      "|    Graves|   Warren|      Chief Of Staff|193125| 2011|\n",
      "|      null|     Eric|  Executive Director|193125| 2007|\n",
      "|     Jones|    Tyler|Medical Officer P...|190550| 2008|\n",
      "|     BROWN|    KWAME|            Chairman|190000| 2005|\n",
      "|      Eure|   Philip|  Executive Director|188692| 2000|\n",
      "+----------+---------+--------------------+------+-----+\n",
      "only showing top 20 rows\n",
      "\n"
     ]
    }
   ],
   "source": [
    "df_fill=df.fillna(0,subset=['Salary'])\n",
    "df_fill.show()"
   ]
  },
  {
   "cell_type": "markdown",
   "metadata": {
    "pycharm": {
     "name": "#%% md\n"
    }
   },
   "source": [
    "# Replacing String"
   ]
  },
  {
   "cell_type": "code",
   "execution_count": 73,
   "metadata": {
    "pycharm": {
     "name": "#%%\n"
    }
   },
   "outputs": [
    {
     "name": "stdout",
     "output_type": "stream",
     "text": [
      "+----------+---------+--------------------+------+-----+\n",
      "|      Last|    First|            Position|Salary|Hired|\n",
      "+----------+---------+--------------------+------+-----+\n",
      "|       Lew|    Allen|  City Administrator|295000| 2004|\n",
      "|   Sessoms|    Allen|           President|295000| 2008|\n",
      "|   Sessoms|    Allen|           President|295000| 2008|\n",
      "| HENDERSON|KAYATANYA|Superintendent Of...|275000| 2007|\n",
      "|    Lanier|    Cathy|               Chief|230743| 1990|\n",
      "|     Arons|  Bernard|             Unknown|206000| 2008|\n",
      "|     Arons|  Bernard|             Unknown|206000| 2008|\n",
      "|   Ritchie|  Elspeth|Medical Officer P...|206000| 2010|\n",
      "|      GRAY|     null|               Mayor|200000| 2005|\n",
      "|  Marshall|Katherine|Medical Officer P...|  null| 2008|\n",
      "|    Gandhi|   Natwar|Chief Financial O...|199700| 1997|\n",
      "|    Gandhi|   Natwar|Chief Financial O...|199700| 1997|\n",
      "|    DUNCAN|  LORETTA|Workers Compensat...|197808| 1984|\n",
      "|    Baxter|     null|Act Provost & Vp ...|196257| null|\n",
      "|Miramontes|    David|    Medical Director|193125| 2011|\n",
      "|    Graves|   Warren|      Chief Of Staff|193125| 2011|\n",
      "|      null|     Eric|  Executive Director|193125| 2007|\n",
      "|     Jones|    Tyler|Medical Officer P...|190550| 2008|\n",
      "|     BROWN|    KWAME|            Chairman|190000| 2005|\n",
      "|      Eure|   Philip|  Executive Director|188692| 2000|\n",
      "+----------+---------+--------------------+------+-----+\n",
      "only showing top 20 rows\n",
      "\n"
     ]
    }
   ],
   "source": [
    "from pyspark.sql.functions import *\n",
    "df_position_handle=df.withColumn(\"Position\",when(df.Position.isNull(),'Unknown').otherwise(df.Position))\n",
    "df_position_handle.show()"
   ]
  },
  {
   "cell_type": "markdown",
   "metadata": {
    "pycharm": {
     "name": "#%% md\n"
    }
   },
   "source": [
    "# dropduplicates()"
   ]
  },
  {
   "cell_type": "code",
   "execution_count": 81,
   "outputs": [
    {
     "name": "stdout",
     "output_type": "stream",
     "text": [
      "+--------------+-----------+--------------------+------+-----+\n",
      "|          Last|      First|            Position|Salary|Hired|\n",
      "+--------------+-----------+--------------------+------+-----+\n",
      "|           Lew|      Allen|  City Administrator|295000| 2004|\n",
      "|       Sessoms|      Allen|           President|295000| 2008|\n",
      "|       Sessoms|      Allen|           President|295000| 2008|\n",
      "|     HENDERSON|  KAYATANYA|Superintendent Of...|275000| 2007|\n",
      "|        Lanier|      Cathy|               Chief|230743| 1990|\n",
      "|       Ritchie|    Elspeth|Medical Officer P...|206000| 2010|\n",
      "|        Gandhi|     Natwar|Chief Financial O...|199700| 1997|\n",
      "|        Gandhi|     Natwar|Chief Financial O...|199700| 1997|\n",
      "|        DUNCAN|    LORETTA|Workers Compensat...|197808| 1984|\n",
      "|    Miramontes|      David|    Medical Director|193125| 2011|\n",
      "|        Graves|     Warren|      Chief Of Staff|193125| 2011|\n",
      "|         Jones|      Tyler|Medical Officer P...|190550| 2008|\n",
      "|         BROWN|      KWAME|            Chairman|190000| 2005|\n",
      "|          Eure|     Philip|  Executive Director|188692| 2000|\n",
      "|        Cooper|     Ginnie|  Executive Director|188044| 2006|\n",
      "|         Yadao|      Nilda|Medical Officer (...|188027| 1987|\n",
      "|       Ellerbe|    Kenneth|          Fire Chief|187302| 2003|\n",
      "|        Ruland|    Jeffrey|Dir Of The Ctr Fo...|186911| 2009|\n",
      "|        Parker|      Craig|     General Counsel|186918| 2009|\n",
      "|        Farley|       Mark| Vp, Human Resources|186911| 2008|\n",
      "|       Quander|       Paul|        Deputy Mayor|185000| 2009|\n",
      "|  Pierre Louis|      Marie|Chief Medical Exa...|185000| 1985|\n",
      "|     Revercomb|    Carolyn|Medical Officer (...|183892| 2005|\n",
      "|Morgan Johnson|     Sheila|Chief Investment ...|183677| 1991|\n",
      "|    Williamson|    Michael|     Deputy Director| 18200| 2011|\n",
      "|         White|     Mattie|Medical Officer (...|180604| 1989|\n",
      "|          Park|      Kyung|Medical Officer (...|180604| 1987|\n",
      "|     Raczynski|Christopher|Medical Officer P...|180000| 2011|\n",
      "|        Colvin|      Sarah|Deputy Chief Medi...|180000| 2000|\n",
      "|       Prashar|      Sunil|Medical Officer (...|179699| 2009|\n",
      "|        Stokes|      Shawn|Director, Dept Of...|179096| 2011|\n",
      "|        Murphy|Christopher|      Chief Of Staff|179096| 2011|\n",
      "|        Nathan|      Irvin| Attorney Gen For Dc|179096| 2011|\n",
      "|        Greene|   Jennifer|     Acting Director|179096| 1982|\n",
      "|        Akhter|   Mohammad|Director Departme...|179096| 1991|\n",
      "|       Turnage|      Wayne|            Director|179096| 2011|\n",
      "|       Mahaley|    Hosanna|State Superintend...|179096| 2011|\n",
      "|       Hoskins|     Victor|Deputy Mayor Plan...|179096| 2011|\n",
      "|        Wright|   De'Shawn| Acting Deputy Mayor|179096| 2011|\n",
      "|       Sampson|       Erie|     General Counsel|178500| 2008|\n",
      "|        Durham|     Alfred|      Chief Of Staff|178178| 1987|\n",
      "|      Graubart|     Steven|Managing Dir Of F...|178010| 2009|\n",
      "|      Gueverra|   Jonathan|Ceo, Community Co...|178010| 2009|\n",
      "|         Baron|    Stephen|Director Of Menta...|177650| 2006|\n",
      "|         Dines|     George|                null|176000| 1999|\n",
      "|     Mohyuddin|     Farooq|Medical Officer P...|175100| 2000|\n",
      "|    WHITEFIELD|     STEVEN|Medical Officer P...|175100| 2006|\n",
      "|        Carter|     Bennie|Medical Officer (...|174417| 1988|\n",
      "|        Cooper|      Betsy|Medical Officer (...|174417| 1987|\n",
      "|       Stiller|       John|Medical Officer N...|174417| 2001|\n",
      "+--------------+-----------+--------------------+------+-----+\n",
      "only showing top 50 rows\n",
      "\n"
     ]
    }
   ],
   "source": [
    "df_drop_empty.show(50)"
   ],
   "metadata": {
    "collapsed": false,
    "pycharm": {
     "name": "#%%\n"
    }
   }
  },
  {
   "cell_type": "code",
   "execution_count": 74,
   "outputs": [
    {
     "name": "stdout",
     "output_type": "stream",
     "text": [
      "+----------------+----------+--------------------+------+-----+\n",
      "|            Last|     First|            Position|Salary|Hired|\n",
      "+----------------+----------+--------------------+------+-----+\n",
      "|          Gandhi|    Natwar|Chief Financial O...|199700| 1997|\n",
      "|     BROCK-SMITH|   CYNTHIA|            Director|140000| 2007|\n",
      "|          Viteri|   Gustavo|Director Of Infor...|132757| 2003|\n",
      "|            Teal|  Arabella|Administrative La...|129325| 2005|\n",
      "|           WELLS|    THOMAS|       Councilmember|125583| 2007|\n",
      "|           Blair|     Keith| Associate Professor|115000| 2010|\n",
      "|  Cheatham Woods|    Rhonda|Chief Management ...|110587| 1996|\n",
      "|         MCINNIS|   JEFFREY|Detained Programs...|108883| 2005|\n",
      "|        PRESSLEY|     DONNA|           Principal|107416| 1988|\n",
      "|          Hanley|    Nicole|Innovative Family...|107000| 2005|\n",
      "|           Hicks|    Tiwana|     Program Manager|106254| 2004|\n",
      "|            Gray|     Derek|          Lieutenant|103860| 1989|\n",
      "|         MULLINS|  MARGARET|             Teacher|101466| 1987|\n",
      "|   COCKBURN BEST|     PERLA|             Teacher| 98425| 1986|\n",
      "|            Finn|   Emanuel|Oral Hlth Program...| 97613| 2002|\n",
      "|            RICH|  DEANGELA|             Teacher| 96038| 1989|\n",
      "|         GILLIAM|     SARAH|             Teacher| 96038| 1987|\n",
      "|         BRADLEY|   DEBORAH|             Teacher| 96038| 1989|\n",
      "|         SNOWDEN|JACQUELINE|             Teacher| 96038| 1987|\n",
      "|         Alleyne|     Betty|      Fiscal Analyst| 94182| 2005|\n",
      "|        Calmeise|     Karen|Administrative La...| 93286| 2001|\n",
      "|    Cobbs Sterns|   Nichole|Social Worker Pro...| 92530| 1996|\n",
      "|        WILLIAMS|   TERRELL|             Teacher| 91867| 2003|\n",
      "|       Dickerson|  Patricia|      Grants Manager| 91346| 2009|\n",
      "|           MOORE|    SERETA| Assistant Principal| 89645| 2000|\n",
      "|  EASTMAN AJAERO|     EDITH|             Teacher| 88203| 1980|\n",
      "|          Duryea|      Kirk|Information Techn...| 88166| 2010|\n",
      "|          Morton|     Julia|     Project Manager| 87832| 2010|\n",
      "|         Sarigol|     Leyla|     Project Manager| 87832| 2009|\n",
      "|          Wilson|     Wanda|       Social Worker| 86482| 2003|\n",
      "|        Westfall|     Edith|Dep Dir Of Wf Dev...| 83844| 2009|\n",
      "|         SKELTON|    ANGELA| Executive Assistant| 83485| 1987|\n",
      "|       Whitfield|    Harold|Public Health Ana...| 82286| 1986|\n",
      "|          Bowman|    Joseph|      Budget Analyst| 82091| 2002|\n",
      "|          Crespo|      Joey|           Detective| 80243| 1990|\n",
      "|           Payne|     Wanda|Fishery Licensure...| 80188| 1986|\n",
      "|        Williams|    Yvonne|       Social Worker| 80000| 2008|\n",
      "|         Onwuche| Valentine|      Policy Advisor| 78934| 1998|\n",
      "|        Williams|   Johnnie|             Officer| 78743| 1989|\n",
      "|         Stewart|   Maurice|             Officer| 78743| 1986|\n",
      "|          Thomas|     James|             Officer| 78743| 1990|\n",
      "|           Wells|      Faye|             Officer| 78743| 1987|\n",
      "|          Deoleo|    Hector|             Officer| 78743| 1990|\n",
      "|           Brown|    Dorise|             Officer| 78743| 1989|\n",
      "|         Brandon|   William|             Officer| 78743| 1988|\n",
      "|Jernigan Pedrick|    Velora|Health Science Li...| 78728| 1994|\n",
      "|        Blackmon|    Ronald|Information Techn...| 77884| 2010|\n",
      "|         Perkins|     Carla|             Trainer| 77884| 2005|\n",
      "|         SANDERS|         H|Dean Of Students ...| 77822| 1998|\n",
      "|           JAMES|     LINDA|           Counselor| 77462| 1997|\n",
      "+----------------+----------+--------------------+------+-----+\n",
      "only showing top 50 rows\n",
      "\n"
     ]
    }
   ],
   "source": [
    "df_drop_empty.dropDuplicates().show(50)"
   ],
   "metadata": {
    "collapsed": false,
    "pycharm": {
     "name": "#%%\n"
    }
   }
  },
  {
   "cell_type": "markdown",
   "metadata": {
    "pycharm": {
     "name": "#%% md\n"
    }
   },
   "source": [
    "# Handeling upper lower case consistency"
   ]
  },
  {
   "cell_type": "code",
   "execution_count": 75,
   "metadata": {
    "pycharm": {
     "name": "#%%\n"
    }
   },
   "outputs": [
    {
     "name": "stdout",
     "output_type": "stream",
     "text": [
      "+--------------------+\n",
      "|     lower(Position)|\n",
      "+--------------------+\n",
      "|  city administrator|\n",
      "|           president|\n",
      "|           president|\n",
      "|superintendent of...|\n",
      "|               chief|\n",
      "|                null|\n",
      "|                null|\n",
      "|medical officer p...|\n",
      "|               mayor|\n",
      "|medical officer p...|\n",
      "|chief financial o...|\n",
      "|chief financial o...|\n",
      "|workers compensat...|\n",
      "|act provost & vp ...|\n",
      "|    medical director|\n",
      "|      chief of staff|\n",
      "|  executive director|\n",
      "|medical officer p...|\n",
      "|            chairman|\n",
      "|  executive director|\n",
      "+--------------------+\n",
      "only showing top 20 rows\n",
      "\n"
     ]
    }
   ],
   "source": [
    "df_lower = df.select(lower(df.Position))\n",
    "df_lower.show()"
   ]
  },
  {
   "cell_type": "markdown",
   "metadata": {
    "pycharm": {
     "name": "#%% md\n"
    }
   },
   "source": [
    "# Handeling noise data anamoly detection"
   ]
  },
  {
   "cell_type": "code",
   "execution_count": 76,
   "metadata": {
    "pycharm": {
     "name": "#%%\n"
    }
   },
   "outputs": [],
   "source": [
    "import numpy as np\n",
    "import matplotlib.pyplot as plt\n",
    "pdf = df_drop_salary_null.toPandas()"
   ]
  },
  {
   "cell_type": "code",
   "execution_count": 77,
   "metadata": {
    "pycharm": {
     "name": "#%%\n"
    }
   },
   "outputs": [
    {
     "data": {
      "text/plain": "(33425, 5)"
     },
     "execution_count": 77,
     "metadata": {},
     "output_type": "execute_result"
    }
   ],
   "source": [
    "pdf.head(20)\n",
    "pdf.shape"
   ]
  },
  {
   "cell_type": "code",
   "execution_count": 78,
   "metadata": {
    "pycharm": {
     "name": "#%%\n"
    }
   },
   "outputs": [
    {
     "name": "stdout",
     "output_type": "stream",
     "text": [
      "33425\n"
     ]
    },
    {
     "data": {
      "text/plain": "<Figure size 432x288 with 1 Axes>",
      "image/png": "[encoded data removed]"
     },
     "metadata": {
      "needs_background": "light"
     },
     "output_type": "display_data"
    }
   ],
   "source": [
    "salary = pdf[\"Salary\"].values\n",
    "x_ax = range(salary.size)\n",
    "print(salary.size)\n",
    "plt.plot(x_ax, salary)\n",
    "plt.show()"
   ]
  },
  {
   "cell_type": "code",
   "execution_count": 79,
   "metadata": {},
   "outputs": [
    {
     "data": {
      "text/plain": "array([295000, 295000, 295000, ...,      8,      8,      7], dtype=int32)"
     },
     "execution_count": 79,
     "metadata": {},
     "output_type": "execute_result"
    }
   ],
   "source": [
    "salary"
   ]
  },
  {
   "cell_type": "code",
   "execution_count": 80,
   "metadata": {
    "pycharm": {
     "name": "#%%\n"
    }
   },
   "outputs": [
    {
     "name": "stdout",
     "output_type": "stream",
     "text": [
      "                                       Salary\n",
      "Position                                     \n",
      "311 Operations Team Leader       50778.750000\n",
      "4-h Extension Specialist         60379.000000\n",
      "9-1-1 Coordinator               107531.000000\n",
      "A/c Equip Mechanic                  29.714286\n",
      "A/c Equipment Mechanic           35216.000000\n",
      "...                                       ...\n",
      "Ysupervisory Workers Comp Clai   84484.000000\n",
      "Zoning Administrator            129535.000000\n",
      "Zoning Data Coordinator          68319.000000\n",
      "Zoning Specialist                86919.666667\n",
      "null                            176000.000000\n",
      "\n",
      "[2624 rows x 1 columns]\n"
     ]
    }
   ],
   "source": [
    "print(pdf.groupby('Position').agg({'Salary':'mean'}))\n"
   ]
  }
 ],
 "metadata": {
  "kernelspec": {
   "display_name": "PyCharm (pyspark-nlp)",
   "language": "python",
   "name": "pycharm-7bd40b95"
  },
  "language_info": {
   "codemirror_mode": {
    "name": "ipython",
    "version": 3
   },
   "file_extension": ".py",
   "mimetype": "text/x-python",
   "name": "python",
   "nbconvert_exporter": "python",
   "pygments_lexer": "ipython3",
   "version": "3.7.6"
  }
 },
 "nbformat": 4,
 "nbformat_minor": 1
}